{
 "cells": [
  {
   "cell_type": "markdown",
   "metadata": {},
   "source": [
    "## LSTM using Tensorflow"
   ]
  },
  {
   "cell_type": "code",
   "execution_count": 1,
   "metadata": {},
   "outputs": [
    {
     "name": "stderr",
     "output_type": "stream",
     "text": [
      "c:\\users\\hare krishna\\appdata\\local\\programs\\python\\python35\\lib\\site-packages\\h5py\\__init__.py:34: FutureWarning: Conversion of the second argument of issubdtype from `float` to `np.floating` is deprecated. In future, it will be treated as `np.float64 == np.dtype(float).type`.\n",
      "  from ._conv import register_converters as _register_converters\n"
     ]
    }
   ],
   "source": [
    "# Import Dependencies\n",
    "import numpy as np\n",
    "import tensorflow as tf\n",
    "import matplotlib.pyplot as plt\n",
    "%matplotlib inline"
   ]
  },
  {
   "cell_type": "code",
   "execution_count": 2,
   "metadata": {},
   "outputs": [],
   "source": [
    "# Create a Class for Generating Data and sending it in Batches\n",
    "class TimeSeriesData():\n",
    "    # Initialize all Variables and get Sample Values for Sine wave\n",
    "    def __init__(self, num_points, xmin, xmax):\n",
    "        self.xmin = xmin\n",
    "        self.xmax = xmax\n",
    "        self.num_points = num_points\n",
    "        # Get resolution of data\n",
    "        self.resolution = (xmax-xmin)/num_points\n",
    "        # Generate Features i.e. data points\n",
    "        self.X = np.linspace(xmin, xmax, num_points)\n",
    "        # Generate Labels i.e. sine wave using data points\n",
    "        self.y = np.sin(self.X)\n",
    "        \n",
    "    # Takes in any series of x values and returns true sine value for x_series\n",
    "    def ret_true(self, x_series):\n",
    "        return np.sin(x_series)\n",
    "    \n",
    "    # Generate Batches of Data\n",
    "    def next_batch(self, batch_size, steps, return_batch_ts=False):\n",
    "        # Grab a random starting point for each point of data\n",
    "        # Generate some random values\n",
    "        rand_start = np.random.rand(batch_size,1)\n",
    "        \n",
    "        # Convert it to be on Time Series\n",
    "        # Since the generated random values might not lie on the actual time series, so preprocess it to lie on the time series graph.\n",
    "        ts_start = rand_start * (self.xmax - self.xmin - (steps * self.resolution)) \n",
    "        \n",
    "        # Create batch time series on x axis\n",
    "        batch_ts = ts_start + np.arange(0.0, steps + 1) * self.resolution\n",
    "                                 \n",
    "        # Create the y data for time series x axis from previous step\n",
    "        y_batch = np.sin(batch_ts)\n",
    "        \n",
    "        # Format data for input to a RNN\n",
    "        if return_batch_ts:\n",
    "            return y_batch[:,:-1].reshape(-1,steps,1), y_batch[:,1:].reshape(-1,steps,1), batch_ts\n",
    "        else:\n",
    "            return y_batch[:,:-1].reshape(-1,steps,1), y_batch[:,1:].reshape(-1,steps,1)"
   ]
  },
  {
   "cell_type": "code",
   "execution_count": 3,
   "metadata": {},
   "outputs": [],
   "source": [
    "# Test out the Functions in Class Above\n",
    "ts_data = TimeSeriesData(num_points=250, xmin=0, xmax=10)"
   ]
  },
  {
   "cell_type": "code",
   "execution_count": 4,
   "metadata": {},
   "outputs": [
    {
     "data": {
      "text/plain": [
       "[<matplotlib.lines.Line2D at 0x18a66067cc0>]"
      ]
     },
     "execution_count": 4,
     "metadata": {},
     "output_type": "execute_result"
    },
    {
     "data": {
      "image/png": "[encoded data removed]",
      "text/plain": [
       "<matplotlib.figure.Figure at 0x18a64022be0>"
      ]
     },
     "metadata": {},
     "output_type": "display_data"
    }
   ],
   "source": [
    "plt.plot(ts_data.X, ts_data.y)"
   ]
  },
  {
   "cell_type": "code",
   "execution_count": 5,
   "metadata": {},
   "outputs": [],
   "source": [
    "# Each Random batch with 30 steps\n",
    "num_time_steps = 30"
   ]
  },
  {
   "cell_type": "code",
   "execution_count": 6,
   "metadata": {},
   "outputs": [],
   "source": [
    "y1, y2, ts = ts_data.next_batch(batch_size=1, steps=num_time_steps, return_batch_ts=True)"
   ]
  },
  {
   "cell_type": "code",
   "execution_count": 7,
   "metadata": {},
   "outputs": [
    {
     "data": {
      "text/plain": [
       "(1, 31)"
      ]
     },
     "execution_count": 7,
     "metadata": {},
     "output_type": "execute_result"
    }
   ],
   "source": [
    "ts.shape"
   ]
  },
  {
   "cell_type": "code",
   "execution_count": 8,
   "metadata": {},
   "outputs": [
    {
     "data": {
      "text/plain": [
       "array([8.21665634, 8.25665634, 8.29665634, 8.33665634, 8.37665634,\n",
       "       8.41665634, 8.45665634, 8.49665634, 8.53665634, 8.57665634,\n",
       "       8.61665634, 8.65665634, 8.69665634, 8.73665634, 8.77665634,\n",
       "       8.81665634, 8.85665634, 8.89665634, 8.93665634, 8.97665634,\n",
       "       9.01665634, 9.05665634, 9.09665634, 9.13665634, 9.17665634,\n",
       "       9.21665634, 9.25665634, 9.29665634, 9.33665634, 9.37665634,\n",
       "       9.41665634])"
      ]
     },
     "execution_count": 8,
     "metadata": {},
     "output_type": "execute_result"
    }
   ],
   "source": [
    "ts.flatten()"
   ]
  },
  {
   "cell_type": "code",
   "execution_count": 9,
   "metadata": {},
   "outputs": [
    {
     "data": {
      "text/plain": [
       "(31,)"
      ]
     },
     "execution_count": 9,
     "metadata": {},
     "output_type": "execute_result"
    }
   ],
   "source": [
    "ts.flatten().shape"
   ]
  },
  {
   "cell_type": "code",
   "execution_count": 10,
   "metadata": {},
   "outputs": [
    {
     "data": {
      "text/plain": [
       "array([[8.21665634, 8.25665634, 8.29665634, 8.33665634, 8.37665634,\n",
       "        8.41665634, 8.45665634, 8.49665634, 8.53665634, 8.57665634,\n",
       "        8.61665634, 8.65665634, 8.69665634, 8.73665634, 8.77665634,\n",
       "        8.81665634, 8.85665634, 8.89665634, 8.93665634, 8.97665634,\n",
       "        9.01665634, 9.05665634, 9.09665634, 9.13665634, 9.17665634,\n",
       "        9.21665634, 9.25665634, 9.29665634, 9.33665634, 9.37665634,\n",
       "        9.41665634]])"
      ]
     },
     "execution_count": 10,
     "metadata": {},
     "output_type": "execute_result"
    }
   ],
   "source": [
    "ts"
   ]
  },
  {
   "cell_type": "code",
   "execution_count": 11,
   "metadata": {},
   "outputs": [
    {
     "data": {
      "text/plain": [
       "[<matplotlib.lines.Line2D at 0x18a660e2160>]"
      ]
     },
     "execution_count": 11,
     "metadata": {},
     "output_type": "execute_result"
    },
    {
     "data": {
      "image/png": "[encoded data removed]",
      "text/plain": [
       "<matplotlib.figure.Figure at 0x18a660aba20>"
      ]
     },
     "metadata": {},
     "output_type": "display_data"
    }
   ],
   "source": [
    "plt.plot(ts.flatten()[1:], y2.flatten(), '*')"
   ]
  },
  {
   "cell_type": "code",
   "execution_count": 12,
   "metadata": {},
   "outputs": [
    {
     "data": {
      "image/png": "[encoded data removed]",
      "text/plain": [
       "<matplotlib.figure.Figure at 0x18a660affd0>"
      ]
     },
     "metadata": {},
     "output_type": "display_data"
    }
   ],
   "source": [
    "plt.plot(ts_data.X, ts_data.y, label='Sin(t)')\n",
    "plt.plot(ts.flatten()[1:], y2.flatten(), '*', label='Single Training Instance')\n",
    "plt.legend()\n",
    "plt.tight_layout()"
   ]
  },
  {
   "cell_type": "markdown",
   "metadata": {},
   "source": [
    "### Training Data Visualization"
   ]
  },
  {
   "cell_type": "code",
   "execution_count": 13,
   "metadata": {},
   "outputs": [],
   "source": [
    "# Create a training Instance i.e. Generate values for training\n",
    "train_inst = np.linspace(5, 5 + ts_data.resolution * (num_time_steps + 1), num_time_steps + 1)"
   ]
  },
  {
   "cell_type": "code",
   "execution_count": 14,
   "metadata": {},
   "outputs": [
    {
     "data": {
      "text/plain": [
       "array([5.        , 5.04133333, 5.08266667, 5.124     , 5.16533333,\n",
       "       5.20666667, 5.248     , 5.28933333, 5.33066667, 5.372     ,\n",
       "       5.41333333, 5.45466667, 5.496     , 5.53733333, 5.57866667,\n",
       "       5.62      , 5.66133333, 5.70266667, 5.744     , 5.78533333,\n",
       "       5.82666667, 5.868     , 5.90933333, 5.95066667, 5.992     ,\n",
       "       6.03333333, 6.07466667, 6.116     , 6.15733333, 6.19866667,\n",
       "       6.24      ])"
      ]
     },
     "execution_count": 14,
     "metadata": {},
     "output_type": "execute_result"
    }
   ],
   "source": [
    "train_inst"
   ]
  },
  {
   "cell_type": "code",
   "execution_count": 15,
   "metadata": {},
   "outputs": [
    {
     "data": {
      "image/png": "[encoded data removed]",
      "text/plain": [
       "<matplotlib.figure.Figure at 0x18a660feb70>"
      ]
     },
     "metadata": {},
     "output_type": "display_data"
    }
   ],
   "source": [
    "# Plot the Training Data\n",
    "plt.title('Training Instance')\n",
    "# Plot Training Data\n",
    "plt.plot(train_inst[:-1], ts_data.ret_true(train_inst[:-1]), 'bo', markersize=15, alpha=0.5, label='Training Instance')\n",
    "# Plot Time Shifted Data imitating the point value from Trained Model\n",
    "plt.plot(train_inst[1:], ts_data.ret_true(train_inst[1:]), 'ko', markersize=7, label='Target')\n",
    "plt.legend()\n",
    "plt.tight_layout()"
   ]
  },
  {
   "cell_type": "markdown",
   "metadata": {},
   "source": [
    "### Creating the RNN Model"
   ]
  },
  {
   "cell_type": "code",
   "execution_count": 16,
   "metadata": {},
   "outputs": [],
   "source": [
    "tf.reset_default_graph()"
   ]
  },
  {
   "cell_type": "code",
   "execution_count": 17,
   "metadata": {},
   "outputs": [],
   "source": [
    "# Define Constants\n",
    "# Input : X\n",
    "num_inputs = 1\n",
    "\n",
    "# Neurons in Hidden Layer\n",
    "num_neurons = 100\n",
    "\n",
    "# Number of Outputs Required\n",
    "num_outputs = 1\n",
    "\n",
    "# Learning Rate\n",
    "lr = 0.001\n",
    "\n",
    "# Number of Training Iterations\n",
    "num_iters = 2000\n",
    "\n",
    "# Batch Size\n",
    "batch_size = 1"
   ]
  },
  {
   "cell_type": "code",
   "execution_count": 18,
   "metadata": {},
   "outputs": [],
   "source": [
    "# Placeholders\n",
    "# Features: X\n",
    "# Shape = [Batch Size, Number of Time Steps i.e. No. of RNN Units, Number of Inputs]\n",
    "#       = [1, 30, 1] i.e. 30 values as input into 30 RNN units.\n",
    "X = tf.placeholder(tf.float32, shape=[None, num_time_steps, num_inputs])\n",
    "\n",
    "# Labels\n",
    "y = tf.placeholder(tf.float32, shape=[None, num_time_steps, num_outputs])"
   ]
  },
  {
   "cell_type": "code",
   "execution_count": 19,
   "metadata": {},
   "outputs": [],
   "source": [
    "# Create RNN Cell Layer\n",
    "# Since, we want only one output and not 100 using 100 neurons in hidden layer, we wrap the rnn model into output wrapper\n",
    "lstm_model = tf.contrib.rnn.OutputProjectionWrapper(tf.contrib.rnn.BasicLSTMCell(num_units=num_neurons, activation=tf.nn.relu), output_size=num_outputs)"
   ]
  },
  {
   "cell_type": "code",
   "execution_count": 20,
   "metadata": {},
   "outputs": [],
   "source": [
    "# Get Output of RNN Cell\n",
    "# Performs dynamic unrolling of RNN cells\n",
    "outputs, states = tf.nn.dynamic_rnn(lstm_model, X, dtype=tf.float32)"
   ]
  },
  {
   "cell_type": "code",
   "execution_count": 21,
   "metadata": {},
   "outputs": [],
   "source": [
    "# Loss Function: MSE\n",
    "loss = tf.reduce_mean(tf.square(outputs-y))\n",
    "\n",
    "# Optimizer\n",
    "optimizer = tf.train.AdamOptimizer(learning_rate=lr).minimize(loss)"
   ]
  },
  {
   "cell_type": "code",
   "execution_count": 22,
   "metadata": {},
   "outputs": [],
   "source": [
    "init = tf.global_variables_initializer()"
   ]
  },
  {
   "cell_type": "code",
   "execution_count": 23,
   "metadata": {},
   "outputs": [],
   "source": [
    "# Save Trained Model\n",
    "save_model = tf.train.Saver()"
   ]
  },
  {
   "cell_type": "code",
   "execution_count": 24,
   "metadata": {},
   "outputs": [
    {
     "name": "stdout",
     "output_type": "stream",
     "text": [
      "STEP: 0, ERROR: 0.745770275592804\n",
      "STEP: 100, ERROR: 0.024820635095238686\n",
      "STEP: 200, ERROR: 0.03606242686510086\n",
      "STEP: 300, ERROR: 0.023157170042395592\n",
      "STEP: 400, ERROR: 0.0011903675040230155\n",
      "STEP: 500, ERROR: 0.0022205461282283068\n",
      "STEP: 600, ERROR: 0.015271555632352829\n",
      "STEP: 700, ERROR: 0.00899113155901432\n",
      "STEP: 800, ERROR: 0.0021449020132422447\n",
      "STEP: 900, ERROR: 0.0022788504138588905\n",
      "STEP: 1000, ERROR: 0.0008640565210953355\n",
      "STEP: 1100, ERROR: 0.0038399912882596254\n",
      "STEP: 1200, ERROR: 0.002718545962125063\n",
      "STEP: 1300, ERROR: 0.0013727006735280156\n",
      "STEP: 1400, ERROR: 0.00045106475590728223\n",
      "STEP: 1500, ERROR: 4.8174413677770644e-05\n",
      "STEP: 1600, ERROR: 9.890734509099275e-05\n",
      "STEP: 1700, ERROR: 0.00040442231693305075\n",
      "STEP: 1800, ERROR: 0.00011667965009110048\n",
      "STEP: 1900, ERROR: 0.000272206321824342\n",
      "STEP: 1999, ERROR: 0.000272206321824342\n"
     ]
    }
   ],
   "source": [
    "# Run RNN in Session\n",
    "with tf.Session() as sess:\n",
    "    sess.run(init)\n",
    "    \n",
    "    for i in range(num_iters):\n",
    "        X_batch, y_batch = ts_data.next_batch(batch_size, num_time_steps)\n",
    "        sess.run(optimizer, feed_dict={X: X_batch,y:y_batch})\n",
    "        \n",
    "        if i%100 == 0:\n",
    "            mse = loss.eval(feed_dict={X:X_batch, y:y_batch})\n",
    "            print('STEP: {0}, ERROR: {1}'.format(i, mse))\n",
    "    print('STEP: {0}, ERROR: {1}'.format(i, mse))\n",
    "    save_model.save(sess,'./trained-lstm-model/lstm_time_series_model')"
   ]
  },
  {
   "cell_type": "code",
   "execution_count": 25,
   "metadata": {},
   "outputs": [
    {
     "name": "stdout",
     "output_type": "stream",
     "text": [
      "INFO:tensorflow:Restoring parameters from ./trained-lstm-model/lstm_time_series_model\n"
     ]
    }
   ],
   "source": [
    "# Predict Time Series into the Future\n",
    "with tf.Session() as sess:\n",
    "    save_model.restore(sess,'./trained-lstm-model/lstm_time_series_model')\n",
    "    \n",
    "    X_new = np.sin(np.array(train_inst[:-1].reshape(-1, num_time_steps, num_inputs)))\n",
    "    y_pred = sess.run(outputs, feed_dict={X:X_new})"
   ]
  },
  {
   "cell_type": "code",
   "execution_count": 26,
   "metadata": {},
   "outputs": [
    {
     "data": {
      "image/png": "[encoded data removed]",
      "text/plain": [
       "<matplotlib.figure.Figure at 0x18a68b90cc0>"
      ]
     },
     "metadata": {},
     "output_type": "display_data"
    }
   ],
   "source": [
    "# Plot the Time Predicted Value\n",
    "plt.title('TESTING THE MODEL')\n",
    "# Training Data\n",
    "plt.plot(train_inst[:-1], np.sin(train_inst[:-1]), 'bo', markersize=15, alpha=0.5, label='TRAINING INSTANCE')\n",
    "# Test Data\n",
    "plt.plot(train_inst[1:], np.sin(train_inst[1:]), 'ko', markersize=10, label='TARGET VALUES')\n",
    "# Model Predited Values\n",
    "plt.plot(train_inst[1:], y_pred[0,:,0], 'r.', markersize=10, label='MODEL PREDICTIONS')\n",
    "plt.xlabel('TIME')\n",
    "plt.legend()\n",
    "plt.tight_layout()"
   ]
  }
 ],
 "metadata": {
  "kernelspec": {
   "display_name": "Python 3",
   "language": "python",
   "name": "python3"
  },
  "language_info": {
   "codemirror_mode": {
    "name": "ipython",
    "version": 3
   },
   "file_extension": ".py",
   "mimetype": "text/x-python",
   "name": "python",
   "nbconvert_exporter": "python",
   "pygments_lexer": "ipython3",
   "version": "3.5.3"
  }
 },
 "nbformat": 4,
 "nbformat_minor": 2
}
