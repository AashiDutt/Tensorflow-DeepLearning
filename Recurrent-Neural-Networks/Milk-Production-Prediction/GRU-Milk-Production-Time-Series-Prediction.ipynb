{
 "cells": [
  {
   "cell_type": "markdown",
   "metadata": {},
   "source": [
    "## RNN/GRU for Time Series Prediction for Milk Production Prediction"
   ]
  },
  {
   "cell_type": "code",
   "execution_count": 1,
   "metadata": {
    "collapsed": true
   },
   "outputs": [],
   "source": [
    "# Import Dependencies\n",
    "import numpy as np\n",
    "import pandas as pd\n",
    "from sklearn.preprocessing import MinMaxScaler\n",
    "import tensorflow as tf\n",
    "import matplotlib.pyplot as plt\n",
    "%matplotlib inline"
   ]
  },
  {
   "cell_type": "code",
   "execution_count": 2,
   "metadata": {
    "collapsed": false
   },
   "outputs": [],
   "source": [
    "# Read in the Dataset\n",
    "data = pd.read_csv('./dataset/monthly-milk-production.csv', index_col='Month')"
   ]
  },
  {
   "cell_type": "code",
   "execution_count": 3,
   "metadata": {
    "collapsed": false
   },
   "outputs": [
    {
     "data": {
      "text/html": [
       "<div>\n",
       "<style>\n",
       "    .dataframe thead tr:only-child th {\n",
       "        text-align: right;\n",
       "    }\n",
       "\n",
       "    .dataframe thead th {\n",
       "        text-align: left;\n",
       "    }\n",
       "\n",
       "    .dataframe tbody tr th {\n",
       "        vertical-align: top;\n",
       "    }\n",
       "</style>\n",
       "<table border=\"1\" class=\"dataframe\">\n",
       "  <thead>\n",
       "    <tr style=\"text-align: right;\">\n",
       "      <th></th>\n",
       "      <th>Milk Production</th>\n",
       "    </tr>\n",
       "    <tr>\n",
       "      <th>Month</th>\n",
       "      <th></th>\n",
       "    </tr>\n",
       "  </thead>\n",
       "  <tbody>\n",
       "    <tr>\n",
       "      <th>1/1/1962 1:00</th>\n",
       "      <td>589</td>\n",
       "    </tr>\n",
       "    <tr>\n",
       "      <th>2/1/1962 1:00</th>\n",
       "      <td>561</td>\n",
       "    </tr>\n",
       "    <tr>\n",
       "      <th>3/1/1962 1:00</th>\n",
       "      <td>640</td>\n",
       "    </tr>\n",
       "    <tr>\n",
       "      <th>4/1/1962 1:00</th>\n",
       "      <td>656</td>\n",
       "    </tr>\n",
       "    <tr>\n",
       "      <th>5/1/1962 1:00</th>\n",
       "      <td>727</td>\n",
       "    </tr>\n",
       "  </tbody>\n",
       "</table>\n",
       "</div>"
      ],
      "text/plain": [
       "               Milk Production\n",
       "Month                         \n",
       "1/1/1962 1:00              589\n",
       "2/1/1962 1:00              561\n",
       "3/1/1962 1:00              640\n",
       "4/1/1962 1:00              656\n",
       "5/1/1962 1:00              727"
      ]
     },
     "execution_count": 3,
     "metadata": {},
     "output_type": "execute_result"
    }
   ],
   "source": [
    "# Analyze Dataset\n",
    "data.head()"
   ]
  },
  {
   "cell_type": "code",
   "execution_count": 4,
   "metadata": {
    "collapsed": true
   },
   "outputs": [],
   "source": [
    "# Preprocess the Data\n",
    "data.index = pd.to_datetime(data.index)"
   ]
  },
  {
   "cell_type": "code",
   "execution_count": 5,
   "metadata": {
    "collapsed": false
   },
   "outputs": [
    {
     "data": {
      "text/html": [
       "<div>\n",
       "<style>\n",
       "    .dataframe thead tr:only-child th {\n",
       "        text-align: right;\n",
       "    }\n",
       "\n",
       "    .dataframe thead th {\n",
       "        text-align: left;\n",
       "    }\n",
       "\n",
       "    .dataframe tbody tr th {\n",
       "        vertical-align: top;\n",
       "    }\n",
       "</style>\n",
       "<table border=\"1\" class=\"dataframe\">\n",
       "  <thead>\n",
       "    <tr style=\"text-align: right;\">\n",
       "      <th></th>\n",
       "      <th>Milk Production</th>\n",
       "    </tr>\n",
       "    <tr>\n",
       "      <th>Month</th>\n",
       "      <th></th>\n",
       "    </tr>\n",
       "  </thead>\n",
       "  <tbody>\n",
       "    <tr>\n",
       "      <th>1962-01-01 01:00:00</th>\n",
       "      <td>589</td>\n",
       "    </tr>\n",
       "    <tr>\n",
       "      <th>1962-02-01 01:00:00</th>\n",
       "      <td>561</td>\n",
       "    </tr>\n",
       "    <tr>\n",
       "      <th>1962-03-01 01:00:00</th>\n",
       "      <td>640</td>\n",
       "    </tr>\n",
       "    <tr>\n",
       "      <th>1962-04-01 01:00:00</th>\n",
       "      <td>656</td>\n",
       "    </tr>\n",
       "    <tr>\n",
       "      <th>1962-05-01 01:00:00</th>\n",
       "      <td>727</td>\n",
       "    </tr>\n",
       "  </tbody>\n",
       "</table>\n",
       "</div>"
      ],
      "text/plain": [
       "                     Milk Production\n",
       "Month                               \n",
       "1962-01-01 01:00:00              589\n",
       "1962-02-01 01:00:00              561\n",
       "1962-03-01 01:00:00              640\n",
       "1962-04-01 01:00:00              656\n",
       "1962-05-01 01:00:00              727"
      ]
     },
     "execution_count": 5,
     "metadata": {},
     "output_type": "execute_result"
    }
   ],
   "source": [
    "# Data after Preprocessing\n",
    "data.head()"
   ]
  },
  {
   "cell_type": "code",
   "execution_count": 6,
   "metadata": {
    "collapsed": false
   },
   "outputs": [
    {
     "data": {
      "text/html": [
       "<div>\n",
       "<style>\n",
       "    .dataframe thead tr:only-child th {\n",
       "        text-align: right;\n",
       "    }\n",
       "\n",
       "    .dataframe thead th {\n",
       "        text-align: left;\n",
       "    }\n",
       "\n",
       "    .dataframe tbody tr th {\n",
       "        vertical-align: top;\n",
       "    }\n",
       "</style>\n",
       "<table border=\"1\" class=\"dataframe\">\n",
       "  <thead>\n",
       "    <tr style=\"text-align: right;\">\n",
       "      <th></th>\n",
       "      <th>Milk Production</th>\n",
       "    </tr>\n",
       "  </thead>\n",
       "  <tbody>\n",
       "    <tr>\n",
       "      <th>count</th>\n",
       "      <td>168.000000</td>\n",
       "    </tr>\n",
       "    <tr>\n",
       "      <th>mean</th>\n",
       "      <td>754.708333</td>\n",
       "    </tr>\n",
       "    <tr>\n",
       "      <th>std</th>\n",
       "      <td>102.204524</td>\n",
       "    </tr>\n",
       "    <tr>\n",
       "      <th>min</th>\n",
       "      <td>553.000000</td>\n",
       "    </tr>\n",
       "    <tr>\n",
       "      <th>25%</th>\n",
       "      <td>677.750000</td>\n",
       "    </tr>\n",
       "    <tr>\n",
       "      <th>50%</th>\n",
       "      <td>761.000000</td>\n",
       "    </tr>\n",
       "    <tr>\n",
       "      <th>75%</th>\n",
       "      <td>824.500000</td>\n",
       "    </tr>\n",
       "    <tr>\n",
       "      <th>max</th>\n",
       "      <td>969.000000</td>\n",
       "    </tr>\n",
       "  </tbody>\n",
       "</table>\n",
       "</div>"
      ],
      "text/plain": [
       "       Milk Production\n",
       "count       168.000000\n",
       "mean        754.708333\n",
       "std         102.204524\n",
       "min         553.000000\n",
       "25%         677.750000\n",
       "50%         761.000000\n",
       "75%         824.500000\n",
       "max         969.000000"
      ]
     },
     "execution_count": 6,
     "metadata": {},
     "output_type": "execute_result"
    }
   ],
   "source": [
    "data.describe()"
   ]
  },
  {
   "cell_type": "code",
   "execution_count": 7,
   "metadata": {
    "collapsed": false
   },
   "outputs": [
    {
     "data": {
      "text/plain": [
       "<matplotlib.axes._subplots.AxesSubplot at 0x137f26a09b0>"
      ]
     },
     "execution_count": 7,
     "metadata": {},
     "output_type": "execute_result"
    },
    {
     "data": {
      "image/png": "[encoded data removed]",
      "text/plain": [
       "<matplotlib.figure.Figure at 0x137f2659f60>"
      ]
     },
     "metadata": {},
     "output_type": "display_data"
    }
   ],
   "source": [
    "# Plot Dataset\n",
    "data.plot()"
   ]
  },
  {
   "cell_type": "code",
   "execution_count": 8,
   "metadata": {
    "collapsed": false
   },
   "outputs": [
    {
     "name": "stdout",
     "output_type": "stream",
     "text": [
      "<class 'pandas.core.frame.DataFrame'>\n",
      "DatetimeIndex: 168 entries, 1962-01-01 01:00:00 to 1975-12-01 01:00:00\n",
      "Data columns (total 1 columns):\n",
      "Milk Production    168 non-null int64\n",
      "dtypes: int64(1)\n",
      "memory usage: 2.6 KB\n"
     ]
    }
   ],
   "source": [
    "data.info()"
   ]
  },
  {
   "cell_type": "code",
   "execution_count": 9,
   "metadata": {
    "collapsed": false
   },
   "outputs": [
    {
     "name": "stdout",
     "output_type": "stream",
     "text": [
      "                     Milk Production\n",
      "Month                               \n",
      "1962-01-01 01:00:00              589\n",
      "1962-02-01 01:00:00              561\n",
      "1962-03-01 01:00:00              640\n",
      "1962-04-01 01:00:00              656\n",
      "1962-05-01 01:00:00              727\n",
      "1962-06-01 01:00:00              697\n",
      "1962-07-01 01:00:00              640\n",
      "1962-08-01 01:00:00              599\n",
      "1962-09-01 01:00:00              568\n",
      "1962-10-01 01:00:00              577\n",
      "1962-11-01 01:00:00              553\n",
      "1962-12-01 01:00:00              582\n",
      "1963-01-01 01:00:00              600\n",
      "1963-02-01 01:00:00              566\n",
      "1963-03-01 01:00:00              653\n",
      "1963-04-01 01:00:00              673\n",
      "1963-05-01 01:00:00              742\n",
      "1963-06-01 01:00:00              716\n",
      "1963-07-01 01:00:00              660\n",
      "1963-08-01 01:00:00              617\n",
      "1963-09-01 01:00:00              583\n",
      "1963-10-01 01:00:00              587\n",
      "1963-11-01 01:00:00              565\n",
      "1963-12-01 01:00:00              598\n",
      "1964-01-01 01:00:00              628\n",
      "1964-02-01 01:00:00              618\n",
      "1964-03-01 01:00:00              688\n",
      "1964-04-01 01:00:00              705\n",
      "1964-05-01 01:00:00              770\n",
      "1964-06-01 01:00:00              736\n",
      "...                              ...\n",
      "1972-07-01 01:00:00              894\n",
      "1972-08-01 01:00:00              855\n",
      "1972-09-01 01:00:00              809\n",
      "1972-10-01 01:00:00              810\n",
      "1972-11-01 01:00:00              766\n",
      "1972-12-01 01:00:00              805\n",
      "1973-01-01 01:00:00              821\n",
      "1973-02-01 01:00:00              773\n",
      "1973-03-01 01:00:00              883\n",
      "1973-04-01 01:00:00              898\n",
      "1973-05-01 01:00:00              957\n",
      "1973-06-01 01:00:00              924\n",
      "1973-07-01 01:00:00              881\n",
      "1973-08-01 01:00:00              837\n",
      "1973-09-01 01:00:00              784\n",
      "1973-10-01 01:00:00              791\n",
      "1973-11-01 01:00:00              760\n",
      "1973-12-01 01:00:00              802\n",
      "1974-01-01 01:00:00              828\n",
      "1974-02-01 01:00:00              778\n",
      "1974-03-01 01:00:00              889\n",
      "1974-04-01 01:00:00              902\n",
      "1974-05-01 01:00:00              969\n",
      "1974-06-01 01:00:00              947\n",
      "1974-07-01 01:00:00              908\n",
      "1974-08-01 01:00:00              867\n",
      "1974-09-01 01:00:00              815\n",
      "1974-10-01 01:00:00              812\n",
      "1974-11-01 01:00:00              773\n",
      "1974-12-01 01:00:00              813\n",
      "\n",
      "[156 rows x 1 columns]\n"
     ]
    }
   ],
   "source": [
    "# Train Test Split\n",
    "# Total Number of Rows: 168\n",
    "# All except last 12: 168-12 = 156\n",
    "train_data = data.head(156)\n",
    "print(train_data)"
   ]
  },
  {
   "cell_type": "code",
   "execution_count": 10,
   "metadata": {
    "collapsed": false
   },
   "outputs": [
    {
     "name": "stdout",
     "output_type": "stream",
     "text": [
      "                     Milk Production\n",
      "Month                               \n",
      "1975-01-01 01:00:00              834\n",
      "1975-02-01 01:00:00              782\n",
      "1975-03-01 01:00:00              892\n",
      "1975-04-01 01:00:00              903\n",
      "1975-05-01 01:00:00              966\n",
      "1975-06-01 01:00:00              937\n",
      "1975-07-01 01:00:00              896\n",
      "1975-08-01 01:00:00              858\n",
      "1975-09-01 01:00:00              817\n",
      "1975-10-01 01:00:00              827\n",
      "1975-11-01 01:00:00              797\n",
      "1975-12-01 01:00:00              843\n"
     ]
    }
   ],
   "source": [
    "test_data = data.tail(12)\n",
    "print(test_data)"
   ]
  },
  {
   "cell_type": "code",
   "execution_count": 11,
   "metadata": {
    "collapsed": true
   },
   "outputs": [],
   "source": [
    "# Scale Data\n",
    "scl = MinMaxScaler()\n",
    "scaled_train = scl.fit_transform(train_data)\n",
    "scaled_test = scl.transform(test_data)"
   ]
  },
  {
   "cell_type": "code",
   "execution_count": 12,
   "metadata": {
    "collapsed": false
   },
   "outputs": [
    {
     "name": "stdout",
     "output_type": "stream",
     "text": [
      "Scaled Training Data: \n",
      " [[ 0.08653846]\n",
      " [ 0.01923077]\n",
      " [ 0.20913462]\n",
      " [ 0.24759615]\n",
      " [ 0.41826923]\n",
      " [ 0.34615385]\n",
      " [ 0.20913462]\n",
      " [ 0.11057692]\n",
      " [ 0.03605769]\n",
      " [ 0.05769231]\n",
      " [ 0.        ]\n",
      " [ 0.06971154]\n",
      " [ 0.11298077]\n",
      " [ 0.03125   ]\n",
      " [ 0.24038462]\n",
      " [ 0.28846154]\n",
      " [ 0.45432692]\n",
      " [ 0.39182692]\n",
      " [ 0.25721154]\n",
      " [ 0.15384615]\n",
      " [ 0.07211538]\n",
      " [ 0.08173077]\n",
      " [ 0.02884615]\n",
      " [ 0.10817308]\n",
      " [ 0.18028846]\n",
      " [ 0.15625   ]\n",
      " [ 0.32451923]\n",
      " [ 0.36538462]\n",
      " [ 0.52163462]\n",
      " [ 0.43990385]\n",
      " [ 0.30048077]\n",
      " [ 0.20673077]\n",
      " [ 0.12259615]\n",
      " [ 0.13942308]\n",
      " [ 0.09855769]\n",
      " [ 0.19471154]\n",
      " [ 0.25240385]\n",
      " [ 0.16586538]\n",
      " [ 0.375     ]\n",
      " [ 0.40625   ]\n",
      " [ 0.55048077]\n",
      " [ 0.48798077]\n",
      " [ 0.35817308]\n",
      " [ 0.24038462]\n",
      " [ 0.14903846]\n",
      " [ 0.16346154]\n",
      " [ 0.11778846]\n",
      " [ 0.19711538]\n",
      " [ 0.29807692]\n",
      " [ 0.19711538]\n",
      " [ 0.43990385]\n",
      " [ 0.48557692]\n",
      " [ 0.62019231]\n",
      " [ 0.58894231]\n",
      " [ 0.4375    ]\n",
      " [ 0.34615385]\n",
      " [ 0.25961538]\n",
      " [ 0.27403846]\n",
      " [ 0.22115385]\n",
      " [ 0.32451923]\n",
      " [ 0.38461538]\n",
      " [ 0.27403846]\n",
      " [ 0.50240385]\n",
      " [ 0.55528846]\n",
      " [ 0.68269231]\n",
      " [ 0.63461538]\n",
      " [ 0.51442308]\n",
      " [ 0.40625   ]\n",
      " [ 0.30769231]\n",
      " [ 0.32211538]\n",
      " [ 0.25721154]\n",
      " [ 0.34855769]\n",
      " [ 0.39423077]\n",
      " [ 0.34375   ]\n",
      " [ 0.53365385]\n",
      " [ 0.58413462]\n",
      " [ 0.73317308]\n",
      " [ 0.65625   ]\n",
      " [ 0.55288462]\n",
      " [ 0.44951923]\n",
      " [ 0.35576923]\n",
      " [ 0.36778846]\n",
      " [ 0.29807692]\n",
      " [ 0.37980769]\n",
      " [ 0.43509615]\n",
      " [ 0.32932692]\n",
      " [ 0.55769231]\n",
      " [ 0.60576923]\n",
      " [ 0.76442308]\n",
      " [ 0.70192308]\n",
      " [ 0.59615385]\n",
      " [ 0.50721154]\n",
      " [ 0.41346154]\n",
      " [ 0.40865385]\n",
      " [ 0.32932692]\n",
      " [ 0.43509615]\n",
      " [ 0.47355769]\n",
      " [ 0.37019231]\n",
      " [ 0.61057692]\n",
      " [ 0.65144231]\n",
      " [ 0.80048077]\n",
      " [ 0.73557692]\n",
      " [ 0.63942308]\n",
      " [ 0.55288462]\n",
      " [ 0.44951923]\n",
      " [ 0.46634615]\n",
      " [ 0.37980769]\n",
      " [ 0.47596154]\n",
      " [ 0.60336538]\n",
      " [ 0.48798077]\n",
      " [ 0.73798077]\n",
      " [ 0.78125   ]\n",
      " [ 0.93509615]\n",
      " [ 0.86538462]\n",
      " [ 0.75961538]\n",
      " [ 0.67548077]\n",
      " [ 0.56971154]\n",
      " [ 0.59375   ]\n",
      " [ 0.50480769]\n",
      " [ 0.59375   ]\n",
      " [ 0.65625   ]\n",
      " [ 0.59134615]\n",
      " [ 0.81009615]\n",
      " [ 0.83413462]\n",
      " [ 0.98076923]\n",
      " [ 0.91826923]\n",
      " [ 0.81971154]\n",
      " [ 0.72596154]\n",
      " [ 0.61538462]\n",
      " [ 0.61778846]\n",
      " [ 0.51201923]\n",
      " [ 0.60576923]\n",
      " [ 0.64423077]\n",
      " [ 0.52884615]\n",
      " [ 0.79326923]\n",
      " [ 0.82932692]\n",
      " [ 0.97115385]\n",
      " [ 0.89182692]\n",
      " [ 0.78846154]\n",
      " [ 0.68269231]\n",
      " [ 0.55528846]\n",
      " [ 0.57211538]\n",
      " [ 0.49759615]\n",
      " [ 0.59855769]\n",
      " [ 0.66105769]\n",
      " [ 0.54086538]\n",
      " [ 0.80769231]\n",
      " [ 0.83894231]\n",
      " [ 1.        ]\n",
      " [ 0.94711538]\n",
      " [ 0.85336538]\n",
      " [ 0.75480769]\n",
      " [ 0.62980769]\n",
      " [ 0.62259615]\n",
      " [ 0.52884615]\n",
      " [ 0.625     ]]\n"
     ]
    }
   ],
   "source": [
    "print('Scaled Training Data: \\n',scaled_train)"
   ]
  },
  {
   "cell_type": "code",
   "execution_count": 13,
   "metadata": {
    "collapsed": false
   },
   "outputs": [
    {
     "name": "stdout",
     "output_type": "stream",
     "text": [
      "Scaled Test Data: \n",
      " [[ 0.67548077]\n",
      " [ 0.55048077]\n",
      " [ 0.81490385]\n",
      " [ 0.84134615]\n",
      " [ 0.99278846]\n",
      " [ 0.92307692]\n",
      " [ 0.82451923]\n",
      " [ 0.73317308]\n",
      " [ 0.63461538]\n",
      " [ 0.65865385]\n",
      " [ 0.58653846]\n",
      " [ 0.69711538]]\n"
     ]
    }
   ],
   "source": [
    "print('Scaled Test Data: \\n',scaled_test)"
   ]
  },
  {
   "cell_type": "code",
   "execution_count": 14,
   "metadata": {
    "collapsed": true
   },
   "outputs": [],
   "source": [
    "# Batch Function to Input Data in Batches\n",
    "def next_batch(training_data, batch_size,steps):\n",
    "    # Grab a random starting point for each point of data\n",
    "    # Generate some random values\n",
    "    rand_start = np.random.randint(0,len(training_data)-steps)\n",
    "    # Y Batch\n",
    "    y_batch = np.array(training_data[rand_start:rand_start+steps+1]).reshape(1,steps+1)\n",
    "    return y_batch[:,:-1].reshape(-1,steps,1), y_batch[:,1:].reshape(-1,steps,1)"
   ]
  },
  {
   "cell_type": "code",
   "execution_count": 15,
   "metadata": {
    "collapsed": true
   },
   "outputs": [],
   "source": [
    "# RNN Model\n",
    "\n",
    "# Define Constants\n",
    "# Input : X\n",
    "num_inputs = 1\n",
    "\n",
    "# Number Time Steps\n",
    "num_time_steps = 12\n",
    "\n",
    "# Neurons in Hidden Layer\n",
    "num_neurons = 100\n",
    "\n",
    "# Number of Outputs Required\n",
    "num_outputs = 1\n",
    "\n",
    "# Learning Rate\n",
    "lr = 0.001\n",
    "\n",
    "# Number of Training Iterations\n",
    "num_iters = 6000\n",
    "\n",
    "# Batch Size\n",
    "batch_size = 1"
   ]
  },
  {
   "cell_type": "code",
   "execution_count": 16,
   "metadata": {
    "collapsed": true
   },
   "outputs": [],
   "source": [
    "# Placeholders\n",
    "# Features: X\n",
    "# Shape = [Batch Size, Number of Time Steps i.e. No. of RNN Units, Number of Inputs]\n",
    "#       = [1, 30, 1] i.e. 30 values as input into 30 RNN units.\n",
    "X = tf.placeholder(tf.float32, shape=[None, num_time_steps, num_inputs])\n",
    "\n",
    "# Labels\n",
    "y = tf.placeholder(tf.float32, shape=[None, num_time_steps, num_outputs])"
   ]
  },
  {
   "cell_type": "code",
   "execution_count": 17,
   "metadata": {
    "collapsed": true
   },
   "outputs": [],
   "source": [
    "# Create RNN Cell Layer\n",
    "# Since, we want only one output and not 100 using 100 neurons in hidden layer, we wrap the rnn model into output wrapper\n",
    "gru_model = tf.contrib.rnn.OutputProjectionWrapper(tf.contrib.rnn.GRUCell(num_units=num_neurons, activation=tf.nn.relu), output_size=num_outputs)"
   ]
  },
  {
   "cell_type": "code",
   "execution_count": 18,
   "metadata": {
    "collapsed": false
   },
   "outputs": [],
   "source": [
    "# Get Output of RNN Cell\n",
    "# Performs dynamic unrolling of RNN cells\n",
    "outputs, states = tf.nn.dynamic_rnn(gru_model, X, dtype=tf.float32)"
   ]
  },
  {
   "cell_type": "code",
   "execution_count": 19,
   "metadata": {
    "collapsed": false
   },
   "outputs": [],
   "source": [
    "# Loss Function: MSE\n",
    "loss = tf.reduce_mean(tf.square(outputs-y))\n",
    "\n",
    "# Optimizer\n",
    "optimizer = tf.train.AdamOptimizer(learning_rate=lr).minimize(loss)"
   ]
  },
  {
   "cell_type": "code",
   "execution_count": 20,
   "metadata": {
    "collapsed": true
   },
   "outputs": [],
   "source": [
    "init = tf.global_variables_initializer()"
   ]
  },
  {
   "cell_type": "code",
   "execution_count": 21,
   "metadata": {
    "collapsed": true
   },
   "outputs": [],
   "source": [
    "# Save Trained Model\n",
    "save_model = tf.train.Saver()"
   ]
  },
  {
   "cell_type": "code",
   "execution_count": 22,
   "metadata": {
    "collapsed": false
   },
   "outputs": [
    {
     "name": "stdout",
     "output_type": "stream",
     "text": [
      "STEP: 0, ERROR: 0.616780698299408\n",
      "STEP: 100, ERROR: 0.03181012347340584\n",
      "STEP: 200, ERROR: 0.05535301938652992\n",
      "STEP: 300, ERROR: 0.016318075358867645\n",
      "STEP: 400, ERROR: 0.0074952696450054646\n",
      "STEP: 500, ERROR: 0.014937154948711395\n",
      "STEP: 600, ERROR: 0.011535548605024815\n",
      "STEP: 700, ERROR: 0.008986628614366055\n",
      "STEP: 800, ERROR: 0.007906921207904816\n",
      "STEP: 900, ERROR: 0.0062282271683216095\n",
      "STEP: 1000, ERROR: 0.006832998711615801\n",
      "STEP: 1100, ERROR: 0.00959091167896986\n",
      "STEP: 1200, ERROR: 0.006996720563620329\n",
      "STEP: 1300, ERROR: 0.007261476945132017\n",
      "STEP: 1400, ERROR: 0.007010099943727255\n",
      "STEP: 1500, ERROR: 0.007765964139252901\n",
      "STEP: 1600, ERROR: 0.006345976609736681\n",
      "STEP: 1700, ERROR: 0.005387163255363703\n",
      "STEP: 1800, ERROR: 0.007679700385779142\n",
      "STEP: 1900, ERROR: 0.007283961866050959\n",
      "STEP: 2000, ERROR: 0.004950760398060083\n",
      "STEP: 2100, ERROR: 0.008408967405557632\n",
      "STEP: 2200, ERROR: 0.004566528834402561\n",
      "STEP: 2300, ERROR: 0.008079449646174908\n",
      "STEP: 2400, ERROR: 0.007196292281150818\n",
      "STEP: 2500, ERROR: 0.005823389161378145\n",
      "STEP: 2600, ERROR: 0.004386229906231165\n",
      "STEP: 2700, ERROR: 0.008524849079549313\n",
      "STEP: 2800, ERROR: 0.006848832126706839\n",
      "STEP: 2900, ERROR: 0.0065176221542060375\n",
      "STEP: 3000, ERROR: 0.004780208226293325\n",
      "STEP: 3100, ERROR: 0.00455806590616703\n",
      "STEP: 3200, ERROR: 0.004033668432384729\n",
      "STEP: 3300, ERROR: 0.00682802265509963\n",
      "STEP: 3400, ERROR: 0.006382097955793142\n",
      "STEP: 3500, ERROR: 0.005197972524911165\n",
      "STEP: 3600, ERROR: 0.0056586978025734425\n",
      "STEP: 3700, ERROR: 0.005739068146795034\n",
      "STEP: 3800, ERROR: 0.004005471710115671\n",
      "STEP: 3900, ERROR: 0.005127678159624338\n",
      "STEP: 4000, ERROR: 0.007450731936842203\n",
      "STEP: 4100, ERROR: 0.003132703946903348\n",
      "STEP: 4200, ERROR: 0.003254690207540989\n",
      "STEP: 4300, ERROR: 0.005408037453889847\n",
      "STEP: 4400, ERROR: 0.003715052269399166\n",
      "STEP: 4500, ERROR: 0.004436103161424398\n",
      "STEP: 4600, ERROR: 0.00439409539103508\n",
      "STEP: 4700, ERROR: 0.0033627618104219437\n",
      "STEP: 4800, ERROR: 0.004768727347254753\n",
      "STEP: 4900, ERROR: 0.006023806054145098\n",
      "STEP: 5000, ERROR: 0.0020769417751580477\n",
      "STEP: 5100, ERROR: 0.0031530933920294046\n",
      "STEP: 5200, ERROR: 0.0020440227817744017\n",
      "STEP: 5300, ERROR: 0.004499843344092369\n",
      "STEP: 5400, ERROR: 0.0034182642120867968\n",
      "STEP: 5500, ERROR: 0.001999002881348133\n",
      "STEP: 5600, ERROR: 0.004925805609673262\n",
      "STEP: 5700, ERROR: 0.0029785705264657736\n",
      "STEP: 5800, ERROR: 0.0052380007691681385\n",
      "STEP: 5900, ERROR: 0.0038395291194319725\n",
      "STEP: 6000, ERROR: 0.0038395291194319725\n"
     ]
    }
   ],
   "source": [
    "# Run RNN in Session\n",
    "with tf.Session() as sess:\n",
    "    sess.run(init)\n",
    "    \n",
    "    for i in range(num_iters):\n",
    "        X_batch, y_batch = next_batch(scaled_train, batch_size, num_time_steps)\n",
    "        sess.run(optimizer, feed_dict={X: X_batch,y:y_batch})\n",
    "        \n",
    "        if i%100 == 0:\n",
    "            mse = loss.eval(feed_dict={X:X_batch, y:y_batch})\n",
    "            print('STEP: {0}, ERROR: {1}'.format(i, mse))\n",
    "    print('STEP: {0}, ERROR: {1}'.format(i+1, mse))\n",
    "    save_model.save(sess,'./Trained-Model/gru_time_series_model')"
   ]
  },
  {
   "cell_type": "code",
   "execution_count": 23,
   "metadata": {
    "collapsed": false
   },
   "outputs": [
    {
     "name": "stdout",
     "output_type": "stream",
     "text": [
      "INFO:tensorflow:Restoring parameters from ./Trained-Model/gru_time_series_model\n"
     ]
    }
   ],
   "source": [
    "# Making Predictions on Test Data: Generative Session\n",
    "# Predict Time Series into the Future\n",
    "with tf.Session() as sess:\n",
    "    save_model.restore(sess,'./Trained-Model/gru_time_series_model')\n",
    "    train_seed = list(scaled_train[-12:])\n",
    "    \n",
    "    for i in range(12):\n",
    "        X_batch = np.array(train_seed[-num_time_steps:]).reshape(1,num_time_steps,1)\n",
    "        y_pred = sess.run(outputs, feed_dict={X:X_batch})\n",
    "        train_seed.append(y_pred[0,-1,0])"
   ]
  },
  {
   "cell_type": "code",
   "execution_count": 24,
   "metadata": {
    "collapsed": false
   },
   "outputs": [
    {
     "data": {
      "text/plain": [
       "[array([ 0.66105769]),\n",
       " array([ 0.54086538]),\n",
       " array([ 0.80769231]),\n",
       " array([ 0.83894231]),\n",
       " array([ 1.]),\n",
       " array([ 0.94711538]),\n",
       " array([ 0.85336538]),\n",
       " array([ 0.75480769]),\n",
       " array([ 0.62980769]),\n",
       " array([ 0.62259615]),\n",
       " array([ 0.52884615]),\n",
       " array([ 0.625]),\n",
       " 0.68561137,\n",
       " 0.60485137,\n",
       " 0.84877062,\n",
       " 0.8946377,\n",
       " 1.0640877,\n",
       " 1.0166073,\n",
       " 0.90160906,\n",
       " 0.81573701,\n",
       " 0.71630394,\n",
       " 0.69590342,\n",
       " 0.63154411,\n",
       " 0.6828742]"
      ]
     },
     "execution_count": 24,
     "metadata": {},
     "output_type": "execute_result"
    }
   ],
   "source": [
    "# Show Result of Predictions\n",
    "train_seed"
   ]
  },
  {
   "cell_type": "code",
   "execution_count": 25,
   "metadata": {
    "collapsed": true
   },
   "outputs": [],
   "source": [
    "# Grab the last 12 generated values from train_seed and de-normalize them to get the actual milk production values\n",
    "results = scl.inverse_transform(np.array(train_seed[12:]).reshape(12,1))"
   ]
  },
  {
   "cell_type": "code",
   "execution_count": 26,
   "metadata": {
    "collapsed": false
   },
   "outputs": [
    {
     "name": "stderr",
     "output_type": "stream",
     "text": [
      "C:\\Users\\ad1026858\\AppData\\Local\\Programs\\Python\\Python35\\lib\\site-packages\\ipykernel_launcher.py:1: SettingWithCopyWarning: \n",
      "A value is trying to be set on a copy of a slice from a DataFrame.\n",
      "Try using .loc[row_indexer,col_indexer] = value instead\n",
      "\n",
      "See the caveats in the documentation: http://pandas.pydata.org/pandas-docs/stable/indexing.html#indexing-view-versus-copy\n",
      "  \"\"\"Entry point for launching an IPython kernel.\n"
     ]
    }
   ],
   "source": [
    "test_data['Generated Values'] = results"
   ]
  },
  {
   "cell_type": "code",
   "execution_count": 27,
   "metadata": {
    "collapsed": false
   },
   "outputs": [
    {
     "data": {
      "text/html": [
       "<div>\n",
       "<style>\n",
       "    .dataframe thead tr:only-child th {\n",
       "        text-align: right;\n",
       "    }\n",
       "\n",
       "    .dataframe thead th {\n",
       "        text-align: left;\n",
       "    }\n",
       "\n",
       "    .dataframe tbody tr th {\n",
       "        vertical-align: top;\n",
       "    }\n",
       "</style>\n",
       "<table border=\"1\" class=\"dataframe\">\n",
       "  <thead>\n",
       "    <tr style=\"text-align: right;\">\n",
       "      <th></th>\n",
       "      <th>Milk Production</th>\n",
       "      <th>Generated Values</th>\n",
       "    </tr>\n",
       "    <tr>\n",
       "      <th>Month</th>\n",
       "      <th></th>\n",
       "      <th></th>\n",
       "    </tr>\n",
       "  </thead>\n",
       "  <tbody>\n",
       "    <tr>\n",
       "      <th>1975-01-01 01:00:00</th>\n",
       "      <td>834</td>\n",
       "      <td>838.214355</td>\n",
       "    </tr>\n",
       "    <tr>\n",
       "      <th>1975-02-01 01:00:00</th>\n",
       "      <td>782</td>\n",
       "      <td>804.618164</td>\n",
       "    </tr>\n",
       "    <tr>\n",
       "      <th>1975-03-01 01:00:00</th>\n",
       "      <td>892</td>\n",
       "      <td>906.088562</td>\n",
       "    </tr>\n",
       "    <tr>\n",
       "      <th>1975-04-01 01:00:00</th>\n",
       "      <td>903</td>\n",
       "      <td>925.169312</td>\n",
       "    </tr>\n",
       "    <tr>\n",
       "      <th>1975-05-01 01:00:00</th>\n",
       "      <td>966</td>\n",
       "      <td>995.660522</td>\n",
       "    </tr>\n",
       "    <tr>\n",
       "      <th>1975-06-01 01:00:00</th>\n",
       "      <td>937</td>\n",
       "      <td>975.908630</td>\n",
       "    </tr>\n",
       "    <tr>\n",
       "      <th>1975-07-01 01:00:00</th>\n",
       "      <td>896</td>\n",
       "      <td>928.069397</td>\n",
       "    </tr>\n",
       "    <tr>\n",
       "      <th>1975-08-01 01:00:00</th>\n",
       "      <td>858</td>\n",
       "      <td>892.346558</td>\n",
       "    </tr>\n",
       "    <tr>\n",
       "      <th>1975-09-01 01:00:00</th>\n",
       "      <td>817</td>\n",
       "      <td>850.982483</td>\n",
       "    </tr>\n",
       "    <tr>\n",
       "      <th>1975-10-01 01:00:00</th>\n",
       "      <td>827</td>\n",
       "      <td>842.495850</td>\n",
       "    </tr>\n",
       "    <tr>\n",
       "      <th>1975-11-01 01:00:00</th>\n",
       "      <td>797</td>\n",
       "      <td>815.722351</td>\n",
       "    </tr>\n",
       "    <tr>\n",
       "      <th>1975-12-01 01:00:00</th>\n",
       "      <td>843</td>\n",
       "      <td>837.075623</td>\n",
       "    </tr>\n",
       "  </tbody>\n",
       "</table>\n",
       "</div>"
      ],
      "text/plain": [
       "                     Milk Production  Generated Values\n",
       "Month                                                 \n",
       "1975-01-01 01:00:00              834        838.214355\n",
       "1975-02-01 01:00:00              782        804.618164\n",
       "1975-03-01 01:00:00              892        906.088562\n",
       "1975-04-01 01:00:00              903        925.169312\n",
       "1975-05-01 01:00:00              966        995.660522\n",
       "1975-06-01 01:00:00              937        975.908630\n",
       "1975-07-01 01:00:00              896        928.069397\n",
       "1975-08-01 01:00:00              858        892.346558\n",
       "1975-09-01 01:00:00              817        850.982483\n",
       "1975-10-01 01:00:00              827        842.495850\n",
       "1975-11-01 01:00:00              797        815.722351\n",
       "1975-12-01 01:00:00              843        837.075623"
      ]
     },
     "execution_count": 27,
     "metadata": {},
     "output_type": "execute_result"
    }
   ],
   "source": [
    "test_data"
   ]
  },
  {
   "cell_type": "code",
   "execution_count": 28,
   "metadata": {
    "collapsed": false
   },
   "outputs": [
    {
     "data": {
      "text/plain": [
       "<matplotlib.axes._subplots.AxesSubplot at 0x137f522c710>"
      ]
     },
     "execution_count": 28,
     "metadata": {},
     "output_type": "execute_result"
    },
    {
     "data": {
      "image/png": "[encoded data removed]",
      "text/plain": [
       "<matplotlib.figure.Figure at 0x137f2a83f98>"
      ]
     },
     "metadata": {},
     "output_type": "display_data"
    }
   ],
   "source": [
    "test_data.plot()"
   ]
  }
 ],
 "metadata": {
  "kernelspec": {
   "display_name": "Python 3",
   "language": "python",
   "name": "python3"
  },
  "language_info": {
   "codemirror_mode": {
    "name": "ipython",
    "version": 3
   },
   "file_extension": ".py",
   "mimetype": "text/x-python",
   "name": "python",
   "nbconvert_exporter": "python",
   "pygments_lexer": "ipython3",
   "version": "3.5.3"
  }
 },
 "nbformat": 4,
 "nbformat_minor": 2
}
