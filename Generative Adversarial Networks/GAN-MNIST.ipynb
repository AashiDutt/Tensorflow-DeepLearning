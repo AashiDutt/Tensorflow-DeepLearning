{
 "cells": [
  {
   "cell_type": "code",
   "execution_count": 1,
   "metadata": {
    "collapsed": false
   },
   "outputs": [
    {
     "name": "stderr",
     "output_type": "stream",
     "text": [
      "C:\\Users\\ad1026858\\AppData\\Local\\Programs\\Python\\Python35\\lib\\site-packages\\h5py\\__init__.py:34: FutureWarning: Conversion of the second argument of issubdtype from `float` to `np.floating` is deprecated. In future, it will be treated as `np.float64 == np.dtype(float).type`.\n",
      "  from ._conv import register_converters as _register_converters\n"
     ]
    }
   ],
   "source": [
    "import numpy as np\n",
    "import tensorflow as tf\n",
    "from tensorflow.examples.tutorials.mnist import input_data\n",
    "import matplotlib.pyplot as plt\n",
    "%matplotlib inline"
   ]
  },
  {
   "cell_type": "code",
   "execution_count": 2,
   "metadata": {
    "collapsed": false
   },
   "outputs": [
    {
     "name": "stdout",
     "output_type": "stream",
     "text": [
      "Extracting ./dataset/input_data/train-images-idx3-ubyte.gz\n",
      "Extracting ./dataset/input_data/train-labels-idx1-ubyte.gz\n",
      "Extracting ./dataset/input_data/t10k-images-idx3-ubyte.gz\n",
      "Extracting ./dataset/input_data/t10k-labels-idx1-ubyte.gz\n"
     ]
    }
   ],
   "source": [
    "mnist = input_data.read_data_sets('./dataset/input_data/', one_hot=True)"
   ]
  },
  {
   "cell_type": "code",
   "execution_count": 3,
   "metadata": {
    "collapsed": false
   },
   "outputs": [
    {
     "data": {
      "text/plain": [
       "<matplotlib.image.AxesImage at 0x2271a705b70>"
      ]
     },
     "execution_count": 3,
     "metadata": {},
     "output_type": "execute_result"
    },
    {
     "data": {
      "image/png": "[encoded data removed]",
      "text/plain": [
       "<matplotlib.figure.Figure at 0x2271a413b38>"
      ]
     },
     "metadata": {},
     "output_type": "display_data"
    }
   ],
   "source": [
    "plt.imshow(mnist.train.images[10].reshape(28,28), cmap='Greys')"
   ]
  },
  {
   "cell_type": "code",
   "execution_count": 4,
   "metadata": {
    "collapsed": true
   },
   "outputs": [],
   "source": [
    "# Generator Function\n",
    "def generator(z, reuse=None):\n",
    "    # Variable Scope\n",
    "    # Goal: To have modular sections or subsets of parameters\n",
    "    with tf.variable_scope('gen', reuse=reuse):\n",
    "        # Hidden Layer 1\n",
    "        h1 = tf.layers.dense(z, units=128)\n",
    "        \n",
    "        # Leaky ReLu\n",
    "        alpha = 0.01\n",
    "        h1 = tf.maximum(alpha * h1, h1)\n",
    "        \n",
    "        # Hidden Layer 2\n",
    "        h2 = tf.layers.dense(h1, units=128)\n",
    "        h2 = tf.maximum(alpha * h2, h2)\n",
    "        \n",
    "        out = tf.layers.dense(h2, units=784, activation=tf.nn.tanh)\n",
    "        \n",
    "        return out"
   ]
  },
  {
   "cell_type": "code",
   "execution_count": 5,
   "metadata": {
    "collapsed": true
   },
   "outputs": [],
   "source": [
    "# Generator Function\n",
    "def discriminator(X, reuse=None):\n",
    "    # Variable Scope\n",
    "    # Goal: To have modular sections or subsets of parameters\n",
    "    with tf.variable_scope('dis', reuse=reuse):\n",
    "        # Hidden Layer 1\n",
    "        h1 = tf.layers.dense(X, units=128)\n",
    "        \n",
    "        # Leaky ReLu\n",
    "        alpha = 0.01\n",
    "        h1 = tf.maximum(alpha * h1, h1)\n",
    "        \n",
    "        # Hidden Layer 2\n",
    "        h2 = tf.layers.dense(h1, units=128)\n",
    "        h2 = tf.maximum(alpha * h2, h2)\n",
    "        \n",
    "        # Output Layer\n",
    "        logits = tf.layers.dense(h2, units=1)\n",
    "        out = tf.sigmoid(logits)\n",
    "        \n",
    "        return out, logits"
   ]
  },
  {
   "cell_type": "code",
   "execution_count": 6,
   "metadata": {
    "collapsed": true
   },
   "outputs": [],
   "source": [
    "# Placeholders\n",
    "input_images = tf.placeholder(tf.float32, shape=[None, 784])\n",
    "z = tf.placeholder(tf.float32, shape=[None, 100])"
   ]
  },
  {
   "cell_type": "code",
   "execution_count": 7,
   "metadata": {
    "collapsed": false
   },
   "outputs": [],
   "source": [
    "Gen = generator(z)"
   ]
  },
  {
   "cell_type": "code",
   "execution_count": 8,
   "metadata": {
    "collapsed": true
   },
   "outputs": [],
   "source": [
    "Dis_out, Dis_logits = discriminator(input_images)"
   ]
  },
  {
   "cell_type": "code",
   "execution_count": 9,
   "metadata": {
    "collapsed": false
   },
   "outputs": [],
   "source": [
    "Dis_fake_img, Dis_fake_logits = discriminator(Gen, reuse=True) "
   ]
  },
  {
   "cell_type": "code",
   "execution_count": 10,
   "metadata": {
    "collapsed": true
   },
   "outputs": [],
   "source": [
    "# Loss Function\n",
    "def loss_func(logits, labels):\n",
    "    return tf.reduce_mean(tf.nn.sigmoid_cross_entropy_with_logits(logits=logits, labels=labels))"
   ]
  },
  {
   "cell_type": "code",
   "execution_count": 11,
   "metadata": {
    "collapsed": false
   },
   "outputs": [],
   "source": [
    "D_real_loss = loss_func(Dis_logits, tf.ones_like(Dis_logits)*0.9)\n",
    "D_fake_loss = loss_func(Dis_fake_logits, tf.zeros_like(Dis_logits))"
   ]
  },
  {
   "cell_type": "code",
   "execution_count": 12,
   "metadata": {
    "collapsed": true
   },
   "outputs": [],
   "source": [
    "D_loss = D_real_loss + D_fake_loss"
   ]
  },
  {
   "cell_type": "code",
   "execution_count": 13,
   "metadata": {
    "collapsed": true
   },
   "outputs": [],
   "source": [
    "G_loss = loss_func(Dis_fake_logits, tf.ones_like(Dis_fake_logits))"
   ]
  },
  {
   "cell_type": "code",
   "execution_count": 14,
   "metadata": {
    "collapsed": true
   },
   "outputs": [],
   "source": [
    "lr = 0.001"
   ]
  },
  {
   "cell_type": "code",
   "execution_count": 15,
   "metadata": {
    "collapsed": true
   },
   "outputs": [],
   "source": [
    "tvars = tf.trainable_variables()\n",
    "\n",
    "g_vars = [var for var in tvars if 'gen' in var.name]\n",
    "d_vars = [var for var in tvars if 'dis' in var.name]"
   ]
  },
  {
   "cell_type": "code",
   "execution_count": 16,
   "metadata": {
    "collapsed": true
   },
   "outputs": [],
   "source": [
    "Dis_opt = tf.train.AdamOptimizer(lr).minimize(D_loss, var_list=d_vars)"
   ]
  },
  {
   "cell_type": "code",
   "execution_count": 17,
   "metadata": {
    "collapsed": true
   },
   "outputs": [],
   "source": [
    "Gen_opt = tf.train.AdamOptimizer(lr).minimize(G_loss, var_list=g_vars)"
   ]
  },
  {
   "cell_type": "code",
   "execution_count": 18,
   "metadata": {
    "collapsed": true
   },
   "outputs": [],
   "source": [
    "batch_size = 128\n",
    "epochs = 500"
   ]
  },
  {
   "cell_type": "code",
   "execution_count": 19,
   "metadata": {
    "collapsed": true
   },
   "outputs": [],
   "source": [
    "init = tf.global_variables_initializer()"
   ]
  },
  {
   "cell_type": "code",
   "execution_count": 20,
   "metadata": {
    "collapsed": true
   },
   "outputs": [],
   "source": [
    "samples = []"
   ]
  },
  {
   "cell_type": "code",
   "execution_count": 21,
   "metadata": {
    "collapsed": false,
    "scrolled": true
   },
   "outputs": [
    {
     "name": "stdout",
     "output_type": "stream",
     "text": [
      "EPOCH: 0\n",
      "EPOCH: 1\n",
      "EPOCH: 2\n",
      "EPOCH: 3\n",
      "EPOCH: 4\n",
      "EPOCH: 5\n",
      "EPOCH: 6\n",
      "EPOCH: 7\n",
      "EPOCH: 8\n",
      "EPOCH: 9\n",
      "EPOCH: 10\n",
      "EPOCH: 11\n",
      "EPOCH: 12\n",
      "EPOCH: 13\n",
      "EPOCH: 14\n",
      "EPOCH: 15\n",
      "EPOCH: 16\n",
      "EPOCH: 17\n",
      "EPOCH: 18\n",
      "EPOCH: 19\n",
      "EPOCH: 20\n",
      "EPOCH: 21\n",
      "EPOCH: 22\n",
      "EPOCH: 23\n",
      "EPOCH: 24\n",
      "EPOCH: 25\n",
      "EPOCH: 26\n",
      "EPOCH: 27\n",
      "EPOCH: 28\n",
      "EPOCH: 29\n",
      "EPOCH: 30\n",
      "EPOCH: 31\n",
      "EPOCH: 32\n",
      "EPOCH: 33\n",
      "EPOCH: 34\n",
      "EPOCH: 35\n",
      "EPOCH: 36\n",
      "EPOCH: 37\n",
      "EPOCH: 38\n",
      "EPOCH: 39\n",
      "EPOCH: 40\n",
      "EPOCH: 41\n",
      "EPOCH: 42\n",
      "EPOCH: 43\n",
      "EPOCH: 44\n",
      "EPOCH: 45\n",
      "EPOCH: 46\n",
      "EPOCH: 47\n",
      "EPOCH: 48\n",
      "EPOCH: 49\n",
      "EPOCH: 50\n",
      "EPOCH: 51\n",
      "EPOCH: 52\n",
      "EPOCH: 53\n",
      "EPOCH: 54\n",
      "EPOCH: 55\n",
      "EPOCH: 56\n",
      "EPOCH: 57\n",
      "EPOCH: 58\n",
      "EPOCH: 59\n",
      "EPOCH: 60\n",
      "EPOCH: 61\n",
      "EPOCH: 62\n",
      "EPOCH: 63\n",
      "EPOCH: 64\n",
      "EPOCH: 65\n",
      "EPOCH: 66\n",
      "EPOCH: 67\n",
      "EPOCH: 68\n",
      "EPOCH: 69\n",
      "EPOCH: 70\n",
      "EPOCH: 71\n",
      "EPOCH: 72\n",
      "EPOCH: 73\n",
      "EPOCH: 74\n",
      "EPOCH: 75\n",
      "EPOCH: 76\n",
      "EPOCH: 77\n",
      "EPOCH: 78\n",
      "EPOCH: 79\n",
      "EPOCH: 80\n",
      "EPOCH: 81\n",
      "EPOCH: 82\n",
      "EPOCH: 83\n",
      "EPOCH: 84\n",
      "EPOCH: 85\n",
      "EPOCH: 86\n",
      "EPOCH: 87\n",
      "EPOCH: 88\n",
      "EPOCH: 89\n",
      "EPOCH: 90\n",
      "EPOCH: 91\n",
      "EPOCH: 92\n",
      "EPOCH: 93\n",
      "EPOCH: 94\n",
      "EPOCH: 95\n",
      "EPOCH: 96\n",
      "EPOCH: 97\n",
      "EPOCH: 98\n",
      "EPOCH: 99\n",
      "EPOCH: 100\n",
      "EPOCH: 101\n",
      "EPOCH: 102\n",
      "EPOCH: 103\n",
      "EPOCH: 104\n",
      "EPOCH: 105\n",
      "EPOCH: 106\n",
      "EPOCH: 107\n",
      "EPOCH: 108\n",
      "EPOCH: 109\n",
      "EPOCH: 110\n",
      "EPOCH: 111\n",
      "EPOCH: 112\n",
      "EPOCH: 113\n",
      "EPOCH: 114\n",
      "EPOCH: 115\n",
      "EPOCH: 116\n",
      "EPOCH: 117\n",
      "EPOCH: 118\n",
      "EPOCH: 119\n",
      "EPOCH: 120\n",
      "EPOCH: 121\n",
      "EPOCH: 122\n",
      "EPOCH: 123\n",
      "EPOCH: 124\n",
      "EPOCH: 125\n",
      "EPOCH: 126\n",
      "EPOCH: 127\n",
      "EPOCH: 128\n",
      "EPOCH: 129\n",
      "EPOCH: 130\n",
      "EPOCH: 131\n",
      "EPOCH: 132\n",
      "EPOCH: 133\n",
      "EPOCH: 134\n",
      "EPOCH: 135\n",
      "EPOCH: 136\n",
      "EPOCH: 137\n",
      "EPOCH: 138\n",
      "EPOCH: 139\n",
      "EPOCH: 140\n",
      "EPOCH: 141\n",
      "EPOCH: 142\n",
      "EPOCH: 143\n",
      "EPOCH: 144\n",
      "EPOCH: 145\n",
      "EPOCH: 146\n",
      "EPOCH: 147\n",
      "EPOCH: 148\n",
      "EPOCH: 149\n",
      "EPOCH: 150\n",
      "EPOCH: 151\n",
      "EPOCH: 152\n",
      "EPOCH: 153\n",
      "EPOCH: 154\n",
      "EPOCH: 155\n",
      "EPOCH: 156\n",
      "EPOCH: 157\n",
      "EPOCH: 158\n",
      "EPOCH: 159\n",
      "EPOCH: 160\n",
      "EPOCH: 161\n",
      "EPOCH: 162\n",
      "EPOCH: 163\n",
      "EPOCH: 164\n",
      "EPOCH: 165\n",
      "EPOCH: 166\n",
      "EPOCH: 167\n",
      "EPOCH: 168\n",
      "EPOCH: 169\n",
      "EPOCH: 170\n",
      "EPOCH: 171\n",
      "EPOCH: 172\n",
      "EPOCH: 173\n",
      "EPOCH: 174\n",
      "EPOCH: 175\n",
      "EPOCH: 176\n",
      "EPOCH: 177\n",
      "EPOCH: 178\n",
      "EPOCH: 179\n",
      "EPOCH: 180\n",
      "EPOCH: 181\n",
      "EPOCH: 182\n",
      "EPOCH: 183\n",
      "EPOCH: 184\n",
      "EPOCH: 185\n",
      "EPOCH: 186\n",
      "EPOCH: 187\n",
      "EPOCH: 188\n",
      "EPOCH: 189\n",
      "EPOCH: 190\n",
      "EPOCH: 191\n",
      "EPOCH: 192\n",
      "EPOCH: 193\n",
      "EPOCH: 194\n",
      "EPOCH: 195\n",
      "EPOCH: 196\n",
      "EPOCH: 197\n",
      "EPOCH: 198\n",
      "EPOCH: 199\n",
      "EPOCH: 200\n",
      "EPOCH: 201\n",
      "EPOCH: 202\n",
      "EPOCH: 203\n",
      "EPOCH: 204\n",
      "EPOCH: 205\n",
      "EPOCH: 206\n",
      "EPOCH: 207\n",
      "EPOCH: 208\n",
      "EPOCH: 209\n",
      "EPOCH: 210\n",
      "EPOCH: 211\n",
      "EPOCH: 212\n",
      "EPOCH: 213\n",
      "EPOCH: 214\n",
      "EPOCH: 215\n",
      "EPOCH: 216\n",
      "EPOCH: 217\n",
      "EPOCH: 218\n",
      "EPOCH: 219\n",
      "EPOCH: 220\n",
      "EPOCH: 221\n",
      "EPOCH: 222\n",
      "EPOCH: 223\n",
      "EPOCH: 224\n",
      "EPOCH: 225\n",
      "EPOCH: 226\n",
      "EPOCH: 227\n",
      "EPOCH: 228\n",
      "EPOCH: 229\n",
      "EPOCH: 230\n",
      "EPOCH: 231\n",
      "EPOCH: 232\n",
      "EPOCH: 233\n",
      "EPOCH: 234\n",
      "EPOCH: 235\n",
      "EPOCH: 236\n",
      "EPOCH: 237\n",
      "EPOCH: 238\n",
      "EPOCH: 239\n",
      "EPOCH: 240\n",
      "EPOCH: 241\n",
      "EPOCH: 242\n",
      "EPOCH: 243\n",
      "EPOCH: 244\n",
      "EPOCH: 245\n",
      "EPOCH: 246\n",
      "EPOCH: 247\n",
      "EPOCH: 248\n",
      "EPOCH: 249\n",
      "EPOCH: 250\n",
      "EPOCH: 251\n",
      "EPOCH: 252\n",
      "EPOCH: 253\n",
      "EPOCH: 254\n",
      "EPOCH: 255\n",
      "EPOCH: 256\n",
      "EPOCH: 257\n",
      "EPOCH: 258\n",
      "EPOCH: 259\n",
      "EPOCH: 260\n",
      "EPOCH: 261\n",
      "EPOCH: 262\n",
      "EPOCH: 263\n",
      "EPOCH: 264\n",
      "EPOCH: 265\n",
      "EPOCH: 266\n",
      "EPOCH: 267\n",
      "EPOCH: 268\n",
      "EPOCH: 269\n",
      "EPOCH: 270\n",
      "EPOCH: 271\n",
      "EPOCH: 272\n",
      "EPOCH: 273\n",
      "EPOCH: 274\n",
      "EPOCH: 275\n",
      "EPOCH: 276\n",
      "EPOCH: 277\n",
      "EPOCH: 278\n",
      "EPOCH: 279\n",
      "EPOCH: 280\n",
      "EPOCH: 281\n",
      "EPOCH: 282\n",
      "EPOCH: 283\n",
      "EPOCH: 284\n",
      "EPOCH: 285\n",
      "EPOCH: 286\n",
      "EPOCH: 287\n",
      "EPOCH: 288\n",
      "EPOCH: 289\n",
      "EPOCH: 290\n",
      "EPOCH: 291\n",
      "EPOCH: 292\n",
      "EPOCH: 293\n",
      "EPOCH: 294\n",
      "EPOCH: 295\n",
      "EPOCH: 296\n",
      "EPOCH: 297\n",
      "EPOCH: 298\n",
      "EPOCH: 299\n",
      "EPOCH: 300\n",
      "EPOCH: 301\n",
      "EPOCH: 302\n",
      "EPOCH: 303\n",
      "EPOCH: 304\n",
      "EPOCH: 305\n",
      "EPOCH: 306\n",
      "EPOCH: 307\n",
      "EPOCH: 308\n",
      "EPOCH: 309\n",
      "EPOCH: 310\n",
      "EPOCH: 311\n",
      "EPOCH: 312\n",
      "EPOCH: 313\n",
      "EPOCH: 314\n",
      "EPOCH: 315\n",
      "EPOCH: 316\n",
      "EPOCH: 317\n",
      "EPOCH: 318\n",
      "EPOCH: 319\n",
      "EPOCH: 320\n",
      "EPOCH: 321\n",
      "EPOCH: 322\n",
      "EPOCH: 323\n",
      "EPOCH: 324\n",
      "EPOCH: 325\n",
      "EPOCH: 326\n",
      "EPOCH: 327\n",
      "EPOCH: 328\n",
      "EPOCH: 329\n",
      "EPOCH: 330\n",
      "EPOCH: 331\n",
      "EPOCH: 332\n",
      "EPOCH: 333\n",
      "EPOCH: 334\n",
      "EPOCH: 335\n",
      "EPOCH: 336\n",
      "EPOCH: 337\n",
      "EPOCH: 338\n",
      "EPOCH: 339\n",
      "EPOCH: 340\n",
      "EPOCH: 341\n",
      "EPOCH: 342\n",
      "EPOCH: 343\n",
      "EPOCH: 344\n",
      "EPOCH: 345\n",
      "EPOCH: 346\n",
      "EPOCH: 347\n",
      "EPOCH: 348\n",
      "EPOCH: 349\n",
      "EPOCH: 350\n",
      "EPOCH: 351\n",
      "EPOCH: 352\n",
      "EPOCH: 353\n",
      "EPOCH: 354\n",
      "EPOCH: 355\n",
      "EPOCH: 356\n",
      "EPOCH: 357\n",
      "EPOCH: 358\n",
      "EPOCH: 359\n",
      "EPOCH: 360\n",
      "EPOCH: 361\n",
      "EPOCH: 362\n",
      "EPOCH: 363\n",
      "EPOCH: 364\n",
      "EPOCH: 365\n",
      "EPOCH: 366\n",
      "EPOCH: 367\n",
      "EPOCH: 368\n",
      "EPOCH: 369\n",
      "EPOCH: 370\n",
      "EPOCH: 371\n",
      "EPOCH: 372\n",
      "EPOCH: 373\n",
      "EPOCH: 374\n",
      "EPOCH: 375\n",
      "EPOCH: 376\n",
      "EPOCH: 377\n",
      "EPOCH: 378\n",
      "EPOCH: 379\n",
      "EPOCH: 380\n",
      "EPOCH: 381\n",
      "EPOCH: 382\n",
      "EPOCH: 383\n",
      "EPOCH: 384\n",
      "EPOCH: 385\n",
      "EPOCH: 386\n",
      "EPOCH: 387\n",
      "EPOCH: 388\n",
      "EPOCH: 389\n",
      "EPOCH: 390\n",
      "EPOCH: 391\n",
      "EPOCH: 392\n",
      "EPOCH: 393\n",
      "EPOCH: 394\n",
      "EPOCH: 395\n",
      "EPOCH: 396\n",
      "EPOCH: 397\n",
      "EPOCH: 398\n",
      "EPOCH: 399\n",
      "EPOCH: 400\n",
      "EPOCH: 401\n",
      "EPOCH: 402\n",
      "EPOCH: 403\n",
      "EPOCH: 404\n",
      "EPOCH: 405\n",
      "EPOCH: 406\n",
      "EPOCH: 407\n",
      "EPOCH: 408\n",
      "EPOCH: 409\n",
      "EPOCH: 410\n",
      "EPOCH: 411\n",
      "EPOCH: 412\n",
      "EPOCH: 413\n",
      "EPOCH: 414\n",
      "EPOCH: 415\n",
      "EPOCH: 416\n",
      "EPOCH: 417\n",
      "EPOCH: 418\n",
      "EPOCH: 419\n",
      "EPOCH: 420\n",
      "EPOCH: 421\n",
      "EPOCH: 422\n",
      "EPOCH: 423\n",
      "EPOCH: 424\n",
      "EPOCH: 425\n",
      "EPOCH: 426\n",
      "EPOCH: 427\n",
      "EPOCH: 428\n",
      "EPOCH: 429\n",
      "EPOCH: 430\n",
      "EPOCH: 431\n",
      "EPOCH: 432\n",
      "EPOCH: 433\n",
      "EPOCH: 434\n",
      "EPOCH: 435\n",
      "EPOCH: 436\n",
      "EPOCH: 437\n",
      "EPOCH: 438\n",
      "EPOCH: 439\n",
      "EPOCH: 440\n",
      "EPOCH: 441\n",
      "EPOCH: 442\n",
      "EPOCH: 443\n",
      "EPOCH: 444\n",
      "EPOCH: 445\n",
      "EPOCH: 446\n",
      "EPOCH: 447\n",
      "EPOCH: 448\n",
      "EPOCH: 449\n",
      "EPOCH: 450\n",
      "EPOCH: 451\n",
      "EPOCH: 452\n",
      "EPOCH: 453\n",
      "EPOCH: 454\n",
      "EPOCH: 455\n",
      "EPOCH: 456\n",
      "EPOCH: 457\n",
      "EPOCH: 458\n",
      "EPOCH: 459\n",
      "EPOCH: 460\n",
      "EPOCH: 461\n",
      "EPOCH: 462\n",
      "EPOCH: 463\n",
      "EPOCH: 464\n",
      "EPOCH: 465\n",
      "EPOCH: 466\n",
      "EPOCH: 467\n",
      "EPOCH: 468\n",
      "EPOCH: 469\n",
      "EPOCH: 470\n",
      "EPOCH: 471\n",
      "EPOCH: 472\n",
      "EPOCH: 473\n",
      "EPOCH: 474\n",
      "EPOCH: 475\n",
      "EPOCH: 476\n",
      "EPOCH: 477\n",
      "EPOCH: 478\n",
      "EPOCH: 479\n",
      "EPOCH: 480\n",
      "EPOCH: 481\n",
      "EPOCH: 482\n",
      "EPOCH: 483\n",
      "EPOCH: 484\n",
      "EPOCH: 485\n",
      "EPOCH: 486\n",
      "EPOCH: 487\n",
      "EPOCH: 488\n",
      "EPOCH: 489\n",
      "EPOCH: 490\n",
      "EPOCH: 491\n",
      "EPOCH: 492\n",
      "EPOCH: 493\n",
      "EPOCH: 494\n",
      "EPOCH: 495\n",
      "EPOCH: 496\n",
      "EPOCH: 497\n",
      "EPOCH: 498\n",
      "EPOCH: 499\n"
     ]
    }
   ],
   "source": [
    "with tf.Session() as sess:\n",
    "    sess.run(init)\n",
    "    \n",
    "    for i in range(epochs):\n",
    "        num_batches = mnist.train.num_examples // batch_size\n",
    "        \n",
    "        for n in range(num_batches):\n",
    "            batch = mnist.train.next_batch(batch_size)\n",
    "            \n",
    "            batch_img = batch[0].reshape((batch_size, 784))\n",
    "            batch_img = batch_img * 2 - 1\n",
    "            \n",
    "            batch_z = np.random.uniform(-1,1,size=(batch_size, 100))\n",
    "            \n",
    "            _ = sess.run(Dis_opt, feed_dict={input_images: batch_img, z:batch_z})\n",
    "            _ = sess.run(Gen_opt, feed_dict={z:batch_z})\n",
    "            \n",
    "        print('EPOCH: {}'.format(i))\n",
    "        \n",
    "        sample_z = np.random.uniform(-1,1,size=(1,100))\n",
    "        gen_sample = sess.run(generator(z, reuse=True), feed_dict={z: sample_z})\n",
    "        samples.append(gen_sample)"
   ]
  },
  {
   "cell_type": "code",
   "execution_count": 23,
   "metadata": {
    "collapsed": false
   },
   "outputs": [
    {
     "data": {
      "text/plain": [
       "<matplotlib.image.AxesImage at 0x22729f3ea58>"
      ]
     },
     "execution_count": 23,
     "metadata": {},
     "output_type": "execute_result"
    },
    {
     "data": {
      "image/png": "[encoded data removed]",
      "text/plain": [
       "<matplotlib.figure.Figure at 0x22729f511d0>"
      ]
     },
     "metadata": {},
     "output_type": "display_data"
    }
   ],
   "source": [
    "plt.imshow(samples[499].reshape(28,28), cmap='Greys')"
   ]
  },
  {
   "cell_type": "code",
   "execution_count": 24,
   "metadata": {
    "collapsed": false
   },
   "outputs": [
    {
     "data": {
      "image/png": "[encoded data removed]",
      "text/plain": [
       "<matplotlib.figure.Figure at 0x22721756d30>"
      ]
     },
     "metadata": {},
     "output_type": "display_data"
    }
   ],
   "source": [
    "# Plot Generated Images\n",
    "n = np.random.randint(0,499,10)\n",
    "\n",
    "fig, ax = plt.subplots(nrows=2, ncols=5, figsize=(20,10))\n",
    "u = 0\n",
    "for i in range(2):\n",
    "    for j in range(5):\n",
    "        ax[i][j].imshow(samples[n[u]].reshape(28,28), cmap='Greys')\n",
    "        u +=1 "
   ]
  }
 ],
 "metadata": {
  "kernelspec": {
   "display_name": "Python 3",
   "language": "python",
   "name": "python3"
  },
  "language_info": {
   "codemirror_mode": {
    "name": "ipython",
    "version": 3
   },
   "file_extension": ".py",
   "mimetype": "text/x-python",
   "name": "python",
   "nbconvert_exporter": "python",
   "pygments_lexer": "ipython3",
   "version": "3.5.3"
  }
 },
 "nbformat": 4,
 "nbformat_minor": 2
}
