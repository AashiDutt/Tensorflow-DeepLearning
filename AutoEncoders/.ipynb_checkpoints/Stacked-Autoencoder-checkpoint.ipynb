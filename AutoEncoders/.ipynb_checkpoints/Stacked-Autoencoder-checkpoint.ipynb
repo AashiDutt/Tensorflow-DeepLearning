{
 "cells": [
  {
   "cell_type": "code",
   "execution_count": 1,
   "metadata": {},
   "outputs": [
    {
     "name": "stderr",
     "output_type": "stream",
     "text": [
      "c:\\users\\hare krishna\\appdata\\local\\programs\\python\\python35\\lib\\site-packages\\h5py\\__init__.py:34: FutureWarning: Conversion of the second argument of issubdtype from `float` to `np.floating` is deprecated. In future, it will be treated as `np.float64 == np.dtype(float).type`.\n",
      "  from ._conv import register_converters as _register_converters\n"
     ]
    }
   ],
   "source": [
    "# Import Dependencies\n",
    "import numpy as np\n",
    "import tensorflow as tf\n",
    "from tensorflow.examples.tutorials.mnist import input_data\n",
    "import matplotlib.pyplot as plt\n",
    "%matplotlib inline"
   ]
  },
  {
   "cell_type": "code",
   "execution_count": 2,
   "metadata": {},
   "outputs": [
    {
     "name": "stdout",
     "output_type": "stream",
     "text": [
      "Extracting ./dataset/MNIST_Data/train-images-idx3-ubyte.gz\n",
      "Extracting ./dataset/MNIST_Data/train-labels-idx1-ubyte.gz\n",
      "Extracting ./dataset/MNIST_Data/t10k-images-idx3-ubyte.gz\n",
      "Extracting ./dataset/MNIST_Data/t10k-labels-idx1-ubyte.gz\n"
     ]
    }
   ],
   "source": [
    "# Load Data\n",
    "mnist = input_data.read_data_sets('./dataset/MNIST_Data/', one_hot=True)"
   ]
  },
  {
   "cell_type": "code",
   "execution_count": 3,
   "metadata": {},
   "outputs": [],
   "source": [
    "# Reset Default Graph\n",
    "tf.reset_default_graph()"
   ]
  },
  {
   "cell_type": "markdown",
   "metadata": {},
   "source": [
    "## Stacked AutoEncoder"
   ]
  },
  {
   "cell_type": "code",
   "execution_count": 4,
   "metadata": {},
   "outputs": [],
   "source": [
    "# 1st Layer: Input Layer\n",
    "n_inputs = 784\n",
    "\n",
    "# 1st Hidden Layer Neurons\n",
    "hidden1 = 392\n",
    "\n",
    "# 2nd Hidden Layer Neurons\n",
    "hidden2 = 196\n",
    "\n",
    "# 3rd Hidden Layer Neurons\n",
    "hidden3 = 392\n",
    "\n",
    "# Output Layer Neurons\n",
    "out = 784"
   ]
  },
  {
   "cell_type": "code",
   "execution_count": 5,
   "metadata": {},
   "outputs": [],
   "source": [
    "lr = 0.01"
   ]
  },
  {
   "cell_type": "code",
   "execution_count": 6,
   "metadata": {},
   "outputs": [],
   "source": [
    "activation_fxn = tf.nn.relu"
   ]
  },
  {
   "cell_type": "code",
   "execution_count": 7,
   "metadata": {},
   "outputs": [],
   "source": [
    "X = tf.placeholder(tf.float32, shape=[None, n_inputs])"
   ]
  },
  {
   "cell_type": "code",
   "execution_count": 8,
   "metadata": {},
   "outputs": [],
   "source": [
    "# Initialize Weights\n",
    "initializer = tf.variance_scaling_initializer()"
   ]
  },
  {
   "cell_type": "code",
   "execution_count": 9,
   "metadata": {},
   "outputs": [],
   "source": [
    "# Initialize Weights for Autoencoder Layers\n",
    "w1 = tf.Variable(initializer([n_inputs,hidden1]), dtype=tf.float32)\n",
    "w2 = tf.Variable(initializer([hidden1,hidden2]), dtype=tf.float32)\n",
    "w3 = tf.Variable(initializer([hidden2,hidden3]), dtype=tf.float32)\n",
    "w4 = tf.Variable(initializer([hidden3,out]), dtype=tf.float32)"
   ]
  },
  {
   "cell_type": "code",
   "execution_count": 10,
   "metadata": {},
   "outputs": [],
   "source": [
    "# Initialize Bias\n",
    "b1 = tf.Variable(tf.zeros(hidden1))\n",
    "b2 = tf.Variable(tf.zeros(hidden2))\n",
    "b3 = tf.Variable(tf.zeros(hidden3))\n",
    "b4 = tf.Variable(tf.zeros(out))"
   ]
  },
  {
   "cell_type": "code",
   "execution_count": 11,
   "metadata": {},
   "outputs": [],
   "source": [
    "# Make Hidden Layers\n",
    "hid_layer1 = activation_fxn(tf.matmul(X,w1) + b1)\n",
    "hid_layer2 = activation_fxn(tf.matmul(hid_layer1,w2) + b2)\n",
    "hid_layer3 = activation_fxn(tf.matmul(hid_layer2,w3) + b3)\n",
    "out_layer = activation_fxn(tf.matmul(hid_layer3,w4) + b4)"
   ]
  },
  {
   "cell_type": "code",
   "execution_count": 12,
   "metadata": {},
   "outputs": [],
   "source": [
    "loss = tf.reduce_mean(tf.square(out_layer - X))"
   ]
  },
  {
   "cell_type": "code",
   "execution_count": 13,
   "metadata": {},
   "outputs": [],
   "source": [
    "optimizer = tf.train.AdamOptimizer(lr).minimize(loss)"
   ]
  },
  {
   "cell_type": "code",
   "execution_count": 14,
   "metadata": {},
   "outputs": [],
   "source": [
    "init = tf.global_variables_initializer()"
   ]
  },
  {
   "cell_type": "code",
   "execution_count": 15,
   "metadata": {},
   "outputs": [],
   "source": [
    "saver = tf.train.Saver()"
   ]
  },
  {
   "cell_type": "code",
   "execution_count": 16,
   "metadata": {},
   "outputs": [
    {
     "name": "stdout",
     "output_type": "stream",
     "text": [
      "EPOCH: 0\t  LOSS: 0.035459253937006\n",
      "EPOCH: 1\t  LOSS: 0.032120369374752045\n",
      "EPOCH: 2\t  LOSS: 0.031990960240364075\n",
      "EPOCH: 3\t  LOSS: 0.03108733892440796\n",
      "EPOCH: 4\t  LOSS: 0.03151610866189003\n"
     ]
    }
   ],
   "source": [
    "epochs = 5\n",
    "batch_size = 150\n",
    "\n",
    "with tf.Session() as sess:\n",
    "    sess.run(init)\n",
    "    \n",
    "    for e in range(epochs):\n",
    "        n_batches = mnist.train.num_examples // batch_size\n",
    "        \n",
    "        for i in range(n_batches):\n",
    "            X_batch, y_batch = mnist.train.next_batch(batch_size)\n",
    "            sess.run(optimizer, feed_dict={X: X_batch})\n",
    "        \n",
    "        training_loss = loss.eval(feed_dict={X:X_batch})\n",
    "        print('EPOCH: {}\\t  LOSS: {}'.format(e, training_loss))\n",
    "    saver.save(sess,'./output/Stacked_Autoencoder/')"
   ]
  },
  {
   "cell_type": "code",
   "execution_count": 17,
   "metadata": {},
   "outputs": [
    {
     "name": "stdout",
     "output_type": "stream",
     "text": [
      "INFO:tensorflow:Restoring parameters from ./output/Stacked_Autoencoder/\n"
     ]
    }
   ],
   "source": [
    "n_test = 10\n",
    "\n",
    "with tf.Session() as sess:\n",
    "    saver.restore(sess,'./output/Stacked_Autoencoder/')\n",
    "    \n",
    "    results = out_layer.eval(feed_dict={X: mnist.test.images[:n_test]})"
   ]
  },
  {
   "cell_type": "code",
   "execution_count": 18,
   "metadata": {},
   "outputs": [
    {
     "data": {
      "text/plain": [
       "array([[0., 0., 0., ..., 0., 0., 0.],\n",
       "       [0., 0., 0., ..., 0., 0., 0.],\n",
       "       [0., 0., 0., ..., 0., 0., 0.],\n",
       "       ...,\n",
       "       [0., 0., 0., ..., 0., 0., 0.],\n",
       "       [0., 0., 0., ..., 0., 0., 0.],\n",
       "       [0., 0., 0., ..., 0., 0., 0.]], dtype=float32)"
      ]
     },
     "execution_count": 18,
     "metadata": {},
     "output_type": "execute_result"
    }
   ],
   "source": [
    "results"
   ]
  },
  {
   "cell_type": "code",
   "execution_count": 19,
   "metadata": {},
   "outputs": [
    {
     "data": {
      "image/png": "[encoded data removed]",
      "text/plain": [
       "<matplotlib.figure.Figure at 0x1b9eb9f99e8>"
      ]
     },
     "metadata": {},
     "output_type": "display_data"
    }
   ],
   "source": [
    "fig, ax = plt.subplots(nrows=2, ncols=10, figsize=(20,4))\n",
    "for i in range(n_test):\n",
    "    ax[0][i].imshow(np.reshape(mnist.test.images[i], (28,28)))\n",
    "    ax[1][i].imshow(np.reshape(results[i],(28,28)))"
   ]
  },
  {
   "cell_type": "code",
   "execution_count": 23,
   "metadata": {},
   "outputs": [
    {
     "name": "stdout",
     "output_type": "stream",
     "text": [
      "INFO:tensorflow:Restoring parameters from ./output/Stacked_Autoencoder/\n"
     ]
    }
   ],
   "source": [
    "n_test = 10\n",
    "\n",
    "with tf.Session() as sess:\n",
    "    saver.restore(sess,'./output/Stacked_Autoencoder/')\n",
    "    \n",
    "    results = hid_layer2.eval(feed_dict={X: mnist.test.images[:n_test]})"
   ]
  },
  {
   "cell_type": "code",
   "execution_count": 24,
   "metadata": {},
   "outputs": [
    {
     "data": {
      "image/png": "[encoded data removed]",
      "text/plain": [
       "<matplotlib.figure.Figure at 0x1b98512f908>"
      ]
     },
     "metadata": {},
     "output_type": "display_data"
    }
   ],
   "source": [
    "fig, ax = plt.subplots(nrows=2, ncols=10, figsize=(20,4))\n",
    "for i in range(n_test):\n",
    "    ax[0][i].imshow(np.reshape(mnist.test.images[i], (28,28)))\n",
    "    ax[1][i].imshow(np.reshape(results[i],(14,14)))"
   ]
  }
 ],
 "metadata": {
  "kernelspec": {
   "display_name": "Python 3",
   "language": "python",
   "name": "python3"
  },
  "language_info": {
   "codemirror_mode": {
    "name": "ipython",
    "version": 3
   },
   "file_extension": ".py",
   "mimetype": "text/x-python",
   "name": "python",
   "nbconvert_exporter": "python",
   "pygments_lexer": "ipython3",
   "version": "3.5.3"
  }
 },
 "nbformat": 4,
 "nbformat_minor": 2
}
