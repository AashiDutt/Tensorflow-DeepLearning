{
 "cells": [
  {
   "cell_type": "markdown",
   "metadata": {},
   "source": [
    "## AutoEncoder\n",
    "\n",
    "***Principal:***\n",
    "\n",
    "***ENCODER  =>  HIDDEN LAYER  =>  DECODER***\n",
    "\n",
    "1. **Overcomplete Autoencoder:** Num Neurons Hidden Layer >  Num Neurons Ouput Layer\n",
    "\n",
    "2. **Undercomplete Autoencoder:** Num Neurons Output Layer >  Num Neurons Hidden Layer\n",
    "\n",
    "3. The wights in Autoencoder are tied i.e. \n",
    "\n",
    "    Weight [Who] from Hidden Layer to Ouput Layer is Transpose of Weight [Wih] from Input Layer to Hidden Layer\n",
    "\n",
    "    i.e. ***Who = Wih ^ T***\n",
    "\n",
    "    The biases are not tied to each other.\n",
    "\n",
    "4. Hidden layer is used to learn important features [compressed representation] from the Input data."
   ]
  },
  {
   "cell_type": "markdown",
   "metadata": {},
   "source": [
    "## Dimensionality Reduction using Linear Autoencoders\n",
    "\n",
    "1. Linear Autoencoder can be used for PCA of data. ex. Input 3-D Data, Output 2D Data.\n",
    "\n",
    "2. The data goes from Input to output without any activation."
   ]
  },
  {
   "cell_type": "code",
   "execution_count": 1,
   "metadata": {
    "collapsed": true
   },
   "outputs": [],
   "source": [
    "import numpy as np\n",
    "import matplotlib.pyplot as plt\n",
    "from sklearn.datasets import make_blobs\n",
    "%matplotlib inline"
   ]
  },
  {
   "cell_type": "code",
   "execution_count": 2,
   "metadata": {
    "collapsed": true
   },
   "outputs": [],
   "source": [
    "# Make Random Dataset\n",
    "# 2 Classes\n",
    "# 3 features\n",
    "# Num Samples = 100\n",
    "data = make_blobs(n_samples=100, n_features=3, centers=2, random_state=101)"
   ]
  },
  {
   "cell_type": "code",
   "execution_count": 3,
   "metadata": {
    "collapsed": false
   },
   "outputs": [
    {
     "data": {
      "text/plain": [
       "tuple"
      ]
     },
     "execution_count": 3,
     "metadata": {},
     "output_type": "execute_result"
    }
   ],
   "source": [
    "type(data)"
   ]
  },
  {
   "cell_type": "code",
   "execution_count": 4,
   "metadata": {
    "collapsed": false
   },
   "outputs": [
    {
     "data": {
      "text/plain": [
       "(array([[  0.99429187,   0.87511711,  -9.99909683],\n",
       "        [  0.65761885,   0.91624771, -10.18458517],\n",
       "        [ -6.48804352,   3.29034852,   6.73159871],\n",
       "        [  0.5815206 ,   2.06249948,  -9.07157495],\n",
       "        [ -7.42442678,   5.30835517,   6.86341624],\n",
       "        [  2.26790487,   0.40816482, -10.17230518],\n",
       "        [  1.62073713,  -0.05416228,  -9.92461083],\n",
       "        [  2.41199108,   1.03683306,  -9.20017913],\n",
       "        [ -7.62441747,   5.87096075,   5.41069708],\n",
       "        [ -7.34160752,   3.671108  ,   7.36634568],\n",
       "        [ -7.56358517,   3.5736335 ,   5.34284552],\n",
       "        [  2.22972735,   1.6514787 ,  -7.43386319],\n",
       "        [ -0.75249891,   2.31574949,  -9.26873428],\n",
       "        [  0.54946324,   0.5581557 ,  -7.88852506],\n",
       "        [ -0.4308995 ,   0.48011452,  -8.47545896],\n",
       "        [ -1.19436032,   2.54705473,  -8.90232874],\n",
       "        [ -0.06318407,   2.4416449 , -11.40312057],\n",
       "        [ -6.70999871,   3.8246846 ,   7.34365184],\n",
       "        [  1.32054601,   2.60559237, -10.47729501],\n",
       "        [  0.15391601,   2.19349145,  -9.8137736 ],\n",
       "        [  0.32833903,   2.43933589,  -9.58711337],\n",
       "        [ -7.01543966,   4.3914134 ,   9.46294692],\n",
       "        [  0.16543782,   1.89916047,  -9.03802666],\n",
       "        [  0.7185004 ,   1.58025637,  -9.24601361],\n",
       "        [ -7.65700277,   1.13777271,   7.33896645],\n",
       "        [ -7.12044288,   4.64758461,   5.7025879 ],\n",
       "        [  1.93475242,   0.29764177, -10.81589403],\n",
       "        [ -6.4220804 ,   2.9760733 ,   5.9578275 ],\n",
       "        [ -7.39003004,   2.67596248,   5.15308172],\n",
       "        [ -7.03832316,   4.56563667,   6.9080243 ],\n",
       "        [ -4.07557669,   3.15827975,   7.17466421],\n",
       "        [ -0.61543385,   1.89810338,  -9.54728879],\n",
       "        [  0.9339379 ,  -0.60481651,  -8.69039341],\n",
       "        [ -4.81755245,   4.40108636,   6.83159809],\n",
       "        [  0.57115017,   2.27751662, -10.99144692],\n",
       "        [ -1.0016875 ,   1.45481168,  -9.84157087],\n",
       "        [  1.7353108 ,   2.05515725, -10.33561537],\n",
       "        [ -8.68467997,   3.42602942,   7.74064767],\n",
       "        [  0.9790905 ,   1.09403369, -10.27859245],\n",
       "        [ -5.79759684,   3.99975626,   5.28641819],\n",
       "        [  2.44569994,   1.61087572,  -7.12752821],\n",
       "        [  1.81046805,   2.37480989, -11.57172776],\n",
       "        [ -6.24790729,   4.71286377,   7.00772091],\n",
       "        [ -8.20249087,   4.507669  ,   5.01040047],\n",
       "        [  1.00918185,   2.44847681,  -9.46167595],\n",
       "        [ -6.78887759,   3.65986315,   6.69035824],\n",
       "        [  0.51876688,   3.39210906,  -6.82454819],\n",
       "        [ -8.40882774,   4.56913524,   5.60134675],\n",
       "        [ -0.44335605,   1.52382915, -10.23516698],\n",
       "        [ -5.24785153,   4.49966814,   8.03764923],\n",
       "        [ -6.13431395,   4.96544332,   6.2300389 ],\n",
       "        [ -1.37811338,   0.25423232,  -9.56535619],\n",
       "        [  0.29639341,   2.06317757,  -7.27566903],\n",
       "        [ -6.17610612,   3.075033  ,   5.27964757],\n",
       "        [ -0.53891248,   2.13413934, -10.65359751],\n",
       "        [ -5.43954882,   4.60333595,   7.00880287],\n",
       "        [  0.85678605,   0.8243512 ,  -9.24182016],\n",
       "        [ -0.65480344,   3.64490698, -10.40190804],\n",
       "        [ -6.05573415,   2.7773348 ,   7.52484115],\n",
       "        [ -0.80584461,   2.02382964,  -9.04448516],\n",
       "        [ -0.2822863 ,   0.6580264 ,  -9.77693397],\n",
       "        [ -5.66674102,   3.16763048,   5.12826615],\n",
       "        [  1.35278283,   0.48747748,  -7.56765133],\n",
       "        [ -6.47593889,   4.94635225,   5.58024423],\n",
       "        [ -6.86800262,   3.73468111,   7.56696814],\n",
       "        [ -6.65886532,   4.40410604,   5.26881157],\n",
       "        [ -7.14994986,   4.91456692,   7.87968128],\n",
       "        [  1.05699629,   0.55026047,  -9.12488396],\n",
       "        [  0.51509708,   0.68050659, -10.81343557],\n",
       "        [ -5.53765102,   2.62442136,   6.67758229],\n",
       "        [ -5.69865986,   5.29135203,   7.60759509],\n",
       "        [  1.16100188,   2.38907142,  -9.81875417],\n",
       "        [  0.47499933,   0.9339037 ,  -8.87174606],\n",
       "        [ -9.30656147,   5.22810174,   6.85594634],\n",
       "        [  1.1112886 ,   0.704398  ,  -8.84366818],\n",
       "        [ -6.16198043,   4.51338238,   3.94147281],\n",
       "        [ -7.80518114,   2.90711167,   7.43205869],\n",
       "        [  0.0760756 ,   0.83523148,  -9.19351984],\n",
       "        [  0.52875302,   1.74119648,  -8.75603028],\n",
       "        [ -5.95090888,   1.65297671,   6.51129114],\n",
       "        [ -5.96070958,   3.99201262,   6.47214495],\n",
       "        [ -5.04581642,   4.99576956,   5.19961789],\n",
       "        [ -7.37241005,   3.45206025,   6.768636  ],\n",
       "        [ -6.78944842,   3.99833476,   7.51229177],\n",
       "        [ -7.55471973,   3.55026388,   5.66470924],\n",
       "        [ -0.66529095,   1.61015124, -10.56716006],\n",
       "        [ -4.54002269,   2.65918125,   5.37145495],\n",
       "        [ -1.3503111 ,   1.74732484,  -9.962986  ],\n",
       "        [  1.01148144,   1.71601719,  -7.73679255],\n",
       "        [ -8.4775757 ,   3.32543613,   5.01187807],\n",
       "        [ -1.29337527,   2.09088685,  -9.40440999],\n",
       "        [ -6.35533268,   3.46502969,   5.25698778],\n",
       "        [ -0.08134593,   1.75689092,  -9.23424015],\n",
       "        [  1.13567847,   1.48631141,  -8.79172846],\n",
       "        [ -6.40192863,   2.93960956,   7.64023642],\n",
       "        [ -6.85482364,   5.79607878,   7.6819934 ],\n",
       "        [ -7.63261577,   3.58015883,   5.73234913],\n",
       "        [ -6.90248768,   2.77693736,   8.39388742],\n",
       "        [ -6.3033601 ,   4.1181198 ,   7.6667101 ],\n",
       "        [ -7.19637228,   3.31445067,   8.4214142 ]]),\n",
       " array([0, 0, 1, 0, 1, 0, 0, 0, 1, 1, 1, 0, 0, 0, 0, 0, 0, 1, 0, 0, 0, 1, 0,\n",
       "        0, 1, 1, 0, 1, 1, 1, 1, 0, 0, 1, 0, 0, 0, 1, 0, 1, 0, 0, 1, 1, 0, 1,\n",
       "        0, 1, 0, 1, 1, 0, 0, 1, 0, 1, 0, 0, 1, 0, 0, 1, 0, 1, 1, 1, 1, 0, 0,\n",
       "        1, 1, 0, 0, 1, 0, 1, 1, 0, 0, 1, 1, 1, 1, 1, 1, 0, 1, 0, 0, 1, 0, 1,\n",
       "        0, 0, 1, 1, 1, 1, 1, 1]))"
      ]
     },
     "execution_count": 4,
     "metadata": {},
     "output_type": "execute_result"
    }
   ],
   "source": [
    "data"
   ]
  },
  {
   "cell_type": "code",
   "execution_count": 5,
   "metadata": {
    "collapsed": true
   },
   "outputs": [],
   "source": [
    "from sklearn.preprocessing import MinMaxScaler"
   ]
  },
  {
   "cell_type": "code",
   "execution_count": 6,
   "metadata": {
    "collapsed": true
   },
   "outputs": [],
   "source": [
    "scaler = MinMaxScaler()\n",
    "scaled_data = scaler.fit_transform(data[0])"
   ]
  },
  {
   "cell_type": "code",
   "execution_count": 7,
   "metadata": {
    "collapsed": false
   },
   "outputs": [
    {
     "data": {
      "text/plain": [
       "array([[ 0.87649968,  0.22853374,  0.07476374],\n",
       "       [ 0.84785217,  0.2348852 ,  0.06594552],\n",
       "       [ 0.23982771,  0.60149768,  0.8701502 ],\n",
       "       [ 0.84137697,  0.41189125,  0.11885864],\n",
       "       [ 0.16015085,  0.91312154,  0.87641688],\n",
       "       [ 0.98487142,  0.15642622,  0.06652932],\n",
       "       [ 0.92980391,  0.08503292,  0.07830484],\n",
       "       [ 0.99713171,  0.25350618,  0.11274473],\n",
       "       [ 0.14313364,  1.        ,  0.80735381],\n",
       "       [ 0.16719794,  0.66029518,  0.90032642],\n",
       "       [ 0.14830987,  0.64524301,  0.80412811],\n",
       "       [ 0.98162289,  0.34842076,  0.19671636],\n",
       "       [ 0.72786524,  0.45099853,  0.10948558],\n",
       "       [ 0.83864921,  0.17958805,  0.17510148],\n",
       "       [ 0.75523013,  0.1675368 ,  0.14719832],\n",
       "       [ 0.69026725,  0.48671705,  0.1269047 ],\n",
       "       [ 0.78651904,  0.4704395 ,  0.00801568],\n",
       "       [ 0.22094154,  0.68401073,  0.89924755],\n",
       "       [ 0.90426064,  0.49575653,  0.05202993],\n",
       "       [ 0.80499209,  0.43211924,  0.08357411],\n",
       "       [ 0.81983375,  0.47008294,  0.09434966],\n",
       "       [ 0.19495157,  0.7715259 ,  1.        ],\n",
       "       [ 0.80597248,  0.38666818,  0.12045354],\n",
       "       [ 0.85303258,  0.33742249,  0.11056573],\n",
       "       [ 0.14036096,  0.26909345,  0.8990248 ],\n",
       "       [ 0.18601685,  0.81108428,  0.82123046],\n",
       "       [ 0.95652347,  0.13935907,  0.03593275],\n",
       "       [ 0.24544051,  0.5529668 ,  0.8333647 ],\n",
       "       [ 0.16307767,  0.5066232 ,  0.79510664],\n",
       "       [ 0.19300441,  0.79842974,  0.87853757],\n",
       "       [ 0.44510453,  0.58110341,  0.89121378],\n",
       "       [ 0.73952811,  0.38650494,  0.09624294],\n",
       "       [ 0.87136416,  0.        ,  0.13698022],\n",
       "       [ 0.38196981,  0.77301962,  0.87490423],\n",
       "       [ 0.84049455,  0.44509454,  0.02758687],\n",
       "       [ 0.70666178,  0.31805112,  0.08225261],\n",
       "       [ 0.93955298,  0.41075745,  0.05876546],\n",
       "       [ 0.0529159 ,  0.62244975,  0.91812095],\n",
       "       [ 0.87520619,  0.2623392 ,  0.06147636],\n",
       "       [ 0.29857782,  0.71104558,  0.80144553],\n",
       "       [ 1.        ,  0.34215078,  0.21127969],\n",
       "       [ 0.94594811,  0.46011873,  0.        ],\n",
       "       [ 0.2602609 ,  0.82116479,  0.88327721],\n",
       "       [ 0.09394537,  0.78947828,  0.78832349],\n",
       "       [ 0.87776667,  0.47149449,  0.10031302],\n",
       "       [ 0.21422974,  0.65855873,  0.86818961],\n",
       "       [ 0.83603725,  0.61721171,  0.22568353],\n",
       "       [ 0.07638817,  0.79897   ,  0.8164174 ],\n",
       "       [ 0.75417021,  0.32870891,  0.06354083],\n",
       "       [ 0.34535566,  0.78824278,  0.93224056],\n",
       "       [ 0.26992656,  0.86016853,  0.84630578],\n",
       "       [ 0.6746317 ,  0.13265571,  0.09538401],\n",
       "       [ 0.81711549,  0.41199596,  0.20423699],\n",
       "       [ 0.26637047,  0.56824831,  0.80112365],\n",
       "       [ 0.74603931,  0.42295399,  0.04364842],\n",
       "       [ 0.32904413,  0.80425133,  0.88332864],\n",
       "       [ 0.86479931,  0.22069439,  0.11076509],\n",
       "       [ 0.73617815,  0.65624918,  0.05561387],\n",
       "       [ 0.27661292,  0.52227728,  0.90786139],\n",
       "       [ 0.72332605,  0.40591979,  0.1201465 ],\n",
       "       [ 0.76787563,  0.19501024,  0.08532548],\n",
       "       [ 0.30971235,  0.58254737,  0.79392689],\n",
       "       [ 0.90700368,  0.1686738 ,  0.190356  ],\n",
       "       [ 0.24085769,  0.85722046,  0.81541418],\n",
       "       [ 0.20749699,  0.67011224,  0.90986413],\n",
       "       [ 0.22529248,  0.77348592,  0.8006085 ],\n",
       "       [ 0.1835061 ,  0.85231212,  0.92473068],\n",
       "       [ 0.8818352 ,  0.17836886,  0.1163243 ],\n",
       "       [ 0.83572499,  0.19848167,  0.03604963],\n",
       "       [ 0.32069662,  0.49866413,  0.86758223],\n",
       "       [ 0.30699637,  0.91049588,  0.91179555],\n",
       "       [ 0.89068503,  0.46232102,  0.08333733],\n",
       "       [ 0.83231307,  0.23761166,  0.12835861],\n",
       "       [ 0.        ,  0.90072867,  0.87606176],\n",
       "       [ 0.88645493,  0.20217102,  0.12969345],\n",
       "       [ 0.26757242,  0.79036055,  0.73750608],\n",
       "       [ 0.12775246,  0.54231763,  0.90345046],\n",
       "       [ 0.79836865,  0.22237454,  0.11306131],\n",
       "       [ 0.83688697,  0.36227512,  0.13385981],\n",
       "       [ 0.2855325 ,  0.34865208,  0.85967666],\n",
       "       [ 0.28469856,  0.70984979,  0.85781563],\n",
       "       [ 0.36254682,  0.86485156,  0.79731899],\n",
       "       [ 0.16457696,  0.62646947,  0.87191098],\n",
       "       [ 0.21418117,  0.71082607,  0.90726478],\n",
       "       [ 0.14906423,  0.64163424,  0.81942969],\n",
       "       [ 0.73528577,  0.3420389 ,  0.0477577 ],\n",
       "       [ 0.40558482,  0.50403181,  0.80548822],\n",
       "       [ 0.6769974 ,  0.36322147,  0.07648047],\n",
       "       [ 0.87796234,  0.35838689,  0.18231493],\n",
       "       [ 0.0705384 ,  0.60691597,  0.78839374],\n",
       "       [ 0.68184207,  0.41627487,  0.10303548],\n",
       "       [ 0.25112008,  0.62847223,  0.80004639],\n",
       "       [ 0.78497365,  0.36469868,  0.11112545],\n",
       "       [ 0.88853026,  0.32291536,  0.1321627 ],\n",
       "       [ 0.24715523,  0.54733601,  0.91334734],\n",
       "       [ 0.20861839,  0.98843661,  0.91533249],\n",
       "       [ 0.14243605,  0.64625066,  0.82264533],\n",
       "       [ 0.20456265,  0.5222159 ,  0.94917632],\n",
       "       [ 0.25554242,  0.72932346,  0.91460591],\n",
       "       [ 0.17955601,  0.60521958,  0.95048496]])"
      ]
     },
     "execution_count": 7,
     "metadata": {},
     "output_type": "execute_result"
    }
   ],
   "source": [
    "scaled_data"
   ]
  },
  {
   "cell_type": "code",
   "execution_count": 8,
   "metadata": {
    "collapsed": true
   },
   "outputs": [],
   "source": [
    "# Features\n",
    "X1 = scaled_data[:,0]\n",
    "X2 = scaled_data[:,1]\n",
    "X3 = scaled_data[:,2]"
   ]
  },
  {
   "cell_type": "code",
   "execution_count": 9,
   "metadata": {
    "collapsed": true
   },
   "outputs": [],
   "source": [
    "from mpl_toolkits.mplot3d import Axes3D"
   ]
  },
  {
   "cell_type": "code",
   "execution_count": 10,
   "metadata": {
    "collapsed": false
   },
   "outputs": [
    {
     "data": {
      "text/plain": [
       "<mpl_toolkits.mplot3d.art3d.Path3DCollection at 0x21331976dd8>"
      ]
     },
     "execution_count": 10,
     "metadata": {},
     "output_type": "execute_result"
    },
    {
     "data": {
      "image/png": "[encoded data removed]",
      "text/plain": [
       "<matplotlib.figure.Figure at 0x213319f2c50>"
      ]
     },
     "metadata": {},
     "output_type": "display_data"
    }
   ],
   "source": [
    "# Plot 3-D Data\n",
    "fig = plt.figure()\n",
    "ax = fig.add_subplot(111,projection='3d')\n",
    "ax.scatter(X1, X2, X3, c=data[1])"
   ]
  },
  {
   "cell_type": "markdown",
   "metadata": {},
   "source": [
    "## Linear Autoencoder"
   ]
  },
  {
   "cell_type": "code",
   "execution_count": 11,
   "metadata": {
    "collapsed": true
   },
   "outputs": [],
   "source": [
    "import tensorflow as tf\n",
    "from tensorflow.contrib.layers import fully_connected"
   ]
  },
  {
   "cell_type": "code",
   "execution_count": 12,
   "metadata": {
    "collapsed": true
   },
   "outputs": [],
   "source": [
    "# Neurons in Input Layer\n",
    "n_inputs = 3\n",
    "\n",
    "# Neurons in Hidden Layer\n",
    "hidden = 2\n",
    "\n",
    "# Neurons in Output Layer\n",
    "n_outputs = 3"
   ]
  },
  {
   "cell_type": "code",
   "execution_count": 13,
   "metadata": {
    "collapsed": true
   },
   "outputs": [],
   "source": [
    "# Learning Rate\n",
    "lr = 0.01"
   ]
  },
  {
   "cell_type": "code",
   "execution_count": 14,
   "metadata": {
    "collapsed": true
   },
   "outputs": [],
   "source": [
    "# Input Data\n",
    "X = tf.placeholder(tf.float32, shape=[None,n_inputs])"
   ]
  },
  {
   "cell_type": "code",
   "execution_count": 15,
   "metadata": {
    "collapsed": true
   },
   "outputs": [],
   "source": [
    "# Hidden Layer\n",
    "# Aim is to take 3-D data andconvert to 2-D by learning representations\n",
    "h1 = fully_connected(X, hidden, activation_fn=None)\n",
    "\n",
    "# Output is rescaled to 3-D from 2-D\n",
    "output = fully_connected(h1, n_outputs, activation_fn=None)"
   ]
  },
  {
   "cell_type": "code",
   "execution_count": 16,
   "metadata": {
    "collapsed": true
   },
   "outputs": [],
   "source": [
    "# Loss Function\n",
    "# This checks that how far the Ouptut is from reproducing the Input X\n",
    "loss = tf.reduce_mean(tf.square(output - X))"
   ]
  },
  {
   "cell_type": "code",
   "execution_count": 17,
   "metadata": {
    "collapsed": true
   },
   "outputs": [],
   "source": [
    "optimizer = tf.train.AdamOptimizer(learning_rate=lr).minimize(loss)"
   ]
  },
  {
   "cell_type": "code",
   "execution_count": 18,
   "metadata": {
    "collapsed": true
   },
   "outputs": [],
   "source": [
    "init = tf.global_variables_initializer()"
   ]
  },
  {
   "cell_type": "code",
   "execution_count": 19,
   "metadata": {
    "collapsed": false
   },
   "outputs": [
    {
     "name": "stdout",
     "output_type": "stream",
     "text": [
      "STEP: 0\t , LOSS: 0.622548520565033\n",
      "STEP: 100\t , LOSS: 0.05970676243305206\n",
      "STEP: 200\t , LOSS: 0.0036013361532241106\n",
      "STEP: 300\t , LOSS: 0.0028909100219607353\n",
      "STEP: 400\t , LOSS: 0.0025726156309247017\n",
      "STEP: 500\t , LOSS: 0.002373734023422003\n",
      "STEP: 600\t , LOSS: 0.0022434277925640345\n",
      "STEP: 700\t , LOSS: 0.0021564399357885122\n",
      "STEP: 800\t , LOSS: 0.0020986502058804035\n",
      "STEP: 900\t , LOSS: 0.002060897648334503\n",
      "STEP: 1000\t , LOSS: 0.002036851830780506\n",
      "STEP: 1100\t , LOSS: 0.0020220328588038683\n",
      "STEP: 1200\t , LOSS: 0.002013251418247819\n",
      "STEP: 1300\t , LOSS: 0.00200826907530427\n",
      "STEP: 1400\t , LOSS: 0.0020055710338056087\n",
      "STEP: 1500\t , LOSS: 0.0020041794050484896\n",
      "STEP: 1600\t , LOSS: 0.0020034960471093655\n",
      "STEP: 1700\t , LOSS: 0.0020031766034662724\n",
      "STEP: 1800\t , LOSS: 0.002003034343943\n",
      "STEP: 1900\t , LOSS: 0.0020029740408062935\n",
      "STEP: 2000\t , LOSS: 0.0020029491279274225\n",
      "STEP: 2100\t , LOSS: 0.002002939349040389\n",
      "STEP: 2200\t , LOSS: 0.002002935390919447\n",
      "STEP: 2300\t , LOSS: 0.002002933993935585\n",
      "STEP: 2400\t , LOSS: 0.002002933295443654\n",
      "STEP: 2500\t , LOSS: 0.0020029330626130104\n",
      "STEP: 2600\t , LOSS: 0.002002933295443654\n",
      "STEP: 2700\t , LOSS: 0.0020029328297823668\n",
      "STEP: 2800\t , LOSS: 0.0020029328297823668\n",
      "STEP: 2900\t , LOSS: 0.0020029330626130104\n",
      "STEP: 3000\t , LOSS: 0.002002932596951723\n",
      "STEP: 3100\t , LOSS: 0.0020029330626130104\n",
      "STEP: 3200\t , LOSS: 0.002002932596951723\n",
      "STEP: 3300\t , LOSS: 0.002002932596951723\n",
      "STEP: 3400\t , LOSS: 0.002002932596951723\n",
      "STEP: 3500\t , LOSS: 0.002002932596951723\n",
      "STEP: 3600\t , LOSS: 0.0020029328297823668\n",
      "STEP: 3700\t , LOSS: 0.0020029330626130104\n",
      "STEP: 3800\t , LOSS: 0.0020029328297823668\n",
      "STEP: 3900\t , LOSS: 0.002002932596951723\n",
      "STEP: 4000\t , LOSS: 0.0020029328297823668\n",
      "STEP: 4100\t , LOSS: 0.002002932596951723\n",
      "STEP: 4200\t , LOSS: 0.0020029330626130104\n",
      "STEP: 4300\t , LOSS: 0.0020029328297823668\n",
      "STEP: 4400\t , LOSS: 0.002002932596951723\n",
      "STEP: 4500\t , LOSS: 0.0020029330626130104\n",
      "STEP: 4600\t , LOSS: 0.0020029328297823668\n",
      "STEP: 4700\t , LOSS: 0.0020029330626130104\n",
      "STEP: 4800\t , LOSS: 0.0020029330626130104\n",
      "STEP: 4900\t , LOSS: 0.0020029328297823668\n"
     ]
    }
   ],
   "source": [
    "n_steps = 5000\n",
    "\n",
    "with tf.Session() as sess:\n",
    "    sess.run(init)\n",
    "    \n",
    "    for step in range(n_steps):\n",
    "        _ , loss_val = sess.run([optimizer,loss], feed_dict={X: scaled_data})\n",
    "        \n",
    "        if step % 100 == 0:\n",
    "            print('STEP: {0}\\t , LOSS: {1}'.format(step, loss_val))\n",
    "    \n",
    "    # Use Hidden Layer to get the 2-D Data\n",
    "    output_2d = h1.eval(feed_dict={X: scaled_data})"
   ]
  },
  {
   "cell_type": "code",
   "execution_count": 21,
   "metadata": {
    "collapsed": false
   },
   "outputs": [
    {
     "data": {
      "text/plain": [
       "<matplotlib.collections.PathCollection at 0x2138100a2b0>"
      ]
     },
     "execution_count": 21,
     "metadata": {},
     "output_type": "execute_result"
    },
    {
     "data": {
      "image/png": "[encoded data removed]",
      "text/plain": [
       "<matplotlib.figure.Figure at 0x21380f72e48>"
      ]
     },
     "metadata": {},
     "output_type": "display_data"
    }
   ],
   "source": [
    "# Plot the 2-D Data\n",
    "plt.scatter(output_2d[:,0], output_2d[:,1], c=data[1])"
   ]
  },
  {
   "cell_type": "markdown",
   "metadata": {},
   "source": [
    "We cannot just look at the 2-D data made and tell that what data represents which feature on axis 1 and 2 as we are coming from 3-D data to 2-D data. For a small model we can look at the weights of the model and tell that how much each feature contributes to the output but for a large dataset this becomes difficult. It's the same problem that we face when using any other technique like PCA [Principal Component Analysis]."
   ]
  }
 ],
 "metadata": {
  "kernelspec": {
   "display_name": "Python 3",
   "language": "python",
   "name": "python3"
  },
  "language_info": {
   "codemirror_mode": {
    "name": "ipython",
    "version": 3
   },
   "file_extension": ".py",
   "mimetype": "text/x-python",
   "name": "python",
   "nbconvert_exporter": "python",
   "pygments_lexer": "ipython3",
   "version": "3.5.3"
  }
 },
 "nbformat": 4,
 "nbformat_minor": 2
}
