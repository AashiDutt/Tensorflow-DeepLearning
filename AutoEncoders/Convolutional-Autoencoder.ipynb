{
 "cells": [
  {
   "cell_type": "markdown",
   "metadata": {},
   "source": [
    "## Convolutional Autoencoder\n",
    "\n",
    "In this notebook, we will be implementing a simple Autoencoder for images. Autoencoders are a type of neural networks that learn the features from the data by compressing the data and then reproducing the output same as input. \n",
    "\n",
    "### Architecture:\n",
    "\n",
    "***Input Data  =>  Encoder  => Hidden Layer  =>   Decoder  =>  Output Data***\n",
    "\n",
    "Note that the Input Data == Output Data.\n",
    "\n",
    "The number of nerons in the Input Layer i.e. Encoder == number of neurons in Output Layer i.e. Decoder.\n",
    "\n",
    "The hidden layer is where the magic happens. The hidden layer may have the number of neurons that might be less than the Output Layer (i.e. \"Undercomplete Autoencoder\") or if the number of neurons are more in the Hidden layer than the Output Layer (i.e. \"Overcomplete Autoencoder\").\n",
    "\n",
    "The Encoder for a Convolutional Autoencoder uses Convolution layers instead of the Fully Connected Layers as in the linear Autoencoder followed by MaxPooling layer. \n",
    "\n",
    "At the Hidden Layer, the model takes in the data from a higher dimension and compresses it into lower dimension by learning features from the Input Data.\n",
    "\n",
    "Once the features are learnt, the data moves to the Decoder part which uses Transposed Convolutions along with Maxpooling to get the final image equal to the size of the Input Image. Sometimes, during the decoding process, the image gets blurry or appears in form of blocks. So, to avoid that, we use Upsampling."
   ]
  },
  {
   "cell_type": "code",
   "execution_count": 1,
   "metadata": {},
   "outputs": [
    {
     "name": "stderr",
     "output_type": "stream",
     "text": [
      "c:\\users\\hare krishna\\appdata\\local\\programs\\python\\python35\\lib\\site-packages\\h5py\\__init__.py:34: FutureWarning: Conversion of the second argument of issubdtype from `float` to `np.floating` is deprecated. In future, it will be treated as `np.float64 == np.dtype(float).type`.\n",
      "  from ._conv import register_converters as _register_converters\n"
     ]
    }
   ],
   "source": [
    "# Import Dependencies\n",
    "import numpy as np\n",
    "import tensorflow as tf\n",
    "from tensorflow.examples.tutorials.mnist import input_data\n",
    "import matplotlib.pyplot as plt\n",
    "%matplotlib inline"
   ]
  },
  {
   "cell_type": "code",
   "execution_count": 2,
   "metadata": {},
   "outputs": [
    {
     "name": "stdout",
     "output_type": "stream",
     "text": [
      "Extracting ./dataset/fashion-MNIST/train-images-idx3-ubyte.gz\n",
      "Extracting ./dataset/fashion-MNIST/train-labels-idx1-ubyte.gz\n",
      "Extracting ./dataset/fashion-MNIST/t10k-images-idx3-ubyte.gz\n",
      "Extracting ./dataset/fashion-MNIST/t10k-labels-idx1-ubyte.gz\n"
     ]
    }
   ],
   "source": [
    "# Load Dataset\n",
    "fashion_mnist = input_data.read_data_sets('./dataset/fashion-MNIST/', one_hot=True)"
   ]
  },
  {
   "cell_type": "code",
   "execution_count": 3,
   "metadata": {},
   "outputs": [
    {
     "name": "stdout",
     "output_type": "stream",
     "text": [
      "Training set (images) shape:  (55000, 784)\n",
      "Training set (labels) shape:  (55000, 10)\n",
      "Test set (images) shape:  (10000, 784)\n",
      "Test set (labels) shape:  (10000, 10)\n"
     ]
    }
   ],
   "source": [
    "# Shapes of training set\n",
    "print(\"Training set (images) shape: \",fashion_mnist.train.images.shape)\n",
    "print(\"Training set (labels) shape: \",fashion_mnist.train.labels.shape)\n",
    "\n",
    "# Shapes of test set\n",
    "print(\"Test set (images) shape: \", fashion_mnist.test.images.shape)\n",
    "print(\"Test set (labels) shape: \", fashion_mnist.test.labels.shape)"
   ]
  },
  {
   "cell_type": "code",
   "execution_count": 4,
   "metadata": {},
   "outputs": [],
   "source": [
    "# Create a list of what each label means\n",
    "label_names = ['T-Shirt/Top','Trouser','Pullover','Dress','Coat','Sandal','Shirt','Sneaker','Bag','Ankle Boot']"
   ]
  },
  {
   "cell_type": "code",
   "execution_count": 5,
   "metadata": {},
   "outputs": [
    {
     "data": {
      "image/png": "[encoded data removed]",
      "text/plain": [
       "<matplotlib.figure.Figure at 0x29f3b345240>"
      ]
     },
     "metadata": {},
     "output_type": "display_data"
    }
   ],
   "source": [
    "# Plot Random Image\n",
    "n = np.random.randint(0,55000,10)\n",
    "names = []\n",
    "\n",
    "# Get the Index for Label_Names array and append names to array []\n",
    "with tf.Session() as sess:\n",
    "    for i in range(len(n)):\n",
    "        l = tf.argmax(fashion_mnist.train.labels[n][i], axis=0)\n",
    "        names.append(label_names[sess.run(l)])\n",
    "sess.close()\n",
    "\n",
    "# Plot Images\n",
    "fig, ax = plt.subplots(nrows=2,ncols=5, figsize=(20,10))\n",
    "u = 0\n",
    "for i in range(2):\n",
    "    for j in range(5):\n",
    "        ax[i,j].imshow(fashion_mnist.train.images[n][u].reshape(28,28), cmap='Greys')\n",
    "        ax[i,j].set_axis_off()\n",
    "        ax[i,j].set_title(names[u])\n",
    "        u += 1"
   ]
  },
  {
   "cell_type": "markdown",
   "metadata": {},
   "source": [
    "### Autoencoder Modle"
   ]
  },
  {
   "cell_type": "code",
   "execution_count": 6,
   "metadata": {},
   "outputs": [],
   "source": [
    "# Define Constants\n",
    "\n",
    "# Learning Rate\n",
    "lr = 0.001"
   ]
  },
  {
   "cell_type": "code",
   "execution_count": 7,
   "metadata": {},
   "outputs": [],
   "source": [
    "# Define Placeholders\n",
    "# Input Image\n",
    "input_image = tf.placeholder(tf.float32,shape=[None,28,28,1], name=\"input_image\")\n",
    "\n",
    "# Target Image / Reproduced Image\n",
    "target_image = tf.placeholder(tf.float32,shape=[None,28,28,1], name=\"output_image\")"
   ]
  },
  {
   "cell_type": "markdown",
   "metadata": {},
   "source": [
    "### Encoder"
   ]
  },
  {
   "cell_type": "code",
   "execution_count": 9,
   "metadata": {},
   "outputs": [],
   "source": [
    "# Encoder Module\n",
    "def encoder(input_data=None, n_filters=16, k_size=(3,3), pad='same', activate= tf.nn.relu):\n",
    "    # First Convolutional layer\n",
    "    conv1 = tf.layers.conv2d(inputs=input_data, filters= n_filter, kernel_size= k_size, padding= pad, activation= activate, name='Conv1')\n",
    "    # Max Pooling 1\n",
    "    pool1 = tf.layers.max_pooling2d(inputs=conv1, pool_size=(2,2), strides=(2,2), padding= pad, name='Pool1')\n",
    "    # Second Convolutional layer\n",
    "    conv2 = tf.layers.conv2d(inputs=pool1, filters= n_filter/2, kernel_size= k_size, padding= pad, activation= activate, name='Conv2')\n",
    "    # Max Pooling 2\n",
    "    pool2 = tf.layers.max_pooling2d(inputs=conv2, pool_size=(2,2), strides=(2,2), padding= pad, name='Pool2')\n",
    "    # Third Convolutional layer\n",
    "    conv3 = tf.layers.conv2d(inputs=pool2, filters= n_filter/2, kernel_size= k_size, padding= pad, activation= activate, name='Conv3')\n",
    "    # Max Pooling 3\n",
    "    encoded_image = tf.layers.max_pooling2d(inputs=conv3, pool_size=(2,2), strides=(2,2), padding= pad, name='Encode')\n",
    "    return encoded_image"
   ]
  },
  {
   "cell_type": "markdown",
   "metadata": {},
   "source": [
    "### Decoder\n",
    "\n",
    "For the decoder we have two options:\n",
    "\n",
    "**1. Use Transposed Convolutions:**\n",
    "\n",
    "This works in opposite way as compared to a convolution process and gets us the original image size output. The drawback of using thi sapproach is that in the output image generated, we may see some checkblocks. Hence, the image is not as clear as expected.\n",
    "\n",
    "**2. Resize using UpSampling and use Convolutions:**\n",
    "\n",
    "Using this approach has proven to be better as compared to the first approach as using this we can get much better images at the output."
   ]
  },
  {
   "cell_type": "code",
   "execution_count": 10,
   "metadata": {},
   "outputs": [],
   "source": [
    "# Decoder Module\n",
    "# Input = encoded_image\n",
    "def decoder(input_data=None, n_filters=8, k_size=(3,3), pad='same', activate= tf.nn.relu):\n",
    "    # Upsampling Image to get Better Quality Image at Output\n",
    "    upsample_image1 = tf.image.resize_images(images=input_data, size=(7,7), method=tf.image.ResizeMethod.NEAREST_NEIGHBOR)\n",
    "    # First Convolution Layer\n",
    "    deconv1 = tf.layers.conv2d(inputs=upsample_image1, filters=n_filters, kernel_size=k_size, padding= pad, activation= activate)\n",
    "    # Upsampling Image to get Better Quality Image at Output\n",
    "    upsample_image2 = tf.image.resize_images(images=deconv1, size=(14,14), method=tf.image.ResizeMethod.NEAREST_NEIGHBOR)\n",
    "    # First Convolution Layer\n",
    "    deconv2 = tf.layers.conv2d(inputs=upsample_image2, filters=n_filters, kernel_size=k_size, padding= pad, activation= activate)\n",
    "    # Upsampling Image to get Better Quality Image at Output\n",
    "    upsample_image3 = tf.image.resize_images(images=deconv2, size=(28,28), method=tf.image.ResizeMethod.NEAREST_NEIGHBOR)\n",
    "    # First Convolution Layer\n",
    "    deconv3 = tf.layers.conv2d(inputs=upsample_image3, filters=n_filters, kernel_size=k_size, padding= pad, activation= activate)\n",
    "    logits = tf.layers.conv2d(inputs=deconv3, filters=1, kernel_size=(3,3), padding='same', activation=None)\n",
    "    # Pass logits through sigmoid to get reconstructed image\n",
    "    decoded_image = tf.nn.sigmoid(logits)\n",
    "    return decoded_image, logits"
   ]
  },
  {
   "cell_type": "code",
   "execution_count": null,
   "metadata": {},
   "outputs": [],
   "source": []
  }
 ],
 "metadata": {
  "kernelspec": {
   "display_name": "Python 3",
   "language": "python",
   "name": "python3"
  },
  "language_info": {
   "codemirror_mode": {
    "name": "ipython",
    "version": 3
   },
   "file_extension": ".py",
   "mimetype": "text/x-python",
   "name": "python",
   "nbconvert_exporter": "python",
   "pygments_lexer": "ipython3",
   "version": "3.5.3"
  }
 },
 "nbformat": 4,
 "nbformat_minor": 2
}
