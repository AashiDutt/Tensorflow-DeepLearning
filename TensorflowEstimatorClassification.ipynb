{
 "cells": [
  {
   "cell_type": "markdown",
   "metadata": {},
   "source": [
    "## Tensorflow Estimator Classification"
   ]
  },
  {
   "cell_type": "code",
   "execution_count": 1,
   "metadata": {},
   "outputs": [],
   "source": [
    "import pandas as pd\n",
    "import numpy as np\n",
    "import matplotlib.pyplot as plt\n",
    "import tensorflow as tf\n",
    "%matplotlib inline"
   ]
  },
  {
   "cell_type": "code",
   "execution_count": 2,
   "metadata": {},
   "outputs": [],
   "source": [
    "# Import Dataset\n",
    "diabetes = pd.read_csv('dataset/pima-indians-diabetes.csv')"
   ]
  },
  {
   "cell_type": "code",
   "execution_count": 3,
   "metadata": {},
   "outputs": [
    {
     "data": {
      "text/html": [
       "<div>\n",
       "<style>\n",
       "    .dataframe thead tr:only-child th {\n",
       "        text-align: right;\n",
       "    }\n",
       "\n",
       "    .dataframe thead th {\n",
       "        text-align: left;\n",
       "    }\n",
       "\n",
       "    .dataframe tbody tr th {\n",
       "        vertical-align: top;\n",
       "    }\n",
       "</style>\n",
       "<table border=\"1\" class=\"dataframe\">\n",
       "  <thead>\n",
       "    <tr style=\"text-align: right;\">\n",
       "      <th></th>\n",
       "      <th>Number_pregnant</th>\n",
       "      <th>Glucose_concentration</th>\n",
       "      <th>Blood_pressure</th>\n",
       "      <th>Triceps</th>\n",
       "      <th>Insulin</th>\n",
       "      <th>BMI</th>\n",
       "      <th>Pedigree</th>\n",
       "      <th>Age</th>\n",
       "      <th>Class</th>\n",
       "      <th>Group</th>\n",
       "    </tr>\n",
       "  </thead>\n",
       "  <tbody>\n",
       "    <tr>\n",
       "      <th>0</th>\n",
       "      <td>6</td>\n",
       "      <td>0.743719</td>\n",
       "      <td>0.590164</td>\n",
       "      <td>0.353535</td>\n",
       "      <td>0.000000</td>\n",
       "      <td>0.500745</td>\n",
       "      <td>0.234415</td>\n",
       "      <td>50</td>\n",
       "      <td>1</td>\n",
       "      <td>B</td>\n",
       "    </tr>\n",
       "    <tr>\n",
       "      <th>1</th>\n",
       "      <td>1</td>\n",
       "      <td>0.427136</td>\n",
       "      <td>0.540984</td>\n",
       "      <td>0.292929</td>\n",
       "      <td>0.000000</td>\n",
       "      <td>0.396423</td>\n",
       "      <td>0.116567</td>\n",
       "      <td>31</td>\n",
       "      <td>0</td>\n",
       "      <td>C</td>\n",
       "    </tr>\n",
       "    <tr>\n",
       "      <th>2</th>\n",
       "      <td>8</td>\n",
       "      <td>0.919598</td>\n",
       "      <td>0.524590</td>\n",
       "      <td>0.000000</td>\n",
       "      <td>0.000000</td>\n",
       "      <td>0.347243</td>\n",
       "      <td>0.253629</td>\n",
       "      <td>32</td>\n",
       "      <td>1</td>\n",
       "      <td>B</td>\n",
       "    </tr>\n",
       "    <tr>\n",
       "      <th>3</th>\n",
       "      <td>1</td>\n",
       "      <td>0.447236</td>\n",
       "      <td>0.540984</td>\n",
       "      <td>0.232323</td>\n",
       "      <td>0.111111</td>\n",
       "      <td>0.418778</td>\n",
       "      <td>0.038002</td>\n",
       "      <td>21</td>\n",
       "      <td>0</td>\n",
       "      <td>B</td>\n",
       "    </tr>\n",
       "    <tr>\n",
       "      <th>4</th>\n",
       "      <td>0</td>\n",
       "      <td>0.688442</td>\n",
       "      <td>0.327869</td>\n",
       "      <td>0.353535</td>\n",
       "      <td>0.198582</td>\n",
       "      <td>0.642325</td>\n",
       "      <td>0.943638</td>\n",
       "      <td>33</td>\n",
       "      <td>1</td>\n",
       "      <td>C</td>\n",
       "    </tr>\n",
       "  </tbody>\n",
       "</table>\n",
       "</div>"
      ],
      "text/plain": [
       "   Number_pregnant  Glucose_concentration  Blood_pressure   Triceps   Insulin  \\\n",
       "0                6               0.743719        0.590164  0.353535  0.000000   \n",
       "1                1               0.427136        0.540984  0.292929  0.000000   \n",
       "2                8               0.919598        0.524590  0.000000  0.000000   \n",
       "3                1               0.447236        0.540984  0.232323  0.111111   \n",
       "4                0               0.688442        0.327869  0.353535  0.198582   \n",
       "\n",
       "        BMI  Pedigree  Age  Class Group  \n",
       "0  0.500745  0.234415   50      1     B  \n",
       "1  0.396423  0.116567   31      0     C  \n",
       "2  0.347243  0.253629   32      1     B  \n",
       "3  0.418778  0.038002   21      0     B  \n",
       "4  0.642325  0.943638   33      1     C  "
      ]
     },
     "execution_count": 3,
     "metadata": {},
     "output_type": "execute_result"
    }
   ],
   "source": [
    "# Check Dataset\n",
    "diabetes.head()"
   ]
  },
  {
   "cell_type": "code",
   "execution_count": 4,
   "metadata": {},
   "outputs": [
    {
     "data": {
      "text/plain": [
       "Index(['Number_pregnant', 'Glucose_concentration', 'Blood_pressure', 'Triceps',\n",
       "       'Insulin', 'BMI', 'Pedigree', 'Age', 'Class', 'Group'],\n",
       "      dtype='object')"
      ]
     },
     "execution_count": 4,
     "metadata": {},
     "output_type": "execute_result"
    }
   ],
   "source": [
    "# Normalize the Data\n",
    "diabetes.columns"
   ]
  },
  {
   "cell_type": "code",
   "execution_count": 6,
   "metadata": {},
   "outputs": [],
   "source": [
    "cols_to_norm = ['Number_pregnant', 'Glucose_concentration', 'Blood_pressure', 'Triceps','Insulin', 'BMI', 'Pedigree']"
   ]
  },
  {
   "cell_type": "code",
   "execution_count": 8,
   "metadata": {},
   "outputs": [],
   "source": [
    "# Normalize the Values in selected Columns using Pandas\n",
    "diabetes[cols_to_norm] = diabetes[cols_to_norm].apply(lambda x: (x - x.min()) / (x.max() - x.min()))"
   ]
  },
  {
   "cell_type": "code",
   "execution_count": 9,
   "metadata": {},
   "outputs": [
    {
     "data": {
      "text/html": [
       "<div>\n",
       "<style>\n",
       "    .dataframe thead tr:only-child th {\n",
       "        text-align: right;\n",
       "    }\n",
       "\n",
       "    .dataframe thead th {\n",
       "        text-align: left;\n",
       "    }\n",
       "\n",
       "    .dataframe tbody tr th {\n",
       "        vertical-align: top;\n",
       "    }\n",
       "</style>\n",
       "<table border=\"1\" class=\"dataframe\">\n",
       "  <thead>\n",
       "    <tr style=\"text-align: right;\">\n",
       "      <th></th>\n",
       "      <th>Number_pregnant</th>\n",
       "      <th>Glucose_concentration</th>\n",
       "      <th>Blood_pressure</th>\n",
       "      <th>Triceps</th>\n",
       "      <th>Insulin</th>\n",
       "      <th>BMI</th>\n",
       "      <th>Pedigree</th>\n",
       "      <th>Age</th>\n",
       "      <th>Class</th>\n",
       "      <th>Group</th>\n",
       "    </tr>\n",
       "  </thead>\n",
       "  <tbody>\n",
       "    <tr>\n",
       "      <th>0</th>\n",
       "      <td>0.352941</td>\n",
       "      <td>0.743719</td>\n",
       "      <td>0.590164</td>\n",
       "      <td>0.353535</td>\n",
       "      <td>0.000000</td>\n",
       "      <td>0.500745</td>\n",
       "      <td>0.234415</td>\n",
       "      <td>50</td>\n",
       "      <td>1</td>\n",
       "      <td>B</td>\n",
       "    </tr>\n",
       "    <tr>\n",
       "      <th>1</th>\n",
       "      <td>0.058824</td>\n",
       "      <td>0.427136</td>\n",
       "      <td>0.540984</td>\n",
       "      <td>0.292929</td>\n",
       "      <td>0.000000</td>\n",
       "      <td>0.396423</td>\n",
       "      <td>0.116567</td>\n",
       "      <td>31</td>\n",
       "      <td>0</td>\n",
       "      <td>C</td>\n",
       "    </tr>\n",
       "    <tr>\n",
       "      <th>2</th>\n",
       "      <td>0.470588</td>\n",
       "      <td>0.919598</td>\n",
       "      <td>0.524590</td>\n",
       "      <td>0.000000</td>\n",
       "      <td>0.000000</td>\n",
       "      <td>0.347243</td>\n",
       "      <td>0.253629</td>\n",
       "      <td>32</td>\n",
       "      <td>1</td>\n",
       "      <td>B</td>\n",
       "    </tr>\n",
       "    <tr>\n",
       "      <th>3</th>\n",
       "      <td>0.058824</td>\n",
       "      <td>0.447236</td>\n",
       "      <td>0.540984</td>\n",
       "      <td>0.232323</td>\n",
       "      <td>0.111111</td>\n",
       "      <td>0.418778</td>\n",
       "      <td>0.038002</td>\n",
       "      <td>21</td>\n",
       "      <td>0</td>\n",
       "      <td>B</td>\n",
       "    </tr>\n",
       "    <tr>\n",
       "      <th>4</th>\n",
       "      <td>0.000000</td>\n",
       "      <td>0.688442</td>\n",
       "      <td>0.327869</td>\n",
       "      <td>0.353535</td>\n",
       "      <td>0.198582</td>\n",
       "      <td>0.642325</td>\n",
       "      <td>0.943638</td>\n",
       "      <td>33</td>\n",
       "      <td>1</td>\n",
       "      <td>C</td>\n",
       "    </tr>\n",
       "  </tbody>\n",
       "</table>\n",
       "</div>"
      ],
      "text/plain": [
       "   Number_pregnant  Glucose_concentration  Blood_pressure   Triceps   Insulin  \\\n",
       "0         0.352941               0.743719        0.590164  0.353535  0.000000   \n",
       "1         0.058824               0.427136        0.540984  0.292929  0.000000   \n",
       "2         0.470588               0.919598        0.524590  0.000000  0.000000   \n",
       "3         0.058824               0.447236        0.540984  0.232323  0.111111   \n",
       "4         0.000000               0.688442        0.327869  0.353535  0.198582   \n",
       "\n",
       "        BMI  Pedigree  Age  Class Group  \n",
       "0  0.500745  0.234415   50      1     B  \n",
       "1  0.396423  0.116567   31      0     C  \n",
       "2  0.347243  0.253629   32      1     B  \n",
       "3  0.418778  0.038002   21      0     B  \n",
       "4  0.642325  0.943638   33      1     C  "
      ]
     },
     "execution_count": 9,
     "metadata": {},
     "output_type": "execute_result"
    }
   ],
   "source": [
    "diabetes.head()"
   ]
  },
  {
   "cell_type": "code",
   "execution_count": 10,
   "metadata": {},
   "outputs": [],
   "source": [
    "# Create Feature Columns for Estimator\n",
    "# Since we have a lot of features in the data, we make the feature column for each one of these individually.\n",
    "# Features: 'Number_pregnant', 'Glucose_concentration', 'Blood_pressure', 'Triceps','Insulin', 'BMI', 'Pedigree', 'Age'\n",
    "num_preg = tf.feature_column.numeric_column('Number_pregnant')\n",
    "glucose_conc = tf.feature_column.numeric_column('Glucose_concentration')\n",
    "blood_pressure = tf.feature_column.numeric_column('Blood_pressure')\n",
    "triceps = tf.feature_column.numeric_column('Triceps')\n",
    "insulin = tf.feature_column.numeric_column('Insulin')\n",
    "bmi = tf.feature_column.numeric_column('BMI')\n",
    "pedigree = tf.feature_column.numeric_column('Pedigree')\n",
    "age = tf.feature_column.numeric_column('Age')"
   ]
  },
  {
   "cell_type": "code",
   "execution_count": 11,
   "metadata": {},
   "outputs": [],
   "source": [
    "# Make Categorical Feature Columns for the Categorical Data\n",
    "# i.e. Class and Group in Dataset\n",
    "\n",
    "# The feature Columns for the Categorical data can be made using two techniques:\n",
    "# 1. Vocabulary List\n",
    "# 2. Hash Bucket\n",
    "\n",
    "# 1. Using Vocabulary List:\n",
    "# Pass in the token 'Group' and since Group can only be A, B, C or D, So\n",
    "# pass those in as a List\n",
    "assigned_group = tf.feature_column.categorical_column_with_vocabulary_list('Group',['A','B','C','D'])"
   ]
  },
  {
   "cell_type": "code",
   "execution_count": 12,
   "metadata": {},
   "outputs": [],
   "source": [
    "# If there are a lot number of Groups ex. Countries and you don't want to type out all of them,\n",
    "# Use Hash Bucketing technique for \"Categorical Feature Columns\".\n",
    "# In this, provide the 'Group' Token and the hash bucket size is the max amount of groups that we believe will be in that column.\n",
    "# This line automatically generated the vocabulary List in Background.\n",
    "\n",
    "#assigned_group = tf.feature_column.categorical_column_with_hash_bucket('Group',hash_bucket_size=10)"
   ]
  },
  {
   "cell_type": "code",
   "execution_count": 13,
   "metadata": {},
   "outputs": [
    {
     "data": {
      "text/plain": [
       "<matplotlib.axes._subplots.AxesSubplot at 0x17cbf485898>"
      ]
     },
     "execution_count": 13,
     "metadata": {},
     "output_type": "execute_result"
    },
    {
     "data": {
      "image/png": "[encoded data removed]",
      "text/plain": [
       "<matplotlib.figure.Figure at 0x17cbf173128>"
      ]
     },
     "metadata": {},
     "output_type": "display_data"
    }
   ],
   "source": [
    "# Plot Distribution of Ages\n",
    "diabetes['Age'].hist(bins=20)"
   ]
  },
  {
   "cell_type": "code",
   "execution_count": 14,
   "metadata": {},
   "outputs": [],
   "source": [
    "# Take continuous Value and Bucket it\n",
    "# boundaries: Takes the values and buckets it into the range. ex. 20-30, 30-40, 40-50 and so on.\n",
    "age_bucket = tf.feature_column.bucketized_column(age,boundaries=[20,30,40,50,60,70,80])"
   ]
  },
  {
   "cell_type": "code",
   "execution_count": 15,
   "metadata": {},
   "outputs": [],
   "source": [
    "# Collect Together all the Feature Columns\n",
    "feat_cols = [num_preg, glucose_conc, blood_pressure, triceps, insulin, bmi, pedigree, assigned_group, age_bucket]"
   ]
  },
  {
   "cell_type": "code",
   "execution_count": 18,
   "metadata": {},
   "outputs": [],
   "source": [
    "# Features\n",
    "x_data = diabetes.drop('Class',axis = 1)"
   ]
  },
  {
   "cell_type": "code",
   "execution_count": 19,
   "metadata": {},
   "outputs": [],
   "source": [
    "# Labels\n",
    "labels = diabetes['Class']"
   ]
  },
  {
   "cell_type": "code",
   "execution_count": 20,
   "metadata": {},
   "outputs": [],
   "source": [
    "# Train Test Split\n",
    "from sklearn.model_selection import train_test_split"
   ]
  },
  {
   "cell_type": "code",
   "execution_count": 24,
   "metadata": {},
   "outputs": [],
   "source": [
    "X_train, X_test, y_train, y_test = train_test_split(x_data,labels,test_size=0.3, random_state= 101)"
   ]
  },
  {
   "cell_type": "code",
   "execution_count": 25,
   "metadata": {},
   "outputs": [],
   "source": [
    "# Define Input Function\n",
    "input_func = tf.estimator.inputs.pandas_input_fn(x= X_train,y=y_train, batch_size=10, num_epochs=1000,shuffle=True)"
   ]
  },
  {
   "cell_type": "code",
   "execution_count": 26,
   "metadata": {},
   "outputs": [
    {
     "name": "stdout",
     "output_type": "stream",
     "text": [
      "INFO:tensorflow:Using default config.\n"
     ]
    },
    {
     "name": "stderr",
     "output_type": "stream",
     "text": [
      "INFO:tensorflow:Using default config.\n"
     ]
    },
    {
     "name": "stdout",
     "output_type": "stream",
     "text": [
      "WARNING:tensorflow:Using temporary folder as model directory: C:\\Users\\HAREKR~1\\AppData\\Local\\Temp\\tmpuacow481\n"
     ]
    },
    {
     "name": "stderr",
     "output_type": "stream",
     "text": [
      "WARNING:tensorflow:Using temporary folder as model directory: C:\\Users\\HAREKR~1\\AppData\\Local\\Temp\\tmpuacow481\n"
     ]
    },
    {
     "name": "stdout",
     "output_type": "stream",
     "text": [
      "INFO:tensorflow:Using config: {'_tf_random_seed': 1, '_save_summary_steps': 100, '_keep_checkpoint_max': 5, '_log_step_count_steps': 100, '_session_config': None, '_model_dir': 'C:\\\\Users\\\\HAREKR~1\\\\AppData\\\\Local\\\\Temp\\\\tmpuacow481', '_keep_checkpoint_every_n_hours': 10000, '_save_checkpoints_secs': 600, '_save_checkpoints_steps': None}\n"
     ]
    },
    {
     "name": "stderr",
     "output_type": "stream",
     "text": [
      "INFO:tensorflow:Using config: {'_tf_random_seed': 1, '_save_summary_steps': 100, '_keep_checkpoint_max': 5, '_log_step_count_steps': 100, '_session_config': None, '_model_dir': 'C:\\\\Users\\\\HAREKR~1\\\\AppData\\\\Local\\\\Temp\\\\tmpuacow481', '_keep_checkpoint_every_n_hours': 10000, '_save_checkpoints_secs': 600, '_save_checkpoints_steps': None}\n"
     ]
    }
   ],
   "source": [
    "# Define the Eastimator Model\n",
    "# Linear Classifier with number of Classes = 2\n",
    "model = tf.estimator.LinearClassifier(feature_columns=feat_cols, n_classes=2)"
   ]
  },
  {
   "cell_type": "code",
   "execution_count": 27,
   "metadata": {},
   "outputs": [
    {
     "name": "stdout",
     "output_type": "stream",
     "text": [
      "INFO:tensorflow:Create CheckpointSaverHook.\n"
     ]
    },
    {
     "name": "stderr",
     "output_type": "stream",
     "text": [
      "INFO:tensorflow:Create CheckpointSaverHook.\n"
     ]
    },
    {
     "name": "stdout",
     "output_type": "stream",
     "text": [
      "INFO:tensorflow:Saving checkpoints for 1 into C:\\Users\\HAREKR~1\\AppData\\Local\\Temp\\tmpuacow481\\model.ckpt.\n"
     ]
    },
    {
     "name": "stderr",
     "output_type": "stream",
     "text": [
      "INFO:tensorflow:Saving checkpoints for 1 into C:\\Users\\HAREKR~1\\AppData\\Local\\Temp\\tmpuacow481\\model.ckpt.\n"
     ]
    },
    {
     "name": "stdout",
     "output_type": "stream",
     "text": [
      "INFO:tensorflow:loss = 6.93147, step = 1\n"
     ]
    },
    {
     "name": "stderr",
     "output_type": "stream",
     "text": [
      "INFO:tensorflow:loss = 6.93147, step = 1\n"
     ]
    },
    {
     "name": "stdout",
     "output_type": "stream",
     "text": [
      "INFO:tensorflow:global_step/sec: 279.261\n"
     ]
    },
    {
     "name": "stderr",
     "output_type": "stream",
     "text": [
      "INFO:tensorflow:global_step/sec: 279.261\n"
     ]
    },
    {
     "name": "stdout",
     "output_type": "stream",
     "text": [
      "INFO:tensorflow:loss = 4.42842, step = 101 (0.365 sec)\n"
     ]
    },
    {
     "name": "stderr",
     "output_type": "stream",
     "text": [
      "INFO:tensorflow:loss = 4.42842, step = 101 (0.365 sec)\n"
     ]
    },
    {
     "name": "stdout",
     "output_type": "stream",
     "text": [
      "INFO:tensorflow:global_step/sec: 326.159\n"
     ]
    },
    {
     "name": "stderr",
     "output_type": "stream",
     "text": [
      "INFO:tensorflow:global_step/sec: 326.159\n"
     ]
    },
    {
     "name": "stdout",
     "output_type": "stream",
     "text": [
      "INFO:tensorflow:loss = 4.98465, step = 201 (0.311 sec)\n"
     ]
    },
    {
     "name": "stderr",
     "output_type": "stream",
     "text": [
      "INFO:tensorflow:loss = 4.98465, step = 201 (0.311 sec)\n"
     ]
    },
    {
     "name": "stdout",
     "output_type": "stream",
     "text": [
      "INFO:tensorflow:global_step/sec: 307.291\n"
     ]
    },
    {
     "name": "stderr",
     "output_type": "stream",
     "text": [
      "INFO:tensorflow:global_step/sec: 307.291\n"
     ]
    },
    {
     "name": "stdout",
     "output_type": "stream",
     "text": [
      "INFO:tensorflow:loss = 4.90913, step = 301 (0.319 sec)\n"
     ]
    },
    {
     "name": "stderr",
     "output_type": "stream",
     "text": [
      "INFO:tensorflow:loss = 4.90913, step = 301 (0.319 sec)\n"
     ]
    },
    {
     "name": "stdout",
     "output_type": "stream",
     "text": [
      "INFO:tensorflow:global_step/sec: 306.202\n"
     ]
    },
    {
     "name": "stderr",
     "output_type": "stream",
     "text": [
      "INFO:tensorflow:global_step/sec: 306.202\n"
     ]
    },
    {
     "name": "stdout",
     "output_type": "stream",
     "text": [
      "INFO:tensorflow:loss = 6.18062, step = 401 (0.330 sec)\n"
     ]
    },
    {
     "name": "stderr",
     "output_type": "stream",
     "text": [
      "INFO:tensorflow:loss = 6.18062, step = 401 (0.330 sec)\n"
     ]
    },
    {
     "name": "stdout",
     "output_type": "stream",
     "text": [
      "INFO:tensorflow:global_step/sec: 236.791\n"
     ]
    },
    {
     "name": "stderr",
     "output_type": "stream",
     "text": [
      "INFO:tensorflow:global_step/sec: 236.791\n"
     ]
    },
    {
     "name": "stdout",
     "output_type": "stream",
     "text": [
      "INFO:tensorflow:loss = 8.25846, step = 501 (0.418 sec)\n"
     ]
    },
    {
     "name": "stderr",
     "output_type": "stream",
     "text": [
      "INFO:tensorflow:loss = 8.25846, step = 501 (0.418 sec)\n"
     ]
    },
    {
     "name": "stdout",
     "output_type": "stream",
     "text": [
      "INFO:tensorflow:global_step/sec: 325.952\n"
     ]
    },
    {
     "name": "stderr",
     "output_type": "stream",
     "text": [
      "INFO:tensorflow:global_step/sec: 325.952\n"
     ]
    },
    {
     "name": "stdout",
     "output_type": "stream",
     "text": [
      "INFO:tensorflow:loss = 4.49088, step = 601 (0.309 sec)\n"
     ]
    },
    {
     "name": "stderr",
     "output_type": "stream",
     "text": [
      "INFO:tensorflow:loss = 4.49088, step = 601 (0.309 sec)\n"
     ]
    },
    {
     "name": "stdout",
     "output_type": "stream",
     "text": [
      "INFO:tensorflow:global_step/sec: 334.032\n"
     ]
    },
    {
     "name": "stderr",
     "output_type": "stream",
     "text": [
      "INFO:tensorflow:global_step/sec: 334.032\n"
     ]
    },
    {
     "name": "stdout",
     "output_type": "stream",
     "text": [
      "INFO:tensorflow:loss = 4.36606, step = 701 (0.300 sec)\n"
     ]
    },
    {
     "name": "stderr",
     "output_type": "stream",
     "text": [
      "INFO:tensorflow:loss = 4.36606, step = 701 (0.300 sec)\n"
     ]
    },
    {
     "name": "stdout",
     "output_type": "stream",
     "text": [
      "INFO:tensorflow:global_step/sec: 262.988\n"
     ]
    },
    {
     "name": "stderr",
     "output_type": "stream",
     "text": [
      "INFO:tensorflow:global_step/sec: 262.988\n"
     ]
    },
    {
     "name": "stdout",
     "output_type": "stream",
     "text": [
      "INFO:tensorflow:loss = 4.08458, step = 801 (0.380 sec)\n"
     ]
    },
    {
     "name": "stderr",
     "output_type": "stream",
     "text": [
      "INFO:tensorflow:loss = 4.08458, step = 801 (0.380 sec)\n"
     ]
    },
    {
     "name": "stdout",
     "output_type": "stream",
     "text": [
      "INFO:tensorflow:global_step/sec: 296.479\n"
     ]
    },
    {
     "name": "stderr",
     "output_type": "stream",
     "text": [
      "INFO:tensorflow:global_step/sec: 296.479\n"
     ]
    },
    {
     "name": "stdout",
     "output_type": "stream",
     "text": [
      "INFO:tensorflow:loss = 4.732, step = 901 (0.336 sec)\n"
     ]
    },
    {
     "name": "stderr",
     "output_type": "stream",
     "text": [
      "INFO:tensorflow:loss = 4.732, step = 901 (0.336 sec)\n"
     ]
    },
    {
     "name": "stdout",
     "output_type": "stream",
     "text": [
      "INFO:tensorflow:Saving checkpoints for 1000 into C:\\Users\\HAREKR~1\\AppData\\Local\\Temp\\tmpuacow481\\model.ckpt.\n"
     ]
    },
    {
     "name": "stderr",
     "output_type": "stream",
     "text": [
      "INFO:tensorflow:Saving checkpoints for 1000 into C:\\Users\\HAREKR~1\\AppData\\Local\\Temp\\tmpuacow481\\model.ckpt.\n"
     ]
    },
    {
     "name": "stdout",
     "output_type": "stream",
     "text": [
      "INFO:tensorflow:Loss for final step: 4.8018.\n"
     ]
    },
    {
     "name": "stderr",
     "output_type": "stream",
     "text": [
      "INFO:tensorflow:Loss for final step: 4.8018.\n"
     ]
    },
    {
     "data": {
      "text/plain": [
       "<tensorflow.python.estimator.canned.linear.LinearClassifier at 0x17cbf485278>"
      ]
     },
     "execution_count": 27,
     "metadata": {},
     "output_type": "execute_result"
    }
   ],
   "source": [
    "# Train the Model\n",
    "model.train(input_fn=input_func, steps=1000)"
   ]
  },
  {
   "cell_type": "code",
   "execution_count": 28,
   "metadata": {},
   "outputs": [],
   "source": [
    "# Evaluate the Model\n",
    "eval_input_func = tf.estimator.inputs.pandas_input_fn(x=X_test, y=y_test, batch_size=10, num_epochs=1, shuffle=False)"
   ]
  },
  {
   "cell_type": "code",
   "execution_count": 29,
   "metadata": {},
   "outputs": [
    {
     "name": "stdout",
     "output_type": "stream",
     "text": [
      "WARNING:tensorflow:Casting <dtype: 'float32'> labels to bool.\n"
     ]
    },
    {
     "name": "stderr",
     "output_type": "stream",
     "text": [
      "WARNING:tensorflow:Casting <dtype: 'float32'> labels to bool.\n"
     ]
    },
    {
     "name": "stdout",
     "output_type": "stream",
     "text": [
      "WARNING:tensorflow:Casting <dtype: 'float32'> labels to bool.\n"
     ]
    },
    {
     "name": "stderr",
     "output_type": "stream",
     "text": [
      "WARNING:tensorflow:Casting <dtype: 'float32'> labels to bool.\n"
     ]
    },
    {
     "name": "stdout",
     "output_type": "stream",
     "text": [
      "INFO:tensorflow:Starting evaluation at 2017-12-27-21:44:14\n"
     ]
    },
    {
     "name": "stderr",
     "output_type": "stream",
     "text": [
      "INFO:tensorflow:Starting evaluation at 2017-12-27-21:44:14\n"
     ]
    },
    {
     "name": "stdout",
     "output_type": "stream",
     "text": [
      "INFO:tensorflow:Restoring parameters from C:\\Users\\HAREKR~1\\AppData\\Local\\Temp\\tmpuacow481\\model.ckpt-1000\n"
     ]
    },
    {
     "name": "stderr",
     "output_type": "stream",
     "text": [
      "INFO:tensorflow:Restoring parameters from C:\\Users\\HAREKR~1\\AppData\\Local\\Temp\\tmpuacow481\\model.ckpt-1000\n"
     ]
    },
    {
     "name": "stdout",
     "output_type": "stream",
     "text": [
      "INFO:tensorflow:Finished evaluation at 2017-12-27-21:44:16\n"
     ]
    },
    {
     "name": "stderr",
     "output_type": "stream",
     "text": [
      "INFO:tensorflow:Finished evaluation at 2017-12-27-21:44:16\n"
     ]
    },
    {
     "name": "stdout",
     "output_type": "stream",
     "text": [
      "INFO:tensorflow:Saving dict for global step 1000: accuracy = 0.727273, accuracy_baseline = 0.649351, auc = 0.80214, auc_precision_recall = 0.648512, average_loss = 0.523661, global_step = 1000, label/mean = 0.350649, loss = 5.04024, prediction/mean = 0.344017\n"
     ]
    },
    {
     "name": "stderr",
     "output_type": "stream",
     "text": [
      "INFO:tensorflow:Saving dict for global step 1000: accuracy = 0.727273, accuracy_baseline = 0.649351, auc = 0.80214, auc_precision_recall = 0.648512, average_loss = 0.523661, global_step = 1000, label/mean = 0.350649, loss = 5.04024, prediction/mean = 0.344017\n"
     ]
    }
   ],
   "source": [
    "results = model.evaluate(eval_input_func)"
   ]
  },
  {
   "cell_type": "code",
   "execution_count": 33,
   "metadata": {},
   "outputs": [],
   "source": [
    "# Predictions\n",
    "pred_input_func = tf.estimator.inputs.pandas_input_fn(x=X_test, batch_size=10, num_epochs=1, shuffle=False)"
   ]
  },
  {
   "cell_type": "code",
   "execution_count": 34,
   "metadata": {},
   "outputs": [],
   "source": [
    "predictions = model.predict(pred_input_func)"
   ]
  },
  {
   "cell_type": "code",
   "execution_count": 35,
   "metadata": {},
   "outputs": [
    {
     "name": "stdout",
     "output_type": "stream",
     "text": [
      "INFO:tensorflow:Restoring parameters from C:\\Users\\HAREKR~1\\AppData\\Local\\Temp\\tmpuacow481\\model.ckpt-1000\n"
     ]
    },
    {
     "name": "stderr",
     "output_type": "stream",
     "text": [
      "INFO:tensorflow:Restoring parameters from C:\\Users\\HAREKR~1\\AppData\\Local\\Temp\\tmpuacow481\\model.ckpt-1000\n"
     ]
    }
   ],
   "source": [
    "my_pred = list(predictions)"
   ]
  },
  {
   "cell_type": "code",
   "execution_count": 36,
   "metadata": {},
   "outputs": [
    {
     "data": {
      "text/plain": [
       "[{'class_ids': array([0], dtype=int64),\n",
       "  'classes': array([b'0'], dtype=object),\n",
       "  'logistic': array([ 0.48533508], dtype=float32),\n",
       "  'logits': array([-0.05867654], dtype=float32),\n",
       "  'probabilities': array([ 0.51466495,  0.48533511], dtype=float32)},\n",
       " {'class_ids': array([1], dtype=int64),\n",
       "  'classes': array([b'1'], dtype=object),\n",
       "  'logistic': array([ 0.598342], dtype=float32),\n",
       "  'logits': array([ 0.39856148], dtype=float32),\n",
       "  'probabilities': array([ 0.40165803,  0.598342  ], dtype=float32)},\n",
       " {'class_ids': array([0], dtype=int64),\n",
       "  'classes': array([b'0'], dtype=object),\n",
       "  'logistic': array([ 0.36082873], dtype=float32),\n",
       "  'logits': array([-0.57176918], dtype=float32),\n",
       "  'probabilities': array([ 0.6391713 ,  0.36082867], dtype=float32)},\n",
       " {'class_ids': array([0], dtype=int64),\n",
       "  'classes': array([b'0'], dtype=object),\n",
       "  'logistic': array([ 0.31054294], dtype=float32),\n",
       "  'logits': array([-0.79758227], dtype=float32),\n",
       "  'probabilities': array([ 0.68945712,  0.31054294], dtype=float32)},\n",
       " {'class_ids': array([0], dtype=int64),\n",
       "  'classes': array([b'0'], dtype=object),\n",
       "  'logistic': array([ 0.13448571], dtype=float32),\n",
       "  'logits': array([-1.861866], dtype=float32),\n",
       "  'probabilities': array([ 0.86551434,  0.13448572], dtype=float32)},\n",
       " {'class_ids': array([1], dtype=int64),\n",
       "  'classes': array([b'1'], dtype=object),\n",
       "  'logistic': array([ 0.66859621], dtype=float32),\n",
       "  'logits': array([ 0.70184267], dtype=float32),\n",
       "  'probabilities': array([ 0.33140382,  0.66859621], dtype=float32)},\n",
       " {'class_ids': array([1], dtype=int64),\n",
       "  'classes': array([b'1'], dtype=object),\n",
       "  'logistic': array([ 0.56325138], dtype=float32),\n",
       "  'logits': array([ 0.25436819], dtype=float32),\n",
       "  'probabilities': array([ 0.43674862,  0.56325138], dtype=float32)},\n",
       " {'class_ids': array([0], dtype=int64),\n",
       "  'classes': array([b'0'], dtype=object),\n",
       "  'logistic': array([ 0.2977868], dtype=float32),\n",
       "  'logits': array([-0.85785925], dtype=float32),\n",
       "  'probabilities': array([ 0.70221323,  0.2977868 ], dtype=float32)},\n",
       " {'class_ids': array([0], dtype=int64),\n",
       "  'classes': array([b'0'], dtype=object),\n",
       "  'logistic': array([ 0.2218692], dtype=float32),\n",
       "  'logits': array([-1.25480664], dtype=float32),\n",
       "  'probabilities': array([ 0.77813083,  0.2218692 ], dtype=float32)},\n",
       " {'class_ids': array([0], dtype=int64),\n",
       "  'classes': array([b'0'], dtype=object),\n",
       "  'logistic': array([ 0.22604388], dtype=float32),\n",
       "  'logits': array([-1.23078609], dtype=float32),\n",
       "  'probabilities': array([ 0.77395612,  0.22604388], dtype=float32)},\n",
       " {'class_ids': array([0], dtype=int64),\n",
       "  'classes': array([b'0'], dtype=object),\n",
       "  'logistic': array([ 0.12027433], dtype=float32),\n",
       "  'logits': array([-1.9898349], dtype=float32),\n",
       "  'probabilities': array([ 0.87972564,  0.12027432], dtype=float32)},\n",
       " {'class_ids': array([0], dtype=int64),\n",
       "  'classes': array([b'0'], dtype=object),\n",
       "  'logistic': array([ 0.14077082], dtype=float32),\n",
       "  'logits': array([-1.8089025], dtype=float32),\n",
       "  'probabilities': array([ 0.85922915,  0.14077081], dtype=float32)},\n",
       " {'class_ids': array([0], dtype=int64),\n",
       "  'classes': array([b'0'], dtype=object),\n",
       "  'logistic': array([ 0.2864368], dtype=float32),\n",
       "  'logits': array([-0.91275311], dtype=float32),\n",
       "  'probabilities': array([ 0.71356326,  0.28643683], dtype=float32)},\n",
       " {'class_ids': array([1], dtype=int64),\n",
       "  'classes': array([b'1'], dtype=object),\n",
       "  'logistic': array([ 0.51922399], dtype=float32),\n",
       "  'logits': array([ 0.07693398], dtype=float32),\n",
       "  'probabilities': array([ 0.48077598,  0.51922399], dtype=float32)},\n",
       " {'class_ids': array([0], dtype=int64),\n",
       "  'classes': array([b'0'], dtype=object),\n",
       "  'logistic': array([ 0.16910516], dtype=float32),\n",
       "  'logits': array([-1.59198248], dtype=float32),\n",
       "  'probabilities': array([ 0.83089483,  0.16910516], dtype=float32)},\n",
       " {'class_ids': array([0], dtype=int64),\n",
       "  'classes': array([b'0'], dtype=object),\n",
       "  'logistic': array([ 0.33802429], dtype=float32),\n",
       "  'logits': array([-0.67211115], dtype=float32),\n",
       "  'probabilities': array([ 0.66197574,  0.33802429], dtype=float32)},\n",
       " {'class_ids': array([0], dtype=int64),\n",
       "  'classes': array([b'0'], dtype=object),\n",
       "  'logistic': array([ 0.3754456], dtype=float32),\n",
       "  'logits': array([-0.50892484], dtype=float32),\n",
       "  'probabilities': array([ 0.6245544,  0.3754456], dtype=float32)},\n",
       " {'class_ids': array([0], dtype=int64),\n",
       "  'classes': array([b'0'], dtype=object),\n",
       "  'logistic': array([ 0.12248106], dtype=float32),\n",
       "  'logits': array([-1.9691422], dtype=float32),\n",
       "  'probabilities': array([ 0.87751895,  0.12248106], dtype=float32)},\n",
       " {'class_ids': array([0], dtype=int64),\n",
       "  'classes': array([b'0'], dtype=object),\n",
       "  'logistic': array([ 0.35536799], dtype=float32),\n",
       "  'logits': array([-0.59552574], dtype=float32),\n",
       "  'probabilities': array([ 0.64463204,  0.35536805], dtype=float32)},\n",
       " {'class_ids': array([0], dtype=int64),\n",
       "  'classes': array([b'0'], dtype=object),\n",
       "  'logistic': array([ 0.12782356], dtype=float32),\n",
       "  'logits': array([-1.9203409], dtype=float32),\n",
       "  'probabilities': array([ 0.87217647,  0.12782356], dtype=float32)},\n",
       " {'class_ids': array([0], dtype=int64),\n",
       "  'classes': array([b'0'], dtype=object),\n",
       "  'logistic': array([ 0.19927059], dtype=float32),\n",
       "  'logits': array([-1.39085937], dtype=float32),\n",
       "  'probabilities': array([ 0.80072945,  0.19927061], dtype=float32)},\n",
       " {'class_ids': array([0], dtype=int64),\n",
       "  'classes': array([b'0'], dtype=object),\n",
       "  'logistic': array([ 0.27278528], dtype=float32),\n",
       "  'logits': array([-0.98053676], dtype=float32),\n",
       "  'probabilities': array([ 0.72721469,  0.27278528], dtype=float32)},\n",
       " {'class_ids': array([1], dtype=int64),\n",
       "  'classes': array([b'1'], dtype=object),\n",
       "  'logistic': array([ 0.61611503], dtype=float32),\n",
       "  'logits': array([ 0.47309053], dtype=float32),\n",
       "  'probabilities': array([ 0.38388503,  0.61611503], dtype=float32)},\n",
       " {'class_ids': array([0], dtype=int64),\n",
       "  'classes': array([b'0'], dtype=object),\n",
       "  'logistic': array([ 0.19877908], dtype=float32),\n",
       "  'logits': array([-1.39394271], dtype=float32),\n",
       "  'probabilities': array([ 0.80122095,  0.19877908], dtype=float32)},\n",
       " {'class_ids': array([0], dtype=int64),\n",
       "  'classes': array([b'0'], dtype=object),\n",
       "  'logistic': array([ 0.18189974], dtype=float32),\n",
       "  'logits': array([-1.50352919], dtype=float32),\n",
       "  'probabilities': array([ 0.81810027,  0.18189974], dtype=float32)},\n",
       " {'class_ids': array([1], dtype=int64),\n",
       "  'classes': array([b'1'], dtype=object),\n",
       "  'logistic': array([ 0.76030874], dtype=float32),\n",
       "  'logits': array([ 1.15437293], dtype=float32),\n",
       "  'probabilities': array([ 0.23969126,  0.76030874], dtype=float32)},\n",
       " {'class_ids': array([0], dtype=int64),\n",
       "  'classes': array([b'0'], dtype=object),\n",
       "  'logistic': array([ 0.16150881], dtype=float32),\n",
       "  'logits': array([-1.64704442], dtype=float32),\n",
       "  'probabilities': array([ 0.8384912 ,  0.16150881], dtype=float32)},\n",
       " {'class_ids': array([0], dtype=int64),\n",
       "  'classes': array([b'0'], dtype=object),\n",
       "  'logistic': array([ 0.29353952], dtype=float32),\n",
       "  'logits': array([-0.87825501], dtype=float32),\n",
       "  'probabilities': array([ 0.70646048,  0.29353952], dtype=float32)},\n",
       " {'class_ids': array([0], dtype=int64),\n",
       "  'classes': array([b'0'], dtype=object),\n",
       "  'logistic': array([ 0.09603021], dtype=float32),\n",
       "  'logits': array([-2.24213314], dtype=float32),\n",
       "  'probabilities': array([ 0.90396976,  0.09603021], dtype=float32)},\n",
       " {'class_ids': array([1], dtype=int64),\n",
       "  'classes': array([b'1'], dtype=object),\n",
       "  'logistic': array([ 0.53077447], dtype=float32),\n",
       "  'logits': array([ 0.12325358], dtype=float32),\n",
       "  'probabilities': array([ 0.46922559,  0.53077447], dtype=float32)},\n",
       " {'class_ids': array([1], dtype=int64),\n",
       "  'classes': array([b'1'], dtype=object),\n",
       "  'logistic': array([ 0.92795098], dtype=float32),\n",
       "  'logits': array([ 2.55563211], dtype=float32),\n",
       "  'probabilities': array([ 0.07204902,  0.92795098], dtype=float32)},\n",
       " {'class_ids': array([0], dtype=int64),\n",
       "  'classes': array([b'0'], dtype=object),\n",
       "  'logistic': array([ 0.36989293], dtype=float32),\n",
       "  'logits': array([-0.53267622], dtype=float32),\n",
       "  'probabilities': array([ 0.6301071 ,  0.36989293], dtype=float32)},\n",
       " {'class_ids': array([0], dtype=int64),\n",
       "  'classes': array([b'0'], dtype=object),\n",
       "  'logistic': array([ 0.29639158], dtype=float32),\n",
       "  'logits': array([-0.86454046], dtype=float32),\n",
       "  'probabilities': array([ 0.70360839,  0.29639158], dtype=float32)},\n",
       " {'class_ids': array([1], dtype=int64),\n",
       "  'classes': array([b'1'], dtype=object),\n",
       "  'logistic': array([ 0.52208596], dtype=float32),\n",
       "  'logits': array([ 0.08840144], dtype=float32),\n",
       "  'probabilities': array([ 0.47791404,  0.52208596], dtype=float32)},\n",
       " {'class_ids': array([0], dtype=int64),\n",
       "  'classes': array([b'0'], dtype=object),\n",
       "  'logistic': array([ 0.2472319], dtype=float32),\n",
       "  'logits': array([-1.11343038], dtype=float32),\n",
       "  'probabilities': array([ 0.7527681 ,  0.24723192], dtype=float32)},\n",
       " {'class_ids': array([0], dtype=int64),\n",
       "  'classes': array([b'0'], dtype=object),\n",
       "  'logistic': array([ 0.36035299], dtype=float32),\n",
       "  'logits': array([-0.57383251], dtype=float32),\n",
       "  'probabilities': array([ 0.63964707,  0.36035296], dtype=float32)},\n",
       " {'class_ids': array([0], dtype=int64),\n",
       "  'classes': array([b'0'], dtype=object),\n",
       "  'logistic': array([ 0.46217871], dtype=float32),\n",
       "  'logits': array([-0.15157473], dtype=float32),\n",
       "  'probabilities': array([ 0.53782129,  0.46217871], dtype=float32)},\n",
       " {'class_ids': array([1], dtype=int64),\n",
       "  'classes': array([b'1'], dtype=object),\n",
       "  'logistic': array([ 0.59530956], dtype=float32),\n",
       "  'logits': array([ 0.38595915], dtype=float32),\n",
       "  'probabilities': array([ 0.40469041,  0.59530956], dtype=float32)},\n",
       " {'class_ids': array([1], dtype=int64),\n",
       "  'classes': array([b'1'], dtype=object),\n",
       "  'logistic': array([ 0.72872508], dtype=float32),\n",
       "  'logits': array([ 0.98816371], dtype=float32),\n",
       "  'probabilities': array([ 0.27127495,  0.72872508], dtype=float32)},\n",
       " {'class_ids': array([0], dtype=int64),\n",
       "  'classes': array([b'0'], dtype=object),\n",
       "  'logistic': array([ 0.29008681], dtype=float32),\n",
       "  'logits': array([-0.89496243], dtype=float32),\n",
       "  'probabilities': array([ 0.70991319,  0.29008684], dtype=float32)},\n",
       " {'class_ids': array([0], dtype=int64),\n",
       "  'classes': array([b'0'], dtype=object),\n",
       "  'logistic': array([ 0.16372563], dtype=float32),\n",
       "  'logits': array([-1.63076472], dtype=float32),\n",
       "  'probabilities': array([ 0.83627439,  0.16372563], dtype=float32)},\n",
       " {'class_ids': array([1], dtype=int64),\n",
       "  'classes': array([b'1'], dtype=object),\n",
       "  'logistic': array([ 0.50739604], dtype=float32),\n",
       "  'logits': array([ 0.02958632], dtype=float32),\n",
       "  'probabilities': array([ 0.49260396,  0.50739604], dtype=float32)},\n",
       " {'class_ids': array([0], dtype=int64),\n",
       "  'classes': array([b'0'], dtype=object),\n",
       "  'logistic': array([ 0.15358745], dtype=float32),\n",
       "  'logits': array([-1.7067368], dtype=float32),\n",
       "  'probabilities': array([ 0.8464126 ,  0.15358745], dtype=float32)},\n",
       " {'class_ids': array([0], dtype=int64),\n",
       "  'classes': array([b'0'], dtype=object),\n",
       "  'logistic': array([ 0.47994542], dtype=float32),\n",
       "  'logits': array([-0.08026135], dtype=float32),\n",
       "  'probabilities': array([ 0.52005458,  0.47994542], dtype=float32)},\n",
       " {'class_ids': array([0], dtype=int64),\n",
       "  'classes': array([b'0'], dtype=object),\n",
       "  'logistic': array([ 0.14199887], dtype=float32),\n",
       "  'logits': array([-1.7987864], dtype=float32),\n",
       "  'probabilities': array([ 0.85800117,  0.14199886], dtype=float32)},\n",
       " {'class_ids': array([0], dtype=int64),\n",
       "  'classes': array([b'0'], dtype=object),\n",
       "  'logistic': array([ 0.09743597], dtype=float32),\n",
       "  'logits': array([-2.22604418], dtype=float32),\n",
       "  'probabilities': array([ 0.90256405,  0.09743597], dtype=float32)},\n",
       " {'class_ids': array([1], dtype=int64),\n",
       "  'classes': array([b'1'], dtype=object),\n",
       "  'logistic': array([ 0.5717544], dtype=float32),\n",
       "  'logits': array([ 0.28901267], dtype=float32),\n",
       "  'probabilities': array([ 0.42824557,  0.5717544 ], dtype=float32)},\n",
       " {'class_ids': array([0], dtype=int64),\n",
       "  'classes': array([b'0'], dtype=object),\n",
       "  'logistic': array([ 0.17303005], dtype=float32),\n",
       "  'logits': array([-1.56430316], dtype=float32),\n",
       "  'probabilities': array([ 0.82696998,  0.17303003], dtype=float32)},\n",
       " {'class_ids': array([0], dtype=int64),\n",
       "  'classes': array([b'0'], dtype=object),\n",
       "  'logistic': array([ 0.20613833], dtype=float32),\n",
       "  'logits': array([-1.34836185], dtype=float32),\n",
       "  'probabilities': array([ 0.79386169,  0.20613831], dtype=float32)},\n",
       " {'class_ids': array([0], dtype=int64),\n",
       "  'classes': array([b'0'], dtype=object),\n",
       "  'logistic': array([ 0.11042524], dtype=float32),\n",
       "  'logits': array([-2.0864048], dtype=float32),\n",
       "  'probabilities': array([ 0.88957477,  0.11042524], dtype=float32)},\n",
       " {'class_ids': array([0], dtype=int64),\n",
       "  'classes': array([b'0'], dtype=object),\n",
       "  'logistic': array([ 0.1563637], dtype=float32),\n",
       "  'logits': array([-1.68553686], dtype=float32),\n",
       "  'probabilities': array([ 0.84363627,  0.15636368], dtype=float32)},\n",
       " {'class_ids': array([0], dtype=int64),\n",
       "  'classes': array([b'0'], dtype=object),\n",
       "  'logistic': array([ 0.22225972], dtype=float32),\n",
       "  'logits': array([-1.25254607], dtype=float32),\n",
       "  'probabilities': array([ 0.7777403 ,  0.22225972], dtype=float32)},\n",
       " {'class_ids': array([0], dtype=int64),\n",
       "  'classes': array([b'0'], dtype=object),\n",
       "  'logistic': array([ 0.23526339], dtype=float32),\n",
       "  'logits': array([-1.17882574], dtype=float32),\n",
       "  'probabilities': array([ 0.76473659,  0.23526339], dtype=float32)},\n",
       " {'class_ids': array([0], dtype=int64),\n",
       "  'classes': array([b'0'], dtype=object),\n",
       "  'logistic': array([ 0.33157998], dtype=float32),\n",
       "  'logits': array([-0.70104766], dtype=float32),\n",
       "  'probabilities': array([ 0.66841996,  0.33157995], dtype=float32)},\n",
       " {'class_ids': array([0], dtype=int64),\n",
       "  'classes': array([b'0'], dtype=object),\n",
       "  'logistic': array([ 0.13303494], dtype=float32),\n",
       "  'logits': array([-1.87438679], dtype=float32),\n",
       "  'probabilities': array([ 0.86696506,  0.13303494], dtype=float32)},\n",
       " {'class_ids': array([0], dtype=int64),\n",
       "  'classes': array([b'0'], dtype=object),\n",
       "  'logistic': array([ 0.20489584], dtype=float32),\n",
       "  'logits': array([-1.35597134], dtype=float32),\n",
       "  'probabilities': array([ 0.79510415,  0.20489585], dtype=float32)},\n",
       " {'class_ids': array([0], dtype=int64),\n",
       "  'classes': array([b'0'], dtype=object),\n",
       "  'logistic': array([ 0.18947014], dtype=float32),\n",
       "  'logits': array([-1.45345676], dtype=float32),\n",
       "  'probabilities': array([ 0.81052989,  0.18947014], dtype=float32)},\n",
       " {'class_ids': array([0], dtype=int64),\n",
       "  'classes': array([b'0'], dtype=object),\n",
       "  'logistic': array([ 0.19582827], dtype=float32),\n",
       "  'logits': array([-1.41257477], dtype=float32),\n",
       "  'probabilities': array([ 0.80417174,  0.19582826], dtype=float32)},\n",
       " {'class_ids': array([0], dtype=int64),\n",
       "  'classes': array([b'0'], dtype=object),\n",
       "  'logistic': array([ 0.47241735], dtype=float32),\n",
       "  'logits': array([-0.11044276], dtype=float32),\n",
       "  'probabilities': array([ 0.52758265,  0.47241732], dtype=float32)},\n",
       " {'class_ids': array([0], dtype=int64),\n",
       "  'classes': array([b'0'], dtype=object),\n",
       "  'logistic': array([ 0.15061687], dtype=float32),\n",
       "  'logits': array([-1.72977102], dtype=float32),\n",
       "  'probabilities': array([ 0.84938312,  0.15061687], dtype=float32)},\n",
       " {'class_ids': array([0], dtype=int64),\n",
       "  'classes': array([b'0'], dtype=object),\n",
       "  'logistic': array([ 0.21548575], dtype=float32),\n",
       "  'logits': array([-1.29216993], dtype=float32),\n",
       "  'probabilities': array([ 0.78451419,  0.21548574], dtype=float32)},\n",
       " {'class_ids': array([1], dtype=int64),\n",
       "  'classes': array([b'1'], dtype=object),\n",
       "  'logistic': array([ 0.58567613], dtype=float32),\n",
       "  'logits': array([ 0.34611893], dtype=float32),\n",
       "  'probabilities': array([ 0.4143239 ,  0.58567613], dtype=float32)},\n",
       " {'class_ids': array([1], dtype=int64),\n",
       "  'classes': array([b'1'], dtype=object),\n",
       "  'logistic': array([ 0.60002953], dtype=float32),\n",
       "  'logits': array([ 0.40558815], dtype=float32),\n",
       "  'probabilities': array([ 0.39997044,  0.60002953], dtype=float32)},\n",
       " {'class_ids': array([0], dtype=int64),\n",
       "  'classes': array([b'0'], dtype=object),\n",
       "  'logistic': array([ 0.47214741], dtype=float32),\n",
       "  'logits': array([-0.11152583], dtype=float32),\n",
       "  'probabilities': array([ 0.52785259,  0.47214741], dtype=float32)},\n",
       " {'class_ids': array([0], dtype=int64),\n",
       "  'classes': array([b'0'], dtype=object),\n",
       "  'logistic': array([ 0.33560577], dtype=float32),\n",
       "  'logits': array([-0.68293852], dtype=float32),\n",
       "  'probabilities': array([ 0.6643942 ,  0.33560574], dtype=float32)},\n",
       " {'class_ids': array([0], dtype=int64),\n",
       "  'classes': array([b'0'], dtype=object),\n",
       "  'logistic': array([ 0.46969196], dtype=float32),\n",
       "  'logits': array([-0.12138116], dtype=float32),\n",
       "  'probabilities': array([ 0.53030807,  0.4696919 ], dtype=float32)},\n",
       " {'class_ids': array([0], dtype=int64),\n",
       "  'classes': array([b'0'], dtype=object),\n",
       "  'logistic': array([ 0.1702119], dtype=float32),\n",
       "  'logits': array([-1.58412623], dtype=float32),\n",
       "  'probabilities': array([ 0.82978809,  0.1702119 ], dtype=float32)},\n",
       " {'class_ids': array([0], dtype=int64),\n",
       "  'classes': array([b'0'], dtype=object),\n",
       "  'logistic': array([ 0.2021365], dtype=float32),\n",
       "  'logits': array([-1.37299442], dtype=float32),\n",
       "  'probabilities': array([ 0.79786354,  0.20213649], dtype=float32)},\n",
       " {'class_ids': array([0], dtype=int64),\n",
       "  'classes': array([b'0'], dtype=object),\n",
       "  'logistic': array([ 0.13851123], dtype=float32),\n",
       "  'logits': array([-1.82771063], dtype=float32),\n",
       "  'probabilities': array([ 0.86148876,  0.13851123], dtype=float32)},\n",
       " {'class_ids': array([0], dtype=int64),\n",
       "  'classes': array([b'0'], dtype=object),\n",
       "  'logistic': array([ 0.13206226], dtype=float32),\n",
       "  'logits': array([-1.88284659], dtype=float32),\n",
       "  'probabilities': array([ 0.86793774,  0.13206226], dtype=float32)},\n",
       " {'class_ids': array([1], dtype=int64),\n",
       "  'classes': array([b'1'], dtype=object),\n",
       "  'logistic': array([ 0.5668152], dtype=float32),\n",
       "  'logits': array([ 0.26886904], dtype=float32),\n",
       "  'probabilities': array([ 0.43318474,  0.5668152 ], dtype=float32)},\n",
       " {'class_ids': array([0], dtype=int64),\n",
       "  'classes': array([b'0'], dtype=object),\n",
       "  'logistic': array([ 0.23281977], dtype=float32),\n",
       "  'logits': array([-1.19245708], dtype=float32),\n",
       "  'probabilities': array([ 0.76718026,  0.2328198 ], dtype=float32)},\n",
       " {'class_ids': array([0], dtype=int64),\n",
       "  'classes': array([b'0'], dtype=object),\n",
       "  'logistic': array([ 0.38261986], dtype=float32),\n",
       "  'logits': array([-0.47844309], dtype=float32),\n",
       "  'probabilities': array([ 0.61738014,  0.3826198 ], dtype=float32)},\n",
       " {'class_ids': array([1], dtype=int64),\n",
       "  'classes': array([b'1'], dtype=object),\n",
       "  'logistic': array([ 0.52403659], dtype=float32),\n",
       "  'logits': array([ 0.09622049], dtype=float32),\n",
       "  'probabilities': array([ 0.47596344,  0.52403659], dtype=float32)},\n",
       " {'class_ids': array([0], dtype=int64),\n",
       "  'classes': array([b'0'], dtype=object),\n",
       "  'logistic': array([ 0.28593528], dtype=float32),\n",
       "  'logits': array([-0.9152081], dtype=float32),\n",
       "  'probabilities': array([ 0.71406472,  0.28593528], dtype=float32)},\n",
       " {'class_ids': array([1], dtype=int64),\n",
       "  'classes': array([b'1'], dtype=object),\n",
       "  'logistic': array([ 0.59566104], dtype=float32),\n",
       "  'logits': array([ 0.38741827], dtype=float32),\n",
       "  'probabilities': array([ 0.40433896,  0.59566104], dtype=float32)},\n",
       " {'class_ids': array([0], dtype=int64),\n",
       "  'classes': array([b'0'], dtype=object),\n",
       "  'logistic': array([ 0.11561479], dtype=float32),\n",
       "  'logits': array([-2.03462887], dtype=float32),\n",
       "  'probabilities': array([ 0.88438523,  0.11561479], dtype=float32)},\n",
       " {'class_ids': array([1], dtype=int64),\n",
       "  'classes': array([b'1'], dtype=object),\n",
       "  'logistic': array([ 0.57102185], dtype=float32),\n",
       "  'logits': array([ 0.28602147], dtype=float32),\n",
       "  'probabilities': array([ 0.42897815,  0.57102185], dtype=float32)},\n",
       " {'class_ids': array([0], dtype=int64),\n",
       "  'classes': array([b'0'], dtype=object),\n",
       "  'logistic': array([ 0.11638024], dtype=float32),\n",
       "  'logits': array([-2.02716398], dtype=float32),\n",
       "  'probabilities': array([ 0.88361979,  0.11638025], dtype=float32)},\n",
       " {'class_ids': array([1], dtype=int64),\n",
       "  'classes': array([b'1'], dtype=object),\n",
       "  'logistic': array([ 0.50597948], dtype=float32),\n",
       "  'logits': array([ 0.02391887], dtype=float32),\n",
       "  'probabilities': array([ 0.49402061,  0.50597948], dtype=float32)},\n",
       " {'class_ids': array([0], dtype=int64),\n",
       "  'classes': array([b'0'], dtype=object),\n",
       "  'logistic': array([ 0.33929038], dtype=float32),\n",
       "  'logits': array([-0.66645813], dtype=float32),\n",
       "  'probabilities': array([ 0.66070962,  0.33929035], dtype=float32)},\n",
       " {'class_ids': array([0], dtype=int64),\n",
       "  'classes': array([b'0'], dtype=object),\n",
       "  'logistic': array([ 0.16526206], dtype=float32),\n",
       "  'logits': array([-1.61958539], dtype=float32),\n",
       "  'probabilities': array([ 0.83473796,  0.16526206], dtype=float32)},\n",
       " {'class_ids': array([1], dtype=int64),\n",
       "  'classes': array([b'1'], dtype=object),\n",
       "  'logistic': array([ 0.51660901], dtype=float32),\n",
       "  'logits': array([ 0.06646037], dtype=float32),\n",
       "  'probabilities': array([ 0.48339105,  0.51660901], dtype=float32)},\n",
       " {'class_ids': array([1], dtype=int64),\n",
       "  'classes': array([b'1'], dtype=object),\n",
       "  'logistic': array([ 0.55093575], dtype=float32),\n",
       "  'logits': array([ 0.20445216], dtype=float32),\n",
       "  'probabilities': array([ 0.44906428,  0.55093575], dtype=float32)},\n",
       " {'class_ids': array([1], dtype=int64),\n",
       "  'classes': array([b'1'], dtype=object),\n",
       "  'logistic': array([ 0.54280847], dtype=float32),\n",
       "  'logits': array([ 0.17165422], dtype=float32),\n",
       "  'probabilities': array([ 0.4571915 ,  0.54280847], dtype=float32)},\n",
       " {'class_ids': array([0], dtype=int64),\n",
       "  'classes': array([b'0'], dtype=object),\n",
       "  'logistic': array([ 0.15140265], dtype=float32),\n",
       "  'logits': array([-1.72364199], dtype=float32),\n",
       "  'probabilities': array([ 0.84859735,  0.15140265], dtype=float32)},\n",
       " {'class_ids': array([0], dtype=int64),\n",
       "  'classes': array([b'0'], dtype=object),\n",
       "  'logistic': array([ 0.33162418], dtype=float32),\n",
       "  'logits': array([-0.70084834], dtype=float32),\n",
       "  'probabilities': array([ 0.66837585,  0.33162418], dtype=float32)},\n",
       " {'class_ids': array([0], dtype=int64),\n",
       "  'classes': array([b'0'], dtype=object),\n",
       "  'logistic': array([ 0.14241181], dtype=float32),\n",
       "  'logits': array([-1.7954011], dtype=float32),\n",
       "  'probabilities': array([ 0.85758823,  0.14241181], dtype=float32)},\n",
       " {'class_ids': array([1], dtype=int64),\n",
       "  'classes': array([b'1'], dtype=object),\n",
       "  'logistic': array([ 0.69230545], dtype=float32),\n",
       "  'logits': array([ 0.81091952], dtype=float32),\n",
       "  'probabilities': array([ 0.30769458,  0.69230545], dtype=float32)},\n",
       " {'class_ids': array([1], dtype=int64),\n",
       "  'classes': array([b'1'], dtype=object),\n",
       "  'logistic': array([ 0.8060683], dtype=float32),\n",
       "  'logits': array([ 1.42466283], dtype=float32),\n",
       "  'probabilities': array([ 0.19393162,  0.8060683 ], dtype=float32)},\n",
       " {'class_ids': array([1], dtype=int64),\n",
       "  'classes': array([b'1'], dtype=object),\n",
       "  'logistic': array([ 0.57375109], dtype=float32),\n",
       "  'logits': array([ 0.29717207], dtype=float32),\n",
       "  'probabilities': array([ 0.42624897,  0.57375109], dtype=float32)},\n",
       " {'class_ids': array([0], dtype=int64),\n",
       "  'classes': array([b'0'], dtype=object),\n",
       "  'logistic': array([ 0.19901845], dtype=float32),\n",
       "  'logits': array([-1.39244032], dtype=float32),\n",
       "  'probabilities': array([ 0.80098158,  0.19901846], dtype=float32)},\n",
       " {'class_ids': array([0], dtype=int64),\n",
       "  'classes': array([b'0'], dtype=object),\n",
       "  'logistic': array([ 0.41684601], dtype=float32),\n",
       "  'logits': array([-0.33573443], dtype=float32),\n",
       "  'probabilities': array([ 0.58315402,  0.41684601], dtype=float32)},\n",
       " {'class_ids': array([0], dtype=int64),\n",
       "  'classes': array([b'0'], dtype=object),\n",
       "  'logistic': array([ 0.33385944], dtype=float32),\n",
       "  'logits': array([-0.69078058], dtype=float32),\n",
       "  'probabilities': array([ 0.66614056,  0.33385944], dtype=float32)},\n",
       " {'class_ids': array([0], dtype=int64),\n",
       "  'classes': array([b'0'], dtype=object),\n",
       "  'logistic': array([ 0.43982804], dtype=float32),\n",
       "  'logits': array([-0.24185985], dtype=float32),\n",
       "  'probabilities': array([ 0.5601719 ,  0.43982804], dtype=float32)},\n",
       " {'class_ids': array([0], dtype=int64),\n",
       "  'classes': array([b'0'], dtype=object),\n",
       "  'logistic': array([ 0.31444344], dtype=float32),\n",
       "  'logits': array([-0.77942681], dtype=float32),\n",
       "  'probabilities': array([ 0.68555659,  0.31444344], dtype=float32)},\n",
       " {'class_ids': array([0], dtype=int64),\n",
       "  'classes': array([b'0'], dtype=object),\n",
       "  'logistic': array([ 0.39748847], dtype=float32),\n",
       "  'logits': array([-0.41594088], dtype=float32),\n",
       "  'probabilities': array([ 0.60251153,  0.39748847], dtype=float32)},\n",
       " {'class_ids': array([0], dtype=int64),\n",
       "  'classes': array([b'0'], dtype=object),\n",
       "  'logistic': array([ 0.1554458], dtype=float32),\n",
       "  'logits': array([-1.6925118], dtype=float32),\n",
       "  'probabilities': array([ 0.84455419,  0.1554458 ], dtype=float32)},\n",
       " {'class_ids': array([1], dtype=int64),\n",
       "  'classes': array([b'1'], dtype=object),\n",
       "  'logistic': array([ 0.5248481], dtype=float32),\n",
       "  'logits': array([ 0.09947431], dtype=float32),\n",
       "  'probabilities': array([ 0.47515193,  0.5248481 ], dtype=float32)},\n",
       " {'class_ids': array([1], dtype=int64),\n",
       "  'classes': array([b'1'], dtype=object),\n",
       "  'logistic': array([ 0.52115583], dtype=float32),\n",
       "  'logits': array([ 0.08467388], dtype=float32),\n",
       "  'probabilities': array([ 0.47884417,  0.52115583], dtype=float32)},\n",
       " {'class_ids': array([0], dtype=int64),\n",
       "  'classes': array([b'0'], dtype=object),\n",
       "  'logistic': array([ 0.22439551], dtype=float32),\n",
       "  'logits': array([-1.24023247], dtype=float32),\n",
       "  'probabilities': array([ 0.77560449,  0.22439553], dtype=float32)},\n",
       " {'class_ids': array([0], dtype=int64),\n",
       "  'classes': array([b'0'], dtype=object),\n",
       "  'logistic': array([ 0.18272334], dtype=float32),\n",
       "  'logits': array([-1.49800444], dtype=float32),\n",
       "  'probabilities': array([ 0.81727666,  0.18272334], dtype=float32)},\n",
       " {'class_ids': array([0], dtype=int64),\n",
       "  'classes': array([b'0'], dtype=object),\n",
       "  'logistic': array([ 0.15747681], dtype=float32),\n",
       "  'logits': array([-1.67712295], dtype=float32),\n",
       "  'probabilities': array([ 0.84252316,  0.15747681], dtype=float32)},\n",
       " {'class_ids': array([0], dtype=int64),\n",
       "  'classes': array([b'0'], dtype=object),\n",
       "  'logistic': array([ 0.26041916], dtype=float32),\n",
       "  'logits': array([-1.04379117], dtype=float32),\n",
       "  'probabilities': array([ 0.73958087,  0.26041916], dtype=float32)},\n",
       " {'class_ids': array([0], dtype=int64),\n",
       "  'classes': array([b'0'], dtype=object),\n",
       "  'logistic': array([ 0.33693546], dtype=float32),\n",
       "  'logits': array([-0.67698085], dtype=float32),\n",
       "  'probabilities': array([ 0.66306448,  0.33693546], dtype=float32)},\n",
       " {'class_ids': array([0], dtype=int64),\n",
       "  'classes': array([b'0'], dtype=object),\n",
       "  'logistic': array([ 0.13855216], dtype=float32),\n",
       "  'logits': array([-1.82736766], dtype=float32),\n",
       "  'probabilities': array([ 0.86144787,  0.13855216], dtype=float32)},\n",
       " {'class_ids': array([0], dtype=int64),\n",
       "  'classes': array([b'0'], dtype=object),\n",
       "  'logistic': array([ 0.28518865], dtype=float32),\n",
       "  'logits': array([-0.91886777], dtype=float32),\n",
       "  'probabilities': array([ 0.71481138,  0.28518867], dtype=float32)},\n",
       " {'class_ids': array([0], dtype=int64),\n",
       "  'classes': array([b'0'], dtype=object),\n",
       "  'logistic': array([ 0.21272673], dtype=float32),\n",
       "  'logits': array([-1.30856705], dtype=float32),\n",
       "  'probabilities': array([ 0.78727329,  0.21272673], dtype=float32)},\n",
       " {'class_ids': array([0], dtype=int64),\n",
       "  'classes': array([b'0'], dtype=object),\n",
       "  'logistic': array([ 0.08962502], dtype=float32),\n",
       "  'logits': array([-2.31822205], dtype=float32),\n",
       "  'probabilities': array([ 0.91037494,  0.08962502], dtype=float32)},\n",
       " {'class_ids': array([0], dtype=int64),\n",
       "  'classes': array([b'0'], dtype=object),\n",
       "  'logistic': array([ 0.1173375], dtype=float32),\n",
       "  'logits': array([-2.01788855], dtype=float32),\n",
       "  'probabilities': array([ 0.88266248,  0.11733749], dtype=float32)},\n",
       " {'class_ids': array([1], dtype=int64),\n",
       "  'classes': array([b'1'], dtype=object),\n",
       "  'logistic': array([ 0.71247745], dtype=float32),\n",
       "  'logits': array([ 0.90744674], dtype=float32),\n",
       "  'probabilities': array([ 0.28752261,  0.71247745], dtype=float32)},\n",
       " {'class_ids': array([0], dtype=int64),\n",
       "  'classes': array([b'0'], dtype=object),\n",
       "  'logistic': array([ 0.16458939], dtype=float32),\n",
       "  'logits': array([-1.62446952], dtype=float32),\n",
       "  'probabilities': array([ 0.83541065,  0.16458941], dtype=float32)},\n",
       " {'class_ids': array([0], dtype=int64),\n",
       "  'classes': array([b'0'], dtype=object),\n",
       "  'logistic': array([ 0.13400762], dtype=float32),\n",
       "  'logits': array([-1.86597943], dtype=float32),\n",
       "  'probabilities': array([ 0.86599237,  0.13400763], dtype=float32)},\n",
       " {'class_ids': array([0], dtype=int64),\n",
       "  'classes': array([b'0'], dtype=object),\n",
       "  'logistic': array([ 0.13256986], dtype=float32),\n",
       "  'logits': array([-1.87842524], dtype=float32),\n",
       "  'probabilities': array([ 0.86743015,  0.13256986], dtype=float32)},\n",
       " {'class_ids': array([0], dtype=int64),\n",
       "  'classes': array([b'0'], dtype=object),\n",
       "  'logistic': array([ 0.47575158], dtype=float32),\n",
       "  'logits': array([-0.09706986], dtype=float32),\n",
       "  'probabilities': array([ 0.52424842,  0.47575158], dtype=float32)},\n",
       " {'class_ids': array([0], dtype=int64),\n",
       "  'classes': array([b'0'], dtype=object),\n",
       "  'logistic': array([ 0.41374061], dtype=float32),\n",
       "  'logits': array([-0.34852314], dtype=float32),\n",
       "  'probabilities': array([ 0.58625937,  0.41374058], dtype=float32)},\n",
       " {'class_ids': array([0], dtype=int64),\n",
       "  'classes': array([b'0'], dtype=object),\n",
       "  'logistic': array([ 0.2196888], dtype=float32),\n",
       "  'logits': array([-1.26748073], dtype=float32),\n",
       "  'probabilities': array([ 0.78031117,  0.21968882], dtype=float32)},\n",
       " {'class_ids': array([0], dtype=int64),\n",
       "  'classes': array([b'0'], dtype=object),\n",
       "  'logistic': array([ 0.39331684], dtype=float32),\n",
       "  'logits': array([-0.43339121], dtype=float32),\n",
       "  'probabilities': array([ 0.60668314,  0.39331684], dtype=float32)},\n",
       " {'class_ids': array([0], dtype=int64),\n",
       "  'classes': array([b'0'], dtype=object),\n",
       "  'logistic': array([ 0.1883108], dtype=float32),\n",
       "  'logits': array([-1.46102369], dtype=float32),\n",
       "  'probabilities': array([ 0.8116892,  0.1883108], dtype=float32)},\n",
       " {'class_ids': array([0], dtype=int64),\n",
       "  'classes': array([b'0'], dtype=object),\n",
       "  'logistic': array([ 0.21070045], dtype=float32),\n",
       "  'logits': array([-1.32070839], dtype=float32),\n",
       "  'probabilities': array([ 0.78929955,  0.21070047], dtype=float32)},\n",
       " {'class_ids': array([0], dtype=int64),\n",
       "  'classes': array([b'0'], dtype=object),\n",
       "  'logistic': array([ 0.48397461], dtype=float32),\n",
       "  'logits': array([-0.06412351], dtype=float32),\n",
       "  'probabilities': array([ 0.51602542,  0.48397467], dtype=float32)},\n",
       " {'class_ids': array([0], dtype=int64),\n",
       "  'classes': array([b'0'], dtype=object),\n",
       "  'logistic': array([ 0.46071848], dtype=float32),\n",
       "  'logits': array([-0.15745056], dtype=float32),\n",
       "  'probabilities': array([ 0.53928149,  0.46071845], dtype=float32)},\n",
       " {'class_ids': array([0], dtype=int64),\n",
       "  'classes': array([b'0'], dtype=object),\n",
       "  'logistic': array([ 0.14054558], dtype=float32),\n",
       "  'logits': array([-1.81076598], dtype=float32),\n",
       "  'probabilities': array([ 0.85945445,  0.14054558], dtype=float32)},\n",
       " {'class_ids': array([0], dtype=int64),\n",
       "  'classes': array([b'0'], dtype=object),\n",
       "  'logistic': array([ 0.37066981], dtype=float32),\n",
       "  'logits': array([-0.52934426], dtype=float32),\n",
       "  'probabilities': array([ 0.62933016,  0.37066984], dtype=float32)},\n",
       " {'class_ids': array([1], dtype=int64),\n",
       "  'classes': array([b'1'], dtype=object),\n",
       "  'logistic': array([ 0.64269716], dtype=float32),\n",
       "  'logits': array([ 0.58708978], dtype=float32),\n",
       "  'probabilities': array([ 0.35730287,  0.64269716], dtype=float32)},\n",
       " {'class_ids': array([1], dtype=int64),\n",
       "  'classes': array([b'1'], dtype=object),\n",
       "  'logistic': array([ 0.51859969], dtype=float32),\n",
       "  'logits': array([ 0.07443321], dtype=float32),\n",
       "  'probabilities': array([ 0.48140028,  0.51859969], dtype=float32)},\n",
       " {'class_ids': array([0], dtype=int64),\n",
       "  'classes': array([b'0'], dtype=object),\n",
       "  'logistic': array([ 0.36921403], dtype=float32),\n",
       "  'logits': array([-0.53559005], dtype=float32),\n",
       "  'probabilities': array([ 0.63078594,  0.36921403], dtype=float32)},\n",
       " {'class_ids': array([1], dtype=int64),\n",
       "  'classes': array([b'1'], dtype=object),\n",
       "  'logistic': array([ 0.55043417], dtype=float32),\n",
       "  'logits': array([ 0.20242512], dtype=float32),\n",
       "  'probabilities': array([ 0.44956583,  0.55043417], dtype=float32)},\n",
       " {'class_ids': array([0], dtype=int64),\n",
       "  'classes': array([b'0'], dtype=object),\n",
       "  'logistic': array([ 0.20899232], dtype=float32),\n",
       "  'logits': array([-1.33101022], dtype=float32),\n",
       "  'probabilities': array([ 0.7910077 ,  0.20899232], dtype=float32)},\n",
       " {'class_ids': array([0], dtype=int64),\n",
       "  'classes': array([b'0'], dtype=object),\n",
       "  'logistic': array([ 0.19763173], dtype=float32),\n",
       "  'logits': array([-1.40116227], dtype=float32),\n",
       "  'probabilities': array([ 0.80236828,  0.19763175], dtype=float32)},\n",
       " {'class_ids': array([0], dtype=int64),\n",
       "  'classes': array([b'0'], dtype=object),\n",
       "  'logistic': array([ 0.13593614], dtype=float32),\n",
       "  'logits': array([-1.84946144], dtype=float32),\n",
       "  'probabilities': array([ 0.8640638 ,  0.13593613], dtype=float32)},\n",
       " {'class_ids': array([0], dtype=int64),\n",
       "  'classes': array([b'0'], dtype=object),\n",
       "  'logistic': array([ 0.25555912], dtype=float32),\n",
       "  'logits': array([-1.06917977], dtype=float32),\n",
       "  'probabilities': array([ 0.74444091,  0.25555909], dtype=float32)},\n",
       " {'class_ids': array([0], dtype=int64),\n",
       "  'classes': array([b'0'], dtype=object),\n",
       "  'logistic': array([ 0.44940847], dtype=float32),\n",
       "  'logits': array([-0.20306104], dtype=float32),\n",
       "  'probabilities': array([ 0.55059153,  0.44940844], dtype=float32)},\n",
       " {'class_ids': array([1], dtype=int64),\n",
       "  'classes': array([b'1'], dtype=object),\n",
       "  'logistic': array([ 0.64541531], dtype=float32),\n",
       "  'logits': array([ 0.59894681], dtype=float32),\n",
       "  'probabilities': array([ 0.35458469,  0.64541531], dtype=float32)},\n",
       " {'class_ids': array([0], dtype=int64),\n",
       "  'classes': array([b'0'], dtype=object),\n",
       "  'logistic': array([ 0.21237859], dtype=float32),\n",
       "  'logits': array([-1.31064701], dtype=float32),\n",
       "  'probabilities': array([ 0.78762138,  0.21237859], dtype=float32)},\n",
       " {'class_ids': array([0], dtype=int64),\n",
       "  'classes': array([b'0'], dtype=object),\n",
       "  'logistic': array([ 0.15353945], dtype=float32),\n",
       "  'logits': array([-1.70710611], dtype=float32),\n",
       "  'probabilities': array([ 0.84646058,  0.15353945], dtype=float32)},\n",
       " {'class_ids': array([0], dtype=int64),\n",
       "  'classes': array([b'0'], dtype=object),\n",
       "  'logistic': array([ 0.36402473], dtype=float32),\n",
       "  'logits': array([-0.55793786], dtype=float32),\n",
       "  'probabilities': array([ 0.6359753 ,  0.36402473], dtype=float32)},\n",
       " {'class_ids': array([0], dtype=int64),\n",
       "  'classes': array([b'0'], dtype=object),\n",
       "  'logistic': array([ 0.21219201], dtype=float32),\n",
       "  'logits': array([-1.31176281], dtype=float32),\n",
       "  'probabilities': array([ 0.787808  ,  0.21219201], dtype=float32)},\n",
       " {'class_ids': array([0], dtype=int64),\n",
       "  'classes': array([b'0'], dtype=object),\n",
       "  'logistic': array([ 0.1311557], dtype=float32),\n",
       "  'logits': array([-1.89077878], dtype=float32),\n",
       "  'probabilities': array([ 0.86884427,  0.1311557 ], dtype=float32)},\n",
       " {'class_ids': array([0], dtype=int64),\n",
       "  'classes': array([b'0'], dtype=object),\n",
       "  'logistic': array([ 0.1666843], dtype=float32),\n",
       "  'logits': array([-1.60931098], dtype=float32),\n",
       "  'probabilities': array([ 0.83331573,  0.1666843 ], dtype=float32)},\n",
       " {'class_ids': array([0], dtype=int64),\n",
       "  'classes': array([b'0'], dtype=object),\n",
       "  'logistic': array([ 0.11611088], dtype=float32),\n",
       "  'logits': array([-2.02978611], dtype=float32),\n",
       "  'probabilities': array([ 0.88388914,  0.11611088], dtype=float32)},\n",
       " {'class_ids': array([0], dtype=int64),\n",
       "  'classes': array([b'0'], dtype=object),\n",
       "  'logistic': array([ 0.37365583], dtype=float32),\n",
       "  'logits': array([-0.51656491], dtype=float32),\n",
       "  'probabilities': array([ 0.62634414,  0.37365583], dtype=float32)},\n",
       " {'class_ids': array([1], dtype=int64),\n",
       "  'classes': array([b'1'], dtype=object),\n",
       "  'logistic': array([ 0.73410708], dtype=float32),\n",
       "  'logits': array([ 1.01556134], dtype=float32),\n",
       "  'probabilities': array([ 0.26589289,  0.73410708], dtype=float32)},\n",
       " {'class_ids': array([1], dtype=int64),\n",
       "  'classes': array([b'1'], dtype=object),\n",
       "  'logistic': array([ 0.73706037], dtype=float32),\n",
       "  'logits': array([ 1.03074551], dtype=float32),\n",
       "  'probabilities': array([ 0.26293957,  0.73706037], dtype=float32)},\n",
       " {'class_ids': array([0], dtype=int64),\n",
       "  'classes': array([b'0'], dtype=object),\n",
       "  'logistic': array([ 0.48410019], dtype=float32),\n",
       "  'logits': array([-0.06362063], dtype=float32),\n",
       "  'probabilities': array([ 0.51589978,  0.48410019], dtype=float32)},\n",
       " {'class_ids': array([0], dtype=int64),\n",
       "  'classes': array([b'0'], dtype=object),\n",
       "  'logistic': array([ 0.45917976], dtype=float32),\n",
       "  'logits': array([-0.16364509], dtype=float32),\n",
       "  'probabilities': array([ 0.54082018,  0.45917976], dtype=float32)},\n",
       " {'class_ids': array([1], dtype=int64),\n",
       "  'classes': array([b'1'], dtype=object),\n",
       "  'logistic': array([ 0.52341747], dtype=float32),\n",
       "  'logits': array([ 0.09373844], dtype=float32),\n",
       "  'probabilities': array([ 0.47658256,  0.52341747], dtype=float32)},\n",
       " {'class_ids': array([0], dtype=int64),\n",
       "  'classes': array([b'0'], dtype=object),\n",
       "  'logistic': array([ 0.10206148], dtype=float32),\n",
       "  'logits': array([-2.17452621], dtype=float32),\n",
       "  'probabilities': array([ 0.89793849,  0.10206147], dtype=float32)},\n",
       " {'class_ids': array([0], dtype=int64),\n",
       "  'classes': array([b'0'], dtype=object),\n",
       "  'logistic': array([ 0.48328424], dtype=float32),\n",
       "  'logits': array([-0.06688792], dtype=float32),\n",
       "  'probabilities': array([ 0.51671571,  0.48328424], dtype=float32)},\n",
       " {'class_ids': array([1], dtype=int64),\n",
       "  'classes': array([b'1'], dtype=object),\n",
       "  'logistic': array([ 0.73215663], dtype=float32),\n",
       "  'logits': array([ 1.00559235], dtype=float32),\n",
       "  'probabilities': array([ 0.26784331,  0.73215669], dtype=float32)},\n",
       " {'class_ids': array([0], dtype=int64),\n",
       "  'classes': array([b'0'], dtype=object),\n",
       "  'logistic': array([ 0.36843237], dtype=float32),\n",
       "  'logits': array([-0.53894782], dtype=float32),\n",
       "  'probabilities': array([ 0.6315676 ,  0.36843237], dtype=float32)},\n",
       " {'class_ids': array([0], dtype=int64),\n",
       "  'classes': array([b'0'], dtype=object),\n",
       "  'logistic': array([ 0.27283606], dtype=float32),\n",
       "  'logits': array([-0.98028088], dtype=float32),\n",
       "  'probabilities': array([ 0.72716391,  0.27283603], dtype=float32)},\n",
       " {'class_ids': array([0], dtype=int64),\n",
       "  'classes': array([b'0'], dtype=object),\n",
       "  'logistic': array([ 0.33309752], dtype=float32),\n",
       "  'logits': array([-0.69420856], dtype=float32),\n",
       "  'probabilities': array([ 0.66690254,  0.33309752], dtype=float32)},\n",
       " {'class_ids': array([1], dtype=int64),\n",
       "  'classes': array([b'1'], dtype=object),\n",
       "  'logistic': array([ 0.53850687], dtype=float32),\n",
       "  'logits': array([ 0.154333], dtype=float32),\n",
       "  'probabilities': array([ 0.46149316,  0.53850687], dtype=float32)},\n",
       " {'class_ids': array([0], dtype=int64),\n",
       "  'classes': array([b'0'], dtype=object),\n",
       "  'logistic': array([ 0.21664999], dtype=float32),\n",
       "  'logits': array([-1.28529656], dtype=float32),\n",
       "  'probabilities': array([ 0.78335005,  0.21664999], dtype=float32)},\n",
       " {'class_ids': array([1], dtype=int64),\n",
       "  'classes': array([b'1'], dtype=object),\n",
       "  'logistic': array([ 0.60569316], dtype=float32),\n",
       "  'logits': array([ 0.42924416], dtype=float32),\n",
       "  'probabilities': array([ 0.39430684,  0.60569316], dtype=float32)},\n",
       " {'class_ids': array([0], dtype=int64),\n",
       "  'classes': array([b'0'], dtype=object),\n",
       "  'logistic': array([ 0.37866828], dtype=float32),\n",
       "  'logits': array([-0.49520463], dtype=float32),\n",
       "  'probabilities': array([ 0.62133175,  0.37866825], dtype=float32)},\n",
       " {'class_ids': array([0], dtype=int64),\n",
       "  'classes': array([b'0'], dtype=object),\n",
       "  'logistic': array([ 0.37481746], dtype=float32),\n",
       "  'logits': array([-0.51160461], dtype=float32),\n",
       "  'probabilities': array([ 0.62518251,  0.3748174 ], dtype=float32)},\n",
       " {'class_ids': array([0], dtype=int64),\n",
       "  'classes': array([b'0'], dtype=object),\n",
       "  'logistic': array([ 0.14570233], dtype=float32),\n",
       "  'logits': array([-1.76871395], dtype=float32),\n",
       "  'probabilities': array([ 0.85429764,  0.14570233], dtype=float32)},\n",
       " {'class_ids': array([0], dtype=int64),\n",
       "  'classes': array([b'0'], dtype=object),\n",
       "  'logistic': array([ 0.19403367], dtype=float32),\n",
       "  'logits': array([-1.42401028], dtype=float32),\n",
       "  'probabilities': array([ 0.80596632,  0.19403367], dtype=float32)},\n",
       " {'class_ids': array([0], dtype=int64),\n",
       "  'classes': array([b'0'], dtype=object),\n",
       "  'logistic': array([ 0.17631137], dtype=float32),\n",
       "  'logits': array([-1.54154098], dtype=float32),\n",
       "  'probabilities': array([ 0.82368863,  0.17631137], dtype=float32)},\n",
       " {'class_ids': array([0], dtype=int64),\n",
       "  'classes': array([b'0'], dtype=object),\n",
       "  'logistic': array([ 0.38050383], dtype=float32),\n",
       "  'logits': array([-0.48741031], dtype=float32),\n",
       "  'probabilities': array([ 0.61949623,  0.38050383], dtype=float32)},\n",
       " {'class_ids': array([0], dtype=int64),\n",
       "  'classes': array([b'0'], dtype=object),\n",
       "  'logistic': array([ 0.13231786], dtype=float32),\n",
       "  'logits': array([-1.88061845], dtype=float32),\n",
       "  'probabilities': array([ 0.86768216,  0.13231786], dtype=float32)},\n",
       " {'class_ids': array([1], dtype=int64),\n",
       "  'classes': array([b'1'], dtype=object),\n",
       "  'logistic': array([ 0.73026794], dtype=float32),\n",
       "  'logits': array([ 0.99598217], dtype=float32),\n",
       "  'probabilities': array([ 0.26973215,  0.73026794], dtype=float32)},\n",
       " {'class_ids': array([0], dtype=int64),\n",
       "  'classes': array([b'0'], dtype=object),\n",
       "  'logistic': array([ 0.18936348], dtype=float32),\n",
       "  'logits': array([-1.45415151], dtype=float32),\n",
       "  'probabilities': array([ 0.81063652,  0.18936346], dtype=float32)},\n",
       " {'class_ids': array([0], dtype=int64),\n",
       "  'classes': array([b'0'], dtype=object),\n",
       "  'logistic': array([ 0.4607335], dtype=float32),\n",
       "  'logits': array([-0.15739018], dtype=float32),\n",
       "  'probabilities': array([ 0.53926653,  0.4607335 ], dtype=float32)},\n",
       " {'class_ids': array([0], dtype=int64),\n",
       "  'classes': array([b'0'], dtype=object),\n",
       "  'logistic': array([ 0.13939998], dtype=float32),\n",
       "  'logits': array([-1.82028246], dtype=float32),\n",
       "  'probabilities': array([ 0.86059999,  0.13939998], dtype=float32)},\n",
       " {'class_ids': array([1], dtype=int64),\n",
       "  'classes': array([b'1'], dtype=object),\n",
       "  'logistic': array([ 0.64028305], dtype=float32),\n",
       "  'logits': array([ 0.57659292], dtype=float32),\n",
       "  'probabilities': array([ 0.35971692,  0.64028305], dtype=float32)},\n",
       " {'class_ids': array([0], dtype=int64),\n",
       "  'classes': array([b'0'], dtype=object),\n",
       "  'logistic': array([ 0.3253136], dtype=float32),\n",
       "  'logits': array([-0.72945833], dtype=float32),\n",
       "  'probabilities': array([ 0.67468637,  0.3253136 ], dtype=float32)},\n",
       " {'class_ids': array([0], dtype=int64),\n",
       "  'classes': array([b'0'], dtype=object),\n",
       "  'logistic': array([ 0.18358937], dtype=float32),\n",
       "  'logits': array([-1.49221587], dtype=float32),\n",
       "  'probabilities': array([ 0.81641066,  0.18358938], dtype=float32)},\n",
       " {'class_ids': array([0], dtype=int64),\n",
       "  'classes': array([b'0'], dtype=object),\n",
       "  'logistic': array([ 0.33085248], dtype=float32),\n",
       "  'logits': array([-0.70433193], dtype=float32),\n",
       "  'probabilities': array([ 0.66914755,  0.33085248], dtype=float32)},\n",
       " {'class_ids': array([0], dtype=int64),\n",
       "  'classes': array([b'0'], dtype=object),\n",
       "  'logistic': array([ 0.31926745], dtype=float32),\n",
       "  'logits': array([-0.75714028], dtype=float32),\n",
       "  'probabilities': array([ 0.68073255,  0.31926748], dtype=float32)},\n",
       " {'class_ids': array([0], dtype=int64),\n",
       "  'classes': array([b'0'], dtype=object),\n",
       "  'logistic': array([ 0.15261491], dtype=float32),\n",
       "  'logits': array([-1.71423745], dtype=float32),\n",
       "  'probabilities': array([ 0.84738505,  0.15261491], dtype=float32)},\n",
       " {'class_ids': array([1], dtype=int64),\n",
       "  'classes': array([b'1'], dtype=object),\n",
       "  'logistic': array([ 0.66507775], dtype=float32),\n",
       "  'logits': array([ 0.68600535], dtype=float32),\n",
       "  'probabilities': array([ 0.33492228,  0.66507775], dtype=float32)},\n",
       " {'class_ids': array([0], dtype=int64),\n",
       "  'classes': array([b'0'], dtype=object),\n",
       "  'logistic': array([ 0.17527579], dtype=float32),\n",
       "  'logits': array([-1.54868841], dtype=float32),\n",
       "  'probabilities': array([ 0.8247242 ,  0.17527577], dtype=float32)},\n",
       " {'class_ids': array([0], dtype=int64),\n",
       "  'classes': array([b'0'], dtype=object),\n",
       "  'logistic': array([ 0.15843631], dtype=float32),\n",
       "  'logits': array([-1.669909], dtype=float32),\n",
       "  'probabilities': array([ 0.84156376,  0.15843633], dtype=float32)},\n",
       " {'class_ids': array([0], dtype=int64),\n",
       "  'classes': array([b'0'], dtype=object),\n",
       "  'logistic': array([ 0.2355064], dtype=float32),\n",
       "  'logits': array([-1.17747557], dtype=float32),\n",
       "  'probabilities': array([ 0.76449358,  0.2355064 ], dtype=float32)},\n",
       " {'class_ids': array([0], dtype=int64),\n",
       "  'classes': array([b'0'], dtype=object),\n",
       "  'logistic': array([ 0.43145695], dtype=float32),\n",
       "  'logits': array([-0.2759093], dtype=float32),\n",
       "  'probabilities': array([ 0.56854302,  0.43145692], dtype=float32)},\n",
       " {'class_ids': array([0], dtype=int64),\n",
       "  'classes': array([b'0'], dtype=object),\n",
       "  'logistic': array([ 0.27548981], dtype=float32),\n",
       "  'logits': array([-0.96694529], dtype=float32),\n",
       "  'probabilities': array([ 0.72451019,  0.27548978], dtype=float32)},\n",
       " {'class_ids': array([0], dtype=int64),\n",
       "  'classes': array([b'0'], dtype=object),\n",
       "  'logistic': array([ 0.1127281], dtype=float32),\n",
       "  'logits': array([-2.06317282], dtype=float32),\n",
       "  'probabilities': array([ 0.88727194,  0.1127281 ], dtype=float32)},\n",
       " {'class_ids': array([1], dtype=int64),\n",
       "  'classes': array([b'1'], dtype=object),\n",
       "  'logistic': array([ 0.80128479], dtype=float32),\n",
       "  'logits': array([ 1.39434385], dtype=float32),\n",
       "  'probabilities': array([ 0.19871518,  0.80128479], dtype=float32)},\n",
       " {'class_ids': array([1], dtype=int64),\n",
       "  'classes': array([b'1'], dtype=object),\n",
       "  'logistic': array([ 0.62525326], dtype=float32),\n",
       "  'logits': array([ 0.51190627], dtype=float32),\n",
       "  'probabilities': array([ 0.37474677,  0.62525326], dtype=float32)},\n",
       " {'class_ids': array([0], dtype=int64),\n",
       "  'classes': array([b'0'], dtype=object),\n",
       "  'logistic': array([ 0.49507651], dtype=float32),\n",
       "  'logits': array([-0.01969451], dtype=float32),\n",
       "  'probabilities': array([ 0.50492346,  0.49507651], dtype=float32)},\n",
       " {'class_ids': array([1], dtype=int64),\n",
       "  'classes': array([b'1'], dtype=object),\n",
       "  'logistic': array([ 0.69320875], dtype=float32),\n",
       "  'logits': array([ 0.81516385], dtype=float32),\n",
       "  'probabilities': array([ 0.30679119,  0.69320875], dtype=float32)},\n",
       " {'class_ids': array([0], dtype=int64),\n",
       "  'classes': array([b'0'], dtype=object),\n",
       "  'logistic': array([ 0.1057338], dtype=float32),\n",
       "  'logits': array([-2.13507891], dtype=float32),\n",
       "  'probabilities': array([ 0.89426625,  0.1057338 ], dtype=float32)},\n",
       " {'class_ids': array([0], dtype=int64),\n",
       "  'classes': array([b'0'], dtype=object),\n",
       "  'logistic': array([ 0.13200802], dtype=float32),\n",
       "  'logits': array([-1.88331985], dtype=float32),\n",
       "  'probabilities': array([ 0.86799198,  0.13200802], dtype=float32)},\n",
       " {'class_ids': array([0], dtype=int64),\n",
       "  'classes': array([b'0'], dtype=object),\n",
       "  'logistic': array([ 0.20031996], dtype=float32),\n",
       "  'logits': array([-1.38429582], dtype=float32),\n",
       "  'probabilities': array([ 0.79967999,  0.20031995], dtype=float32)},\n",
       " {'class_ids': array([0], dtype=int64),\n",
       "  'classes': array([b'0'], dtype=object),\n",
       "  'logistic': array([ 0.29970732], dtype=float32),\n",
       "  'logits': array([-0.84869194], dtype=float32),\n",
       "  'probabilities': array([ 0.70029271,  0.29970732], dtype=float32)},\n",
       " {'class_ids': array([0], dtype=int64),\n",
       "  'classes': array([b'0'], dtype=object),\n",
       "  'logistic': array([ 0.35469514], dtype=float32),\n",
       "  'logits': array([-0.59846425], dtype=float32),\n",
       "  'probabilities': array([ 0.64530486,  0.35469514], dtype=float32)},\n",
       " {'class_ids': array([1], dtype=int64),\n",
       "  'classes': array([b'1'], dtype=object),\n",
       "  'logistic': array([ 0.52606589], dtype=float32),\n",
       "  'logits': array([ 0.10435832], dtype=float32),\n",
       "  'probabilities': array([ 0.47393405,  0.52606589], dtype=float32)},\n",
       " {'class_ids': array([1], dtype=int64),\n",
       "  'classes': array([b'1'], dtype=object),\n",
       "  'logistic': array([ 0.51873678], dtype=float32),\n",
       "  'logits': array([ 0.0749824], dtype=float32),\n",
       "  'probabilities': array([ 0.48126313,  0.51873678], dtype=float32)},\n",
       " {'class_ids': array([0], dtype=int64),\n",
       "  'classes': array([b'0'], dtype=object),\n",
       "  'logistic': array([ 0.34993893], dtype=float32),\n",
       "  'logits': array([-0.61930764], dtype=float32),\n",
       "  'probabilities': array([ 0.65006107,  0.34993893], dtype=float32)},\n",
       " {'class_ids': array([0], dtype=int64),\n",
       "  'classes': array([b'0'], dtype=object),\n",
       "  'logistic': array([ 0.34124497], dtype=float32),\n",
       "  'logits': array([-0.65775108], dtype=float32),\n",
       "  'probabilities': array([ 0.658755,  0.341245], dtype=float32)},\n",
       " {'class_ids': array([0], dtype=int64),\n",
       "  'classes': array([b'0'], dtype=object),\n",
       "  'logistic': array([ 0.305024], dtype=float32),\n",
       "  'logits': array([-0.82348692], dtype=float32),\n",
       "  'probabilities': array([ 0.69497603,  0.30502397], dtype=float32)},\n",
       " {'class_ids': array([0], dtype=int64),\n",
       "  'classes': array([b'0'], dtype=object),\n",
       "  'logistic': array([ 0.17280082], dtype=float32),\n",
       "  'logits': array([-1.56590581], dtype=float32),\n",
       "  'probabilities': array([ 0.82719922,  0.17280085], dtype=float32)},\n",
       " {'class_ids': array([1], dtype=int64),\n",
       "  'classes': array([b'1'], dtype=object),\n",
       "  'logistic': array([ 0.59295779], dtype=float32),\n",
       "  'logits': array([ 0.37620628], dtype=float32),\n",
       "  'probabilities': array([ 0.40704224,  0.59295779], dtype=float32)},\n",
       " {'class_ids': array([0], dtype=int64),\n",
       "  'classes': array([b'0'], dtype=object),\n",
       "  'logistic': array([ 0.11936445], dtype=float32),\n",
       "  'logits': array([-1.99846244], dtype=float32),\n",
       "  'probabilities': array([ 0.8806355 ,  0.11936444], dtype=float32)},\n",
       " {'class_ids': array([0], dtype=int64),\n",
       "  'classes': array([b'0'], dtype=object),\n",
       "  'logistic': array([ 0.2125265], dtype=float32),\n",
       "  'logits': array([-1.30976307], dtype=float32),\n",
       "  'probabilities': array([ 0.7874735 ,  0.21252649], dtype=float32)},\n",
       " {'class_ids': array([1], dtype=int64),\n",
       "  'classes': array([b'1'], dtype=object),\n",
       "  'logistic': array([ 0.51217151], dtype=float32),\n",
       "  'logits': array([ 0.04869568], dtype=float32),\n",
       "  'probabilities': array([ 0.48782849,  0.51217151], dtype=float32)},\n",
       " {'class_ids': array([0], dtype=int64),\n",
       "  'classes': array([b'0'], dtype=object),\n",
       "  'logistic': array([ 0.35237178], dtype=float32),\n",
       "  'logits': array([-0.60862994], dtype=float32),\n",
       "  'probabilities': array([ 0.64762825,  0.35237181], dtype=float32)},\n",
       " {'class_ids': array([0], dtype=int64),\n",
       "  'classes': array([b'0'], dtype=object),\n",
       "  'logistic': array([ 0.18037884], dtype=float32),\n",
       "  'logits': array([-1.51378298], dtype=float32),\n",
       "  'probabilities': array([ 0.81962121,  0.18037884], dtype=float32)},\n",
       " {'class_ids': array([0], dtype=int64),\n",
       "  'classes': array([b'0'], dtype=object),\n",
       "  'logistic': array([ 0.27842584], dtype=float32),\n",
       "  'logits': array([-0.95228338], dtype=float32),\n",
       "  'probabilities': array([ 0.72157413,  0.27842584], dtype=float32)},\n",
       " {'class_ids': array([0], dtype=int64),\n",
       "  'classes': array([b'0'], dtype=object),\n",
       "  'logistic': array([ 0.24260536], dtype=float32),\n",
       "  'logits': array([-1.13844848], dtype=float32),\n",
       "  'probabilities': array([ 0.75739467,  0.24260533], dtype=float32)},\n",
       " {'class_ids': array([0], dtype=int64),\n",
       "  'classes': array([b'0'], dtype=object),\n",
       "  'logistic': array([ 0.12985034], dtype=float32),\n",
       "  'logits': array([-1.90228271], dtype=float32),\n",
       "  'probabilities': array([ 0.87014961,  0.12985033], dtype=float32)},\n",
       " {'class_ids': array([0], dtype=int64),\n",
       "  'classes': array([b'0'], dtype=object),\n",
       "  'logistic': array([ 0.18384574], dtype=float32),\n",
       "  'logits': array([-1.49050629], dtype=float32),\n",
       "  'probabilities': array([ 0.81615424,  0.18384574], dtype=float32)},\n",
       " {'class_ids': array([1], dtype=int64),\n",
       "  'classes': array([b'1'], dtype=object),\n",
       "  'logistic': array([ 0.53058362], dtype=float32),\n",
       "  'logits': array([ 0.12248755], dtype=float32),\n",
       "  'probabilities': array([ 0.46941632,  0.53058362], dtype=float32)},\n",
       " {'class_ids': array([1], dtype=int64),\n",
       "  'classes': array([b'1'], dtype=object),\n",
       "  'logistic': array([ 0.64939195], dtype=float32),\n",
       "  'logits': array([ 0.61636746], dtype=float32),\n",
       "  'probabilities': array([ 0.35060808,  0.64939195], dtype=float32)},\n",
       " {'class_ids': array([1], dtype=int64),\n",
       "  'classes': array([b'1'], dtype=object),\n",
       "  'logistic': array([ 0.58904892], dtype=float32),\n",
       "  'logits': array([ 0.36003518], dtype=float32),\n",
       "  'probabilities': array([ 0.41095105,  0.58904892], dtype=float32)},\n",
       " {'class_ids': array([1], dtype=int64),\n",
       "  'classes': array([b'1'], dtype=object),\n",
       "  'logistic': array([ 0.6592856], dtype=float32),\n",
       "  'logits': array([ 0.66011214], dtype=float32),\n",
       "  'probabilities': array([ 0.34071442,  0.6592856 ], dtype=float32)},\n",
       " {'class_ids': array([0], dtype=int64),\n",
       "  'classes': array([b'0'], dtype=object),\n",
       "  'logistic': array([ 0.39559031], dtype=float32),\n",
       "  'logits': array([-0.42387313], dtype=float32),\n",
       "  'probabilities': array([ 0.60440969,  0.39559034], dtype=float32)},\n",
       " {'class_ids': array([0], dtype=int64),\n",
       "  'classes': array([b'0'], dtype=object),\n",
       "  'logistic': array([ 0.26754311], dtype=float32),\n",
       "  'logits': array([-1.00712371], dtype=float32),\n",
       "  'probabilities': array([ 0.73245686,  0.26754311], dtype=float32)},\n",
       " {'class_ids': array([0], dtype=int64),\n",
       "  'classes': array([b'0'], dtype=object),\n",
       "  'logistic': array([ 0.47653779], dtype=float32),\n",
       "  'logits': array([-0.09391785], dtype=float32),\n",
       "  'probabilities': array([ 0.52346224,  0.47653779], dtype=float32)},\n",
       " {'class_ids': array([0], dtype=int64),\n",
       "  'classes': array([b'0'], dtype=object),\n",
       "  'logistic': array([ 0.16647115], dtype=float32),\n",
       "  'logits': array([-1.61084628], dtype=float32),\n",
       "  'probabilities': array([ 0.83352888,  0.16647115], dtype=float32)},\n",
       " {'class_ids': array([0], dtype=int64),\n",
       "  'classes': array([b'0'], dtype=object),\n",
       "  'logistic': array([ 0.14040254], dtype=float32),\n",
       "  'logits': array([-1.81195068], dtype=float32),\n",
       "  'probabilities': array([ 0.85959744,  0.14040253], dtype=float32)},\n",
       " {'class_ids': array([0], dtype=int64),\n",
       "  'classes': array([b'0'], dtype=object),\n",
       "  'logistic': array([ 0.16441454], dtype=float32),\n",
       "  'logits': array([-1.62574172], dtype=float32),\n",
       "  'probabilities': array([ 0.83558547,  0.16441454], dtype=float32)},\n",
       " {'class_ids': array([0], dtype=int64),\n",
       "  'classes': array([b'0'], dtype=object),\n",
       "  'logistic': array([ 0.45617414], dtype=float32),\n",
       "  'logits': array([-0.17575437], dtype=float32),\n",
       "  'probabilities': array([ 0.54382581,  0.45617417], dtype=float32)},\n",
       " {'class_ids': array([0], dtype=int64),\n",
       "  'classes': array([b'0'], dtype=object),\n",
       "  'logistic': array([ 0.05251923], dtype=float32),\n",
       "  'logits': array([-2.89262724], dtype=float32),\n",
       "  'probabilities': array([ 0.94748074,  0.05251923], dtype=float32)},\n",
       " {'class_ids': array([0], dtype=int64),\n",
       "  'classes': array([b'0'], dtype=object),\n",
       "  'logistic': array([ 0.25216565], dtype=float32),\n",
       "  'logits': array([-1.08709538], dtype=float32),\n",
       "  'probabilities': array([ 0.74783438,  0.25216565], dtype=float32)},\n",
       " {'class_ids': array([0], dtype=int64),\n",
       "  'classes': array([b'0'], dtype=object),\n",
       "  'logistic': array([ 0.15282688], dtype=float32),\n",
       "  'logits': array([-1.71259928], dtype=float32),\n",
       "  'probabilities': array([ 0.84717309,  0.15282688], dtype=float32)},\n",
       " {'class_ids': array([0], dtype=int64),\n",
       "  'classes': array([b'0'], dtype=object),\n",
       "  'logistic': array([ 0.22730763], dtype=float32),\n",
       "  'logits': array([-1.22357678], dtype=float32),\n",
       "  'probabilities': array([ 0.77269238,  0.2273076 ], dtype=float32)},\n",
       " {'class_ids': array([0], dtype=int64),\n",
       "  'classes': array([b'0'], dtype=object),\n",
       "  'logistic': array([ 0.21908242], dtype=float32),\n",
       "  'logits': array([-1.2710216], dtype=float32),\n",
       "  'probabilities': array([ 0.78091758,  0.21908243], dtype=float32)},\n",
       " {'class_ids': array([0], dtype=int64),\n",
       "  'classes': array([b'0'], dtype=object),\n",
       "  'logistic': array([ 0.26805073], dtype=float32),\n",
       "  'logits': array([-1.00453496], dtype=float32),\n",
       "  'probabilities': array([ 0.73194927,  0.26805073], dtype=float32)},\n",
       " {'class_ids': array([1], dtype=int64),\n",
       "  'classes': array([b'1'], dtype=object),\n",
       "  'logistic': array([ 0.74210036], dtype=float32),\n",
       "  'logits': array([ 1.05691385], dtype=float32),\n",
       "  'probabilities': array([ 0.25789967,  0.74210036], dtype=float32)},\n",
       " {'class_ids': array([0], dtype=int64),\n",
       "  'classes': array([b'0'], dtype=object),\n",
       "  'logistic': array([ 0.17846194], dtype=float32),\n",
       "  'logits': array([-1.5268029], dtype=float32),\n",
       "  'probabilities': array([ 0.82153803,  0.17846194], dtype=float32)},\n",
       " {'class_ids': array([0], dtype=int64),\n",
       "  'classes': array([b'0'], dtype=object),\n",
       "  'logistic': array([ 0.1274282], dtype=float32),\n",
       "  'logits': array([-1.9238919], dtype=float32),\n",
       "  'probabilities': array([ 0.87257183,  0.1274282 ], dtype=float32)},\n",
       " {'class_ids': array([1], dtype=int64),\n",
       "  'classes': array([b'1'], dtype=object),\n",
       "  'logistic': array([ 0.59299231], dtype=float32),\n",
       "  'logits': array([ 0.37634933], dtype=float32),\n",
       "  'probabilities': array([ 0.40700769,  0.59299231], dtype=float32)},\n",
       " {'class_ids': array([0], dtype=int64),\n",
       "  'classes': array([b'0'], dtype=object),\n",
       "  'logistic': array([ 0.42164695], dtype=float32),\n",
       "  'logits': array([-0.31601608], dtype=float32),\n",
       "  'probabilities': array([ 0.57835305,  0.42164698], dtype=float32)},\n",
       " {'class_ids': array([1], dtype=int64),\n",
       "  'classes': array([b'1'], dtype=object),\n",
       "  'logistic': array([ 0.82725149], dtype=float32),\n",
       "  'logits': array([ 1.56627154], dtype=float32),\n",
       "  'probabilities': array([ 0.17274857,  0.82725149], dtype=float32)},\n",
       " {'class_ids': array([1], dtype=int64),\n",
       "  'classes': array([b'1'], dtype=object),\n",
       "  'logistic': array([ 0.60289901], dtype=float32),\n",
       "  'logits': array([ 0.41755903], dtype=float32),\n",
       "  'probabilities': array([ 0.39710101,  0.60289901], dtype=float32)},\n",
       " {'class_ids': array([0], dtype=int64),\n",
       "  'classes': array([b'0'], dtype=object),\n",
       "  'logistic': array([ 0.12583654], dtype=float32),\n",
       "  'logits': array([-1.93828368], dtype=float32),\n",
       "  'probabilities': array([ 0.87416345,  0.12583654], dtype=float32)},\n",
       " {'class_ids': array([1], dtype=int64),\n",
       "  'classes': array([b'1'], dtype=object),\n",
       "  'logistic': array([ 0.58336794], dtype=float32),\n",
       "  'logits': array([ 0.33661449], dtype=float32),\n",
       "  'probabilities': array([ 0.41663212,  0.58336794], dtype=float32)}]"
      ]
     },
     "execution_count": 36,
     "metadata": {},
     "output_type": "execute_result"
    }
   ],
   "source": [
    "my_pred"
   ]
  },
  {
   "cell_type": "markdown",
   "metadata": {},
   "source": [
    "## Dense Neural Network Classifier"
   ]
  },
  {
   "cell_type": "code",
   "execution_count": 37,
   "metadata": {},
   "outputs": [
    {
     "name": "stdout",
     "output_type": "stream",
     "text": [
      "INFO:tensorflow:Using default config.\n"
     ]
    },
    {
     "name": "stderr",
     "output_type": "stream",
     "text": [
      "INFO:tensorflow:Using default config.\n"
     ]
    },
    {
     "name": "stdout",
     "output_type": "stream",
     "text": [
      "WARNING:tensorflow:Using temporary folder as model directory: C:\\Users\\HAREKR~1\\AppData\\Local\\Temp\\tmpee6pxg0z\n"
     ]
    },
    {
     "name": "stderr",
     "output_type": "stream",
     "text": [
      "WARNING:tensorflow:Using temporary folder as model directory: C:\\Users\\HAREKR~1\\AppData\\Local\\Temp\\tmpee6pxg0z\n"
     ]
    },
    {
     "name": "stdout",
     "output_type": "stream",
     "text": [
      "INFO:tensorflow:Using config: {'_tf_random_seed': 1, '_save_summary_steps': 100, '_keep_checkpoint_max': 5, '_log_step_count_steps': 100, '_session_config': None, '_model_dir': 'C:\\\\Users\\\\HAREKR~1\\\\AppData\\\\Local\\\\Temp\\\\tmpee6pxg0z', '_keep_checkpoint_every_n_hours': 10000, '_save_checkpoints_secs': 600, '_save_checkpoints_steps': None}\n"
     ]
    },
    {
     "name": "stderr",
     "output_type": "stream",
     "text": [
      "INFO:tensorflow:Using config: {'_tf_random_seed': 1, '_save_summary_steps': 100, '_keep_checkpoint_max': 5, '_log_step_count_steps': 100, '_session_config': None, '_model_dir': 'C:\\\\Users\\\\HAREKR~1\\\\AppData\\\\Local\\\\Temp\\\\tmpee6pxg0z', '_keep_checkpoint_every_n_hours': 10000, '_save_checkpoints_secs': 600, '_save_checkpoints_steps': None}\n"
     ]
    }
   ],
   "source": [
    "# DNN Classifier Model\n",
    "# hidden_units: Neurons per layer.\n",
    "# ex. [10,10,10]: 3 hidden Layers with 10 neurons each\n",
    "dnn_model = tf.estimator.DNNClassifier(hidden_units=[10,10,10], feature_columns=feat_cols, n_classes=2)"
   ]
  },
  {
   "cell_type": "code",
   "execution_count": 39,
   "metadata": {},
   "outputs": [],
   "source": [
    "# Pass Vocabulary List to Embedded Cols\n",
    "embedded_group_col = tf.feature_column.embedding_column(assigned_group, dimension=4)"
   ]
  },
  {
   "cell_type": "code",
   "execution_count": 40,
   "metadata": {},
   "outputs": [],
   "source": [
    "# Feature Columns\n",
    "feat_cols = [num_preg, glucose_conc, blood_pressure, triceps, insulin, bmi, pedigree, embedded_group_col, age_bucket]"
   ]
  },
  {
   "cell_type": "code",
   "execution_count": 42,
   "metadata": {},
   "outputs": [],
   "source": [
    "input_func = tf.estimator.inputs.pandas_input_fn(x= X_train, y= y_train, batch_size=10, num_epochs=1000, shuffle=True)"
   ]
  },
  {
   "cell_type": "code",
   "execution_count": 43,
   "metadata": {},
   "outputs": [
    {
     "name": "stdout",
     "output_type": "stream",
     "text": [
      "INFO:tensorflow:Using default config.\n"
     ]
    },
    {
     "name": "stderr",
     "output_type": "stream",
     "text": [
      "INFO:tensorflow:Using default config.\n"
     ]
    },
    {
     "name": "stdout",
     "output_type": "stream",
     "text": [
      "WARNING:tensorflow:Using temporary folder as model directory: C:\\Users\\HAREKR~1\\AppData\\Local\\Temp\\tmp1v_6n1_j\n"
     ]
    },
    {
     "name": "stderr",
     "output_type": "stream",
     "text": [
      "WARNING:tensorflow:Using temporary folder as model directory: C:\\Users\\HAREKR~1\\AppData\\Local\\Temp\\tmp1v_6n1_j\n"
     ]
    },
    {
     "name": "stdout",
     "output_type": "stream",
     "text": [
      "INFO:tensorflow:Using config: {'_tf_random_seed': 1, '_save_summary_steps': 100, '_keep_checkpoint_max': 5, '_log_step_count_steps': 100, '_session_config': None, '_model_dir': 'C:\\\\Users\\\\HAREKR~1\\\\AppData\\\\Local\\\\Temp\\\\tmp1v_6n1_j', '_keep_checkpoint_every_n_hours': 10000, '_save_checkpoints_secs': 600, '_save_checkpoints_steps': None}\n"
     ]
    },
    {
     "name": "stderr",
     "output_type": "stream",
     "text": [
      "INFO:tensorflow:Using config: {'_tf_random_seed': 1, '_save_summary_steps': 100, '_keep_checkpoint_max': 5, '_log_step_count_steps': 100, '_session_config': None, '_model_dir': 'C:\\\\Users\\\\HAREKR~1\\\\AppData\\\\Local\\\\Temp\\\\tmp1v_6n1_j', '_keep_checkpoint_every_n_hours': 10000, '_save_checkpoints_secs': 600, '_save_checkpoints_steps': None}\n"
     ]
    }
   ],
   "source": [
    "dnn_model = tf.estimator.DNNClassifier(hidden_units=[10,10,10], feature_columns=feat_cols, n_classes=2)"
   ]
  },
  {
   "cell_type": "code",
   "execution_count": 44,
   "metadata": {},
   "outputs": [
    {
     "name": "stdout",
     "output_type": "stream",
     "text": [
      "INFO:tensorflow:Create CheckpointSaverHook.\n"
     ]
    },
    {
     "name": "stderr",
     "output_type": "stream",
     "text": [
      "INFO:tensorflow:Create CheckpointSaverHook.\n"
     ]
    },
    {
     "name": "stdout",
     "output_type": "stream",
     "text": [
      "INFO:tensorflow:Saving checkpoints for 1 into C:\\Users\\HAREKR~1\\AppData\\Local\\Temp\\tmp1v_6n1_j\\model.ckpt.\n"
     ]
    },
    {
     "name": "stderr",
     "output_type": "stream",
     "text": [
      "INFO:tensorflow:Saving checkpoints for 1 into C:\\Users\\HAREKR~1\\AppData\\Local\\Temp\\tmp1v_6n1_j\\model.ckpt.\n"
     ]
    },
    {
     "name": "stdout",
     "output_type": "stream",
     "text": [
      "INFO:tensorflow:loss = 7.7282, step = 1\n"
     ]
    },
    {
     "name": "stderr",
     "output_type": "stream",
     "text": [
      "INFO:tensorflow:loss = 7.7282, step = 1\n"
     ]
    },
    {
     "name": "stdout",
     "output_type": "stream",
     "text": [
      "INFO:tensorflow:global_step/sec: 209.935\n"
     ]
    },
    {
     "name": "stderr",
     "output_type": "stream",
     "text": [
      "INFO:tensorflow:global_step/sec: 209.935\n"
     ]
    },
    {
     "name": "stdout",
     "output_type": "stream",
     "text": [
      "INFO:tensorflow:loss = 3.94571, step = 101 (0.484 sec)\n"
     ]
    },
    {
     "name": "stderr",
     "output_type": "stream",
     "text": [
      "INFO:tensorflow:loss = 3.94571, step = 101 (0.484 sec)\n"
     ]
    },
    {
     "name": "stdout",
     "output_type": "stream",
     "text": [
      "INFO:tensorflow:global_step/sec: 275.286\n"
     ]
    },
    {
     "name": "stderr",
     "output_type": "stream",
     "text": [
      "INFO:tensorflow:global_step/sec: 275.286\n"
     ]
    },
    {
     "name": "stdout",
     "output_type": "stream",
     "text": [
      "INFO:tensorflow:loss = 6.26834, step = 201 (0.373 sec)\n"
     ]
    },
    {
     "name": "stderr",
     "output_type": "stream",
     "text": [
      "INFO:tensorflow:loss = 6.26834, step = 201 (0.373 sec)\n"
     ]
    },
    {
     "name": "stdout",
     "output_type": "stream",
     "text": [
      "INFO:tensorflow:global_step/sec: 237.926\n"
     ]
    },
    {
     "name": "stderr",
     "output_type": "stream",
     "text": [
      "INFO:tensorflow:global_step/sec: 237.926\n"
     ]
    },
    {
     "name": "stdout",
     "output_type": "stream",
     "text": [
      "INFO:tensorflow:loss = 6.25217, step = 301 (0.409 sec)\n"
     ]
    },
    {
     "name": "stderr",
     "output_type": "stream",
     "text": [
      "INFO:tensorflow:loss = 6.25217, step = 301 (0.409 sec)\n"
     ]
    },
    {
     "name": "stdout",
     "output_type": "stream",
     "text": [
      "INFO:tensorflow:global_step/sec: 249.51\n"
     ]
    },
    {
     "name": "stderr",
     "output_type": "stream",
     "text": [
      "INFO:tensorflow:global_step/sec: 249.51\n"
     ]
    },
    {
     "name": "stdout",
     "output_type": "stream",
     "text": [
      "INFO:tensorflow:loss = 5.05405, step = 401 (0.404 sec)\n"
     ]
    },
    {
     "name": "stderr",
     "output_type": "stream",
     "text": [
      "INFO:tensorflow:loss = 5.05405, step = 401 (0.404 sec)\n"
     ]
    },
    {
     "name": "stdout",
     "output_type": "stream",
     "text": [
      "INFO:tensorflow:global_step/sec: 249.822\n"
     ]
    },
    {
     "name": "stderr",
     "output_type": "stream",
     "text": [
      "INFO:tensorflow:global_step/sec: 249.822\n"
     ]
    },
    {
     "name": "stdout",
     "output_type": "stream",
     "text": [
      "INFO:tensorflow:loss = 4.4499, step = 501 (0.398 sec)\n"
     ]
    },
    {
     "name": "stderr",
     "output_type": "stream",
     "text": [
      "INFO:tensorflow:loss = 4.4499, step = 501 (0.398 sec)\n"
     ]
    },
    {
     "name": "stdout",
     "output_type": "stream",
     "text": [
      "INFO:tensorflow:global_step/sec: 281.49\n"
     ]
    },
    {
     "name": "stderr",
     "output_type": "stream",
     "text": [
      "INFO:tensorflow:global_step/sec: 281.49\n"
     ]
    },
    {
     "name": "stdout",
     "output_type": "stream",
     "text": [
      "INFO:tensorflow:loss = 4.64169, step = 601 (0.358 sec)\n"
     ]
    },
    {
     "name": "stderr",
     "output_type": "stream",
     "text": [
      "INFO:tensorflow:loss = 4.64169, step = 601 (0.358 sec)\n"
     ]
    },
    {
     "name": "stdout",
     "output_type": "stream",
     "text": [
      "INFO:tensorflow:global_step/sec: 227.628\n"
     ]
    },
    {
     "name": "stderr",
     "output_type": "stream",
     "text": [
      "INFO:tensorflow:global_step/sec: 227.628\n"
     ]
    },
    {
     "name": "stdout",
     "output_type": "stream",
     "text": [
      "INFO:tensorflow:loss = 6.13455, step = 701 (0.436 sec)\n"
     ]
    },
    {
     "name": "stderr",
     "output_type": "stream",
     "text": [
      "INFO:tensorflow:loss = 6.13455, step = 701 (0.436 sec)\n"
     ]
    },
    {
     "name": "stdout",
     "output_type": "stream",
     "text": [
      "INFO:tensorflow:global_step/sec: 280.699\n"
     ]
    },
    {
     "name": "stderr",
     "output_type": "stream",
     "text": [
      "INFO:tensorflow:global_step/sec: 280.699\n"
     ]
    },
    {
     "name": "stdout",
     "output_type": "stream",
     "text": [
      "INFO:tensorflow:loss = 3.13435, step = 801 (0.359 sec)\n"
     ]
    },
    {
     "name": "stderr",
     "output_type": "stream",
     "text": [
      "INFO:tensorflow:loss = 3.13435, step = 801 (0.359 sec)\n"
     ]
    },
    {
     "name": "stdout",
     "output_type": "stream",
     "text": [
      "INFO:tensorflow:global_step/sec: 219.142\n"
     ]
    },
    {
     "name": "stderr",
     "output_type": "stream",
     "text": [
      "INFO:tensorflow:global_step/sec: 219.142\n"
     ]
    },
    {
     "name": "stdout",
     "output_type": "stream",
     "text": [
      "INFO:tensorflow:loss = 7.89199, step = 901 (0.463 sec)\n"
     ]
    },
    {
     "name": "stderr",
     "output_type": "stream",
     "text": [
      "INFO:tensorflow:loss = 7.89199, step = 901 (0.463 sec)\n"
     ]
    },
    {
     "name": "stdout",
     "output_type": "stream",
     "text": [
      "INFO:tensorflow:Saving checkpoints for 1000 into C:\\Users\\HAREKR~1\\AppData\\Local\\Temp\\tmp1v_6n1_j\\model.ckpt.\n"
     ]
    },
    {
     "name": "stderr",
     "output_type": "stream",
     "text": [
      "INFO:tensorflow:Saving checkpoints for 1000 into C:\\Users\\HAREKR~1\\AppData\\Local\\Temp\\tmp1v_6n1_j\\model.ckpt.\n"
     ]
    },
    {
     "name": "stdout",
     "output_type": "stream",
     "text": [
      "INFO:tensorflow:Loss for final step: 5.23004.\n"
     ]
    },
    {
     "name": "stderr",
     "output_type": "stream",
     "text": [
      "INFO:tensorflow:Loss for final step: 5.23004.\n"
     ]
    },
    {
     "data": {
      "text/plain": [
       "<tensorflow.python.estimator.canned.dnn.DNNClassifier at 0x17cc7d8d320>"
      ]
     },
     "execution_count": 44,
     "metadata": {},
     "output_type": "execute_result"
    }
   ],
   "source": [
    "dnn_model.train(input_fn=input_func, steps=1000)"
   ]
  },
  {
   "cell_type": "code",
   "execution_count": 45,
   "metadata": {},
   "outputs": [],
   "source": [
    "eval_input_func = tf.estimator.inputs.pandas_input_fn(x=X_test, y=y_test, batch_size=10, num_epochs=1, shuffle=False)"
   ]
  },
  {
   "cell_type": "code",
   "execution_count": 46,
   "metadata": {},
   "outputs": [
    {
     "name": "stdout",
     "output_type": "stream",
     "text": [
      "WARNING:tensorflow:Casting <dtype: 'float32'> labels to bool.\n"
     ]
    },
    {
     "name": "stderr",
     "output_type": "stream",
     "text": [
      "WARNING:tensorflow:Casting <dtype: 'float32'> labels to bool.\n"
     ]
    },
    {
     "name": "stdout",
     "output_type": "stream",
     "text": [
      "WARNING:tensorflow:Casting <dtype: 'float32'> labels to bool.\n"
     ]
    },
    {
     "name": "stderr",
     "output_type": "stream",
     "text": [
      "WARNING:tensorflow:Casting <dtype: 'float32'> labels to bool.\n"
     ]
    },
    {
     "name": "stdout",
     "output_type": "stream",
     "text": [
      "INFO:tensorflow:Starting evaluation at 2017-12-27-22:04:00\n"
     ]
    },
    {
     "name": "stderr",
     "output_type": "stream",
     "text": [
      "INFO:tensorflow:Starting evaluation at 2017-12-27-22:04:00\n"
     ]
    },
    {
     "name": "stdout",
     "output_type": "stream",
     "text": [
      "INFO:tensorflow:Restoring parameters from C:\\Users\\HAREKR~1\\AppData\\Local\\Temp\\tmp1v_6n1_j\\model.ckpt-1000\n"
     ]
    },
    {
     "name": "stderr",
     "output_type": "stream",
     "text": [
      "INFO:tensorflow:Restoring parameters from C:\\Users\\HAREKR~1\\AppData\\Local\\Temp\\tmp1v_6n1_j\\model.ckpt-1000\n"
     ]
    },
    {
     "name": "stdout",
     "output_type": "stream",
     "text": [
      "INFO:tensorflow:Finished evaluation at 2017-12-27-22:04:01\n"
     ]
    },
    {
     "name": "stderr",
     "output_type": "stream",
     "text": [
      "INFO:tensorflow:Finished evaluation at 2017-12-27-22:04:01\n"
     ]
    },
    {
     "name": "stdout",
     "output_type": "stream",
     "text": [
      "INFO:tensorflow:Saving dict for global step 1000: accuracy = 0.74026, accuracy_baseline = 0.649351, auc = 0.835679, auc_precision_recall = 0.70461, average_loss = 0.481773, global_step = 1000, label/mean = 0.350649, loss = 4.63706, prediction/mean = 0.350073\n"
     ]
    },
    {
     "name": "stderr",
     "output_type": "stream",
     "text": [
      "INFO:tensorflow:Saving dict for global step 1000: accuracy = 0.74026, accuracy_baseline = 0.649351, auc = 0.835679, auc_precision_recall = 0.70461, average_loss = 0.481773, global_step = 1000, label/mean = 0.350649, loss = 4.63706, prediction/mean = 0.350073\n"
     ]
    },
    {
     "data": {
      "text/plain": [
       "{'accuracy': 0.74025977,\n",
       " 'accuracy_baseline': 0.64935064,\n",
       " 'auc': 0.83567905,\n",
       " 'auc_precision_recall': 0.70460963,\n",
       " 'average_loss': 0.48177296,\n",
       " 'global_step': 1000,\n",
       " 'label/mean': 0.35064936,\n",
       " 'loss': 4.6370645,\n",
       " 'prediction/mean': 0.35007262}"
      ]
     },
     "execution_count": 46,
     "metadata": {},
     "output_type": "execute_result"
    }
   ],
   "source": [
    "dnn_model.evaluate(eval_input_func)"
   ]
  },
  {
   "cell_type": "code",
   "execution_count": null,
   "metadata": {},
   "outputs": [],
   "source": []
  }
 ],
 "metadata": {
  "kernelspec": {
   "display_name": "Python 3",
   "language": "python",
   "name": "python3"
  },
  "language_info": {
   "codemirror_mode": {
    "name": "ipython",
    "version": 3
   },
   "file_extension": ".py",
   "mimetype": "text/x-python",
   "name": "python",
   "nbconvert_exporter": "python",
   "pygments_lexer": "ipython3",
   "version": "3.5.3"
  }
 },
 "nbformat": 4,
 "nbformat_minor": 2
}
