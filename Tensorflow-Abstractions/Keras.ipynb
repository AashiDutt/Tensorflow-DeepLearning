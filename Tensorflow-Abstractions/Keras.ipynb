{
 "cells": [
  {
   "cell_type": "code",
   "execution_count": 1,
   "metadata": {},
   "outputs": [],
   "source": [
    "# Load Dataset\n",
    "from sklearn.datasets import load_wine"
   ]
  },
  {
   "cell_type": "code",
   "execution_count": 2,
   "metadata": {},
   "outputs": [],
   "source": [
    "wine_data = load_wine()"
   ]
  },
  {
   "cell_type": "code",
   "execution_count": 3,
   "metadata": {},
   "outputs": [
    {
     "data": {
      "text/plain": [
       "sklearn.utils.Bunch"
      ]
     },
     "execution_count": 3,
     "metadata": {},
     "output_type": "execute_result"
    }
   ],
   "source": [
    "type(wine_data)"
   ]
  },
  {
   "cell_type": "code",
   "execution_count": 4,
   "metadata": {},
   "outputs": [
    {
     "data": {
      "text/plain": [
       "dict_keys(['target_names', 'target', 'DESCR', 'feature_names', 'data'])"
      ]
     },
     "execution_count": 4,
     "metadata": {},
     "output_type": "execute_result"
    }
   ],
   "source": [
    "wine_data.keys()"
   ]
  },
  {
   "cell_type": "code",
   "execution_count": 5,
   "metadata": {},
   "outputs": [
    {
     "name": "stdout",
     "output_type": "stream",
     "text": [
      "Wine Data Database\n",
      "====================\n",
      "\n",
      "Notes\n",
      "-----\n",
      "Data Set Characteristics:\n",
      "    :Number of Instances: 178 (50 in each of three classes)\n",
      "    :Number of Attributes: 13 numeric, predictive attributes and the class\n",
      "    :Attribute Information:\n",
      " \t\t- 1) Alcohol\n",
      " \t\t- 2) Malic acid\n",
      " \t\t- 3) Ash\n",
      "\t\t- 4) Alcalinity of ash  \n",
      " \t\t- 5) Magnesium\n",
      "\t\t- 6) Total phenols\n",
      " \t\t- 7) Flavanoids\n",
      " \t\t- 8) Nonflavanoid phenols\n",
      " \t\t- 9) Proanthocyanins\n",
      "\t\t- 10)Color intensity\n",
      " \t\t- 11)Hue\n",
      " \t\t- 12)OD280/OD315 of diluted wines\n",
      " \t\t- 13)Proline\n",
      "        \t- class:\n",
      "                - class_0\n",
      "                - class_1\n",
      "                - class_2\n",
      "\t\t\n",
      "    :Summary Statistics:\n",
      "    \n",
      "    ============================= ==== ===== ======= =====\n",
      "                                   Min   Max   Mean     SD\n",
      "    ============================= ==== ===== ======= =====\n",
      "    Alcohol:                      11.0  14.8    13.0   0.8\n",
      "    Malic Acid:                   0.74  5.80    2.34  1.12\n",
      "    Ash:                          1.36  3.23    2.36  0.27\n",
      "    Alcalinity of Ash:            10.6  30.0    19.5   3.3\n",
      "    Magnesium:                    70.0 162.0    99.7  14.3\n",
      "    Total Phenols:                0.98  3.88    2.29  0.63\n",
      "    Flavanoids:                   0.34  5.08    2.03  1.00\n",
      "    Nonflavanoid Phenols:         0.13  0.66    0.36  0.12\n",
      "    Proanthocyanins:              0.41  3.58    1.59  0.57\n",
      "    Colour Intensity:              1.3  13.0     5.1   2.3\n",
      "    Hue:                          0.48  1.71    0.96  0.23\n",
      "    OD280/OD315 of diluted wines: 1.27  4.00    2.61  0.71\n",
      "    Proline:                       278  1680     746   315\n",
      "    ============================= ==== ===== ======= =====\n",
      "\n",
      "    :Missing Attribute Values: None\n",
      "    :Class Distribution: class_0 (59), class_1 (71), class_2 (48)\n",
      "    :Creator: R.A. Fisher\n",
      "    :Donor: Michael Marshall (MARSHALL%PLU@io.arc.nasa.gov)\n",
      "    :Date: July, 1988\n",
      "\n",
      "This is a copy of UCI ML Wine recognition datasets.\n",
      "https://archive.ics.uci.edu/ml/machine-learning-databases/wine/wine.data\n",
      "\n",
      "The data is the results of a chemical analysis of wines grown in the same\n",
      "region in Italy by three different cultivators. There are thirteen different\n",
      "measurements taken for different constituents found in the three types of\n",
      "wine.\n",
      "\n",
      "Original Owners: \n",
      "\n",
      "Forina, M. et al, PARVUS - \n",
      "An Extendible Package for Data Exploration, Classification and Correlation. \n",
      "Institute of Pharmaceutical and Food Analysis and Technologies,\n",
      "Via Brigata Salerno, 16147 Genoa, Italy.\n",
      "\n",
      "Citation:\n",
      "\n",
      "Lichman, M. (2013). UCI Machine Learning Repository\n",
      "[http://archive.ics.uci.edu/ml]. Irvine, CA: University of California,\n",
      "School of Information and Computer Science. \n",
      "\n",
      "References\n",
      "----------\n",
      "(1) \n",
      "S. Aeberhard, D. Coomans and O. de Vel, \n",
      "Comparison of Classifiers in High Dimensional Settings, \n",
      "Tech. Rep. no. 92-02, (1992), Dept. of Computer Science and Dept. of \n",
      "Mathematics and Statistics, James Cook University of North Queensland. \n",
      "(Also submitted to Technometrics). \n",
      "\n",
      "The data was used with many others for comparing various \n",
      "classifiers. The classes are separable, though only RDA \n",
      "has achieved 100% correct classification. \n",
      "(RDA : 100%, QDA 99.4%, LDA 98.9%, 1NN 96.1% (z-transformed data)) \n",
      "(All results using the leave-one-out technique) \n",
      "\n",
      "(2) \n",
      "S. Aeberhard, D. Coomans and O. de Vel, \n",
      "\"THE CLASSIFICATION PERFORMANCE OF RDA\" \n",
      "Tech. Rep. no. 92-01, (1992), Dept. of Computer Science and Dept. of \n",
      "Mathematics and Statistics, James Cook University of North Queensland. \n",
      "(Also submitted to Journal of Chemometrics). \n",
      "\n"
     ]
    }
   ],
   "source": [
    "print(wine_data['DESCR'])"
   ]
  },
  {
   "cell_type": "code",
   "execution_count": 6,
   "metadata": {},
   "outputs": [],
   "source": [
    "feat_data = wine_data['data']"
   ]
  },
  {
   "cell_type": "code",
   "execution_count": 7,
   "metadata": {},
   "outputs": [],
   "source": [
    "labels = wine_data['target']"
   ]
  },
  {
   "cell_type": "code",
   "execution_count": 8,
   "metadata": {},
   "outputs": [],
   "source": [
    "from sklearn.model_selection import train_test_split"
   ]
  },
  {
   "cell_type": "code",
   "execution_count": 9,
   "metadata": {},
   "outputs": [],
   "source": [
    "X_train, X_test, y_train, y_test = train_test_split(feat_data, labels, test_size=0.3, random_state=0)"
   ]
  },
  {
   "cell_type": "code",
   "execution_count": 10,
   "metadata": {},
   "outputs": [],
   "source": [
    "from sklearn.preprocessing import MinMaxScaler"
   ]
  },
  {
   "cell_type": "code",
   "execution_count": 11,
   "metadata": {},
   "outputs": [],
   "source": [
    "scaler = MinMaxScaler()"
   ]
  },
  {
   "cell_type": "code",
   "execution_count": 12,
   "metadata": {},
   "outputs": [],
   "source": [
    "scaled_x_train = scaler.fit_transform(X_train)"
   ]
  },
  {
   "cell_type": "code",
   "execution_count": 13,
   "metadata": {},
   "outputs": [],
   "source": [
    "scaled_x_test = scaler.transform(X_test)"
   ]
  },
  {
   "cell_type": "markdown",
   "metadata": {},
   "source": [
    "## Using Keras API"
   ]
  },
  {
   "cell_type": "code",
   "execution_count": 14,
   "metadata": {},
   "outputs": [
    {
     "name": "stderr",
     "output_type": "stream",
     "text": [
      "c:\\users\\hare krishna\\appdata\\local\\programs\\python\\python35\\lib\\site-packages\\h5py\\__init__.py:34: FutureWarning: Conversion of the second argument of issubdtype from `float` to `np.floating` is deprecated. In future, it will be treated as `np.float64 == np.dtype(float).type`.\n",
      "  from ._conv import register_converters as _register_converters\n"
     ]
    }
   ],
   "source": [
    "# Import Dependencies\n",
    "import tensorflow as tf\n",
    "from tensorflow.contrib.keras import models, layers\n",
    "from tensorflow.contrib.keras import losses, optimizers, metrics, activations"
   ]
  },
  {
   "cell_type": "code",
   "execution_count": 15,
   "metadata": {},
   "outputs": [],
   "source": [
    "# Add a Sequnetial Model\n",
    "# as The model is a sequence of layers\n",
    "dnn_model = models.Sequential()"
   ]
  },
  {
   "cell_type": "code",
   "execution_count": 16,
   "metadata": {},
   "outputs": [],
   "source": [
    "# Layer-1\n",
    "# Define the Number of Input Units in this layer\n",
    "# If it's the first layer, define the Inputs as well\n",
    "dnn_model.add(layers.Dense(units=13, input_dim=13, activation='relu'))"
   ]
  },
  {
   "cell_type": "code",
   "execution_count": 17,
   "metadata": {},
   "outputs": [],
   "source": [
    "# Layer-2\n",
    "dnn_model.add(layers.Dense(units=13, activation='relu'))"
   ]
  },
  {
   "cell_type": "code",
   "execution_count": 18,
   "metadata": {},
   "outputs": [],
   "source": [
    "# Layer-3\n",
    "dnn_model.add(layers.Dense(units=13, activation='relu'))"
   ]
  },
  {
   "cell_type": "code",
   "execution_count": 19,
   "metadata": {},
   "outputs": [],
   "source": [
    "# Output Layer\n",
    "# Num Classes = 3\n",
    "dnn_model.add(layers.Dense(units=3, activation='softmax'))"
   ]
  },
  {
   "cell_type": "code",
   "execution_count": 20,
   "metadata": {},
   "outputs": [
    {
     "name": "stdout",
     "output_type": "stream",
     "text": [
      "WARNING:tensorflow:From c:\\users\\hare krishna\\appdata\\local\\programs\\python\\python35\\lib\\site-packages\\tensorflow\\python\\keras\\_impl\\keras\\backend.py:1557: calling reduce_mean (from tensorflow.python.ops.math_ops) with keep_dims is deprecated and will be removed in a future version.\n",
      "Instructions for updating:\n",
      "keep_dims is deprecated, use keepdims instead\n",
      "WARNING:tensorflow:From c:\\users\\hare krishna\\appdata\\local\\programs\\python\\python35\\lib\\site-packages\\tensorflow\\python\\keras\\_impl\\keras\\backend.py:1422: calling reduce_max (from tensorflow.python.ops.math_ops) with keep_dims is deprecated and will be removed in a future version.\n",
      "Instructions for updating:\n",
      "keep_dims is deprecated, use keepdims instead\n"
     ]
    }
   ],
   "source": [
    "# Compile the Model\n",
    "dnn_model.compile(optimizer='adam', loss='sparse_categorical_crossentropy', metrics=['accuracy'])"
   ]
  },
  {
   "cell_type": "code",
   "execution_count": 21,
   "metadata": {},
   "outputs": [
    {
     "name": "stdout",
     "output_type": "stream",
     "text": [
      "Epoch 1/100\n",
      "124/124 [==============================]124/124 [==============================] - 1s 7ms/step - loss: 1.1128 - acc: 0.3629\n",
      "\n",
      "Epoch 2/100\n",
      "124/124 [==============================]124/124 [==============================] - 0s 97us/step - loss: 1.1046 - acc: 0.3790\n",
      "\n",
      "Epoch 3/100\n",
      "124/124 [==============================]124/124 [==============================] - 0s 89us/step - loss: 1.0981 - acc: 0.3871\n",
      "\n",
      "Epoch 4/100\n",
      "124/124 [==============================]124/124 [==============================] - 0s 113us/step - loss: 1.0912 - acc: 0.3952\n",
      "\n",
      "Epoch 5/100\n",
      "124/124 [==============================]124/124 [==============================] - 0s 109us/step - loss: 1.0851 - acc: 0.3952\n",
      "\n",
      "Epoch 6/100\n",
      "124/124 [==============================]124/124 [==============================] - 0s 105us/step - loss: 1.0791 - acc: 0.3952\n",
      "\n",
      "Epoch 7/100\n",
      "124/124 [==============================]124/124 [==============================] - 0s 89us/step - loss: 1.0727 - acc: 0.3952\n",
      "\n",
      "Epoch 8/100\n",
      "124/124 [==============================]124/124 [==============================] - 0s 97us/step - loss: 1.0654 - acc: 0.3952\n",
      "\n",
      "Epoch 9/100\n",
      "124/124 [==============================]124/124 [==============================] - 0s 93us/step - loss: 1.0580 - acc: 0.4032\n",
      "\n",
      "Epoch 10/100\n",
      "124/124 [==============================]124/124 [==============================] - 0s 109us/step - loss: 1.0503 - acc: 0.4597\n",
      "\n",
      "Epoch 11/100\n",
      "124/124 [==============================]124/124 [==============================] - 0s 85us/step - loss: 1.0426 - acc: 0.5161\n",
      "\n",
      "Epoch 12/100\n",
      "124/124 [==============================]124/124 [==============================] - 0s 109us/step - loss: 1.0342 - acc: 0.5565\n",
      "\n",
      "Epoch 13/100\n",
      "124/124 [==============================]124/124 [==============================] - 0s 137us/step - loss: 1.0253 - acc: 0.5968\n",
      "\n",
      "Epoch 14/100\n",
      "124/124 [==============================]124/124 [==============================] - 0s 97us/step - loss: 1.0159 - acc: 0.6532\n",
      "\n",
      "Epoch 15/100\n",
      "124/124 [==============================]124/124 [==============================] - 0s 101us/step - loss: 1.0062 - acc: 0.7097\n",
      "\n",
      "Epoch 16/100\n",
      "124/124 [==============================]124/124 [==============================] - 0s 117us/step - loss: 0.9953 - acc: 0.7500\n",
      "\n",
      "Epoch 17/100\n",
      "124/124 [==============================]124/124 [==============================] - 0s 121us/step - loss: 0.9841 - acc: 0.7742\n",
      "\n",
      "Epoch 18/100\n",
      "124/124 [==============================]124/124 [==============================] - 0s 97us/step - loss: 0.9726 - acc: 0.7823\n",
      "\n",
      "Epoch 19/100\n",
      "124/124 [==============================]124/124 [==============================] - 0s 125us/step - loss: 0.9597 - acc: 0.7984\n",
      "\n",
      "Epoch 20/100\n",
      "124/124 [==============================]124/124 [==============================] - 0s 137us/step - loss: 0.9460 - acc: 0.8065\n",
      "\n",
      "Epoch 21/100\n",
      "124/124 [==============================]124/124 [==============================] - 0s 109us/step - loss: 0.9308 - acc: 0.8145\n",
      "\n",
      "Epoch 22/100\n",
      "124/124 [==============================]124/124 [==============================] - 0s 113us/step - loss: 0.9153 - acc: 0.8226\n",
      "\n",
      "Epoch 23/100\n",
      "124/124 [==============================]124/124 [==============================] - 0s 121us/step - loss: 0.8987 - acc: 0.8387\n",
      "\n",
      "Epoch 24/100\n",
      "124/124 [==============================]124/124 [==============================] - 0s 101us/step - loss: 0.8814 - acc: 0.8629\n",
      "\n",
      "Epoch 25/100\n",
      "124/124 [==============================]124/124 [==============================] - 0s 101us/step - loss: 0.8628 - acc: 0.8952\n",
      "\n",
      "Epoch 26/100\n",
      "124/124 [==============================]124/124 [==============================] - 0s 113us/step - loss: 0.8440 - acc: 0.8710\n",
      "\n",
      "Epoch 27/100\n",
      "124/124 [==============================]124/124 [==============================] - 0s 121us/step - loss: 0.8244 - acc: 0.8871\n",
      "\n",
      "Epoch 28/100\n",
      "124/124 [==============================]124/124 [==============================] - 0s 109us/step - loss: 0.8036 - acc: 0.8790\n",
      "\n",
      "Epoch 29/100\n",
      "124/124 [==============================]124/124 [==============================] - 0s 117us/step - loss: 0.7807 - acc: 0.8952\n",
      "\n",
      "Epoch 30/100\n",
      "124/124 [==============================]124/124 [==============================] - 0s 137us/step - loss: 0.7596 - acc: 0.9113\n",
      "\n",
      "Epoch 31/100\n",
      "124/124 [==============================]124/124 [==============================] - 0s 121us/step - loss: 0.7362 - acc: 0.9113\n",
      "\n",
      "Epoch 32/100\n",
      "124/124 [==============================]124/124 [==============================] - 0s 101us/step - loss: 0.7138 - acc: 0.9113\n",
      "\n",
      "Epoch 33/100\n",
      "124/124 [==============================]124/124 [==============================] - 0s 101us/step - loss: 0.6905 - acc: 0.9194\n",
      "\n",
      "Epoch 34/100\n",
      "124/124 [==============================]124/124 [==============================] - 0s 105us/step - loss: 0.6670 - acc: 0.9032\n",
      "\n",
      "Epoch 35/100\n",
      "124/124 [==============================]124/124 [==============================] - 0s 97us/step - loss: 0.6436 - acc: 0.9032\n",
      "\n",
      "Epoch 36/100\n",
      "124/124 [==============================]124/124 [==============================] - 0s 178us/step - loss: 0.6189 - acc: 0.8952\n",
      "\n",
      "Epoch 37/100\n",
      "124/124 [==============================]124/124 [==============================] - 0s 97us/step - loss: 0.5953 - acc: 0.9032\n",
      "\n",
      "Epoch 38/100\n",
      "124/124 [==============================]124/124 [==============================] - 0s 125us/step - loss: 0.5720 - acc: 0.9274\n",
      "\n",
      "Epoch 39/100\n",
      "124/124 [==============================]124/124 [==============================] - 0s 105us/step - loss: 0.5490 - acc: 0.9194\n",
      "\n",
      "Epoch 40/100\n",
      "124/124 [==============================]124/124 [==============================] - 0s 105us/step - loss: 0.5260 - acc: 0.9194\n",
      "\n",
      "Epoch 41/100\n",
      "124/124 [==============================]124/124 [==============================] - 0s 101us/step - loss: 0.5034 - acc: 0.9194\n",
      "\n",
      "Epoch 42/100\n",
      "124/124 [==============================]124/124 [==============================] - 0s 121us/step - loss: 0.4822 - acc: 0.9274\n",
      "\n",
      "Epoch 43/100\n",
      "124/124 [==============================]124/124 [==============================] - 0s 101us/step - loss: 0.4625 - acc: 0.9274\n",
      "\n",
      "Epoch 44/100\n",
      "124/124 [==============================]124/124 [==============================] - 0s 137us/step - loss: 0.4419 - acc: 0.9274\n",
      "\n",
      "Epoch 45/100\n",
      "124/124 [==============================]124/124 [==============================] - 0s 109us/step - loss: 0.4227 - acc: 0.9355\n",
      "\n",
      "Epoch 46/100\n",
      "124/124 [==============================]124/124 [==============================] - 0s 109us/step - loss: 0.4041 - acc: 0.9435\n",
      "\n",
      "Epoch 47/100\n",
      "124/124 [==============================]124/124 [==============================] - 0s 113us/step - loss: 0.3873 - acc: 0.9355\n",
      "\n",
      "Epoch 48/100\n",
      "124/124 [==============================]124/124 [==============================] - 0s 133us/step - loss: 0.3703 - acc: 0.9355\n",
      "\n",
      "Epoch 49/100\n",
      "124/124 [==============================]124/124 [==============================] - 0s 113us/step - loss: 0.3535 - acc: 0.9355\n",
      "\n",
      "Epoch 50/100\n",
      "124/124 [==============================]124/124 [==============================] - 0s 109us/step - loss: 0.3384 - acc: 0.9516\n",
      "\n",
      "Epoch 51/100\n",
      "124/124 [==============================]124/124 [==============================] - 0s 101us/step - loss: 0.3234 - acc: 0.9516\n",
      "\n",
      "Epoch 52/100\n",
      "124/124 [==============================]124/124 [==============================] - 0s 97us/step - loss: 0.3107 - acc: 0.9597\n",
      "\n",
      "Epoch 53/100\n",
      "124/124 [==============================]124/124 [==============================] - 0s 113us/step - loss: 0.2987 - acc: 0.9839\n",
      "\n",
      "Epoch 54/100\n",
      "124/124 [==============================]124/124 [==============================] - 0s 133us/step - loss: 0.2849 - acc: 0.9839\n",
      "\n",
      "Epoch 55/100\n",
      "124/124 [==============================]124/124 [==============================] - 0s 109us/step - loss: 0.2736 - acc: 0.9839\n",
      "\n",
      "Epoch 56/100\n",
      "124/124 [==============================]124/124 [==============================] - 0s 121us/step - loss: 0.2621 - acc: 0.9839\n",
      "\n",
      "Epoch 57/100\n",
      "124/124 [==============================]124/124 [==============================] - 0s 161us/step - loss: 0.2514 - acc: 0.9839\n",
      "\n",
      "Epoch 58/100\n",
      "124/124 [==============================]124/124 [==============================] - 0s 125us/step - loss: 0.2412 - acc: 0.9839\n",
      "\n",
      "Epoch 59/100\n"
     ]
    },
    {
     "name": "stdout",
     "output_type": "stream",
     "text": [
      "124/124 [==============================]124/124 [==============================] - 0s 145us/step - loss: 0.2325 - acc: 0.9839\n",
      "\n",
      "Epoch 60/100\n",
      "124/124 [==============================]124/124 [==============================] - 0s 113us/step - loss: 0.2220 - acc: 0.9839\n",
      "\n",
      "Epoch 61/100\n",
      "124/124 [==============================]124/124 [==============================] - 0s 113us/step - loss: 0.2131 - acc: 0.9839\n",
      "\n",
      "Epoch 62/100\n",
      "124/124 [==============================] 32/124 [======>.......................] - ETA: 0s - loss: 0.2115 - acc: 1.000124/124 [==============================] - 0s 137us/step - loss: 0.2054 - acc: 0.9839\n",
      "\n",
      "Epoch 63/100\n",
      "124/124 [==============================]124/124 [==============================] - 0s 121us/step - loss: 0.1972 - acc: 0.9839\n",
      "\n",
      "Epoch 64/100\n",
      "124/124 [==============================]124/124 [==============================] - 0s 145us/step - loss: 0.1894 - acc: 0.9839\n",
      "\n",
      "Epoch 65/100\n",
      "124/124 [==============================]124/124 [==============================] - 0s 117us/step - loss: 0.1819 - acc: 0.9839\n",
      "\n",
      "Epoch 66/100\n",
      "124/124 [==============================]124/124 [==============================] - 0s 101us/step - loss: 0.1751 - acc: 0.9839\n",
      "\n",
      "Epoch 67/100\n",
      "124/124 [==============================]124/124 [==============================] - 0s 109us/step - loss: 0.1683 - acc: 0.9839\n",
      "\n",
      "Epoch 68/100\n",
      "124/124 [==============================]124/124 [==============================] - 0s 105us/step - loss: 0.1627 - acc: 0.9839\n",
      "\n",
      "Epoch 69/100\n",
      "124/124 [==============================]124/124 [==============================] - 0s 109us/step - loss: 0.1567 - acc: 0.9839\n",
      "\n",
      "Epoch 70/100\n",
      "124/124 [==============================]124/124 [==============================] - 0s 101us/step - loss: 0.1514 - acc: 0.9839\n",
      "\n",
      "Epoch 71/100\n",
      "124/124 [==============================]124/124 [==============================] - 0s 133us/step - loss: 0.1460 - acc: 0.9839\n",
      "\n",
      "Epoch 72/100\n",
      "124/124 [==============================]124/124 [==============================] - 0s 129us/step - loss: 0.1416 - acc: 0.9839\n",
      "\n",
      "Epoch 73/100\n",
      "124/124 [==============================]124/124 [==============================] - 0s 97us/step - loss: 0.1376 - acc: 0.9839\n",
      "\n",
      "Epoch 74/100\n",
      "124/124 [==============================]124/124 [==============================] - 0s 97us/step - loss: 0.1326 - acc: 0.9839\n",
      "\n",
      "Epoch 75/100\n",
      "124/124 [==============================]124/124 [==============================] - 0s 129us/step - loss: 0.1290 - acc: 0.9839\n",
      "\n",
      "Epoch 76/100\n",
      "124/124 [==============================]124/124 [==============================] - 0s 109us/step - loss: 0.1249 - acc: 0.9839\n",
      "\n",
      "Epoch 77/100\n",
      "124/124 [==============================]124/124 [==============================] - 0s 101us/step - loss: 0.1208 - acc: 0.9839\n",
      "\n",
      "Epoch 78/100\n",
      "124/124 [==============================]124/124 [==============================] - 0s 113us/step - loss: 0.1173 - acc: 0.9839\n",
      "\n",
      "Epoch 79/100\n",
      "124/124 [==============================]124/124 [==============================] - 0s 157us/step - loss: 0.1137 - acc: 0.9839\n",
      "\n",
      "Epoch 80/100\n",
      "124/124 [==============================]124/124 [==============================] - 0s 109us/step - loss: 0.1119 - acc: 0.9839\n",
      "\n",
      "Epoch 81/100\n",
      "124/124 [==============================]124/124 [==============================] - 0s 101us/step - loss: 0.1082 - acc: 0.9839\n",
      "\n",
      "Epoch 82/100\n",
      "124/124 [==============================]124/124 [==============================] - 0s 101us/step - loss: 0.1049 - acc: 0.9839\n",
      "\n",
      "Epoch 83/100\n",
      "124/124 [==============================]124/124 [==============================] - 0s 105us/step - loss: 0.1021 - acc: 0.9839\n",
      "\n",
      "Epoch 84/100\n",
      "124/124 [==============================]124/124 [==============================] - 0s 105us/step - loss: 0.1000 - acc: 0.9839\n",
      "\n",
      "Epoch 85/100\n",
      "124/124 [==============================]124/124 [==============================] - 0s 186us/step - loss: 0.0971 - acc: 0.9839\n",
      "\n",
      "Epoch 86/100\n",
      "124/124 [==============================]124/124 [==============================] - 0s 117us/step - loss: 0.0943 - acc: 0.9839\n",
      "\n",
      "Epoch 87/100\n",
      "124/124 [==============================]124/124 [==============================] - 0s 89us/step - loss: 0.0925 - acc: 0.9839\n",
      "\n",
      "Epoch 88/100\n",
      "124/124 [==============================]124/124 [==============================] - 0s 93us/step - loss: 0.0909 - acc: 0.9839\n",
      "\n",
      "Epoch 89/100\n",
      "124/124 [==============================]124/124 [==============================] - 0s 141us/step - loss: 0.0880 - acc: 0.9839\n",
      "\n",
      "Epoch 90/100\n",
      "124/124 [==============================]124/124 [==============================] - 0s 113us/step - loss: 0.0863 - acc: 0.9839\n",
      "\n",
      "Epoch 91/100\n",
      "124/124 [==============================]124/124 [==============================] - 0s 121us/step - loss: 0.0846 - acc: 0.9839\n",
      "\n",
      "Epoch 92/100\n",
      "124/124 [==============================]124/124 [==============================] - 0s 109us/step - loss: 0.0829 - acc: 0.9839\n",
      "\n",
      "Epoch 93/100\n",
      "124/124 [==============================]124/124 [==============================] - 0s 101us/step - loss: 0.0802 - acc: 0.9839\n",
      "\n",
      "Epoch 94/100\n",
      "124/124 [==============================]124/124 [==============================] - 0s 105us/step - loss: 0.0785 - acc: 0.9839\n",
      "\n",
      "Epoch 95/100\n",
      "124/124 [==============================]124/124 [==============================] - 0s 109us/step - loss: 0.0768 - acc: 0.9839\n",
      "\n",
      "Epoch 96/100\n",
      "124/124 [==============================]124/124 [==============================] - 0s 117us/step - loss: 0.0752 - acc: 0.9839\n",
      "\n",
      "Epoch 97/100\n",
      "124/124 [==============================]124/124 [==============================] - 0s 105us/step - loss: 0.0741 - acc: 0.9839\n",
      "\n",
      "Epoch 98/100\n",
      "124/124 [==============================]124/124 [==============================] - 0s 113us/step - loss: 0.0720 - acc: 0.9839\n",
      "\n",
      "Epoch 99/100\n",
      "124/124 [==============================]124/124 [==============================] - 0s 105us/step - loss: 0.0710 - acc: 0.9839\n",
      "\n",
      "Epoch 100/100\n",
      "124/124 [==============================]124/124 [==============================] - 0s 133us/step - loss: 0.0694 - acc: 0.9839\n",
      "\n"
     ]
    },
    {
     "data": {
      "text/plain": [
       "<tensorflow.python.keras._impl.keras.callbacks.History at 0x271b4567e10>"
      ]
     },
     "execution_count": 21,
     "metadata": {},
     "output_type": "execute_result"
    }
   ],
   "source": [
    "dnn_model.fit(scaled_x_train, y_train, epochs=100)"
   ]
  },
  {
   "cell_type": "code",
   "execution_count": 22,
   "metadata": {},
   "outputs": [],
   "source": [
    "# Make Predictions\n",
    "predictions = dnn_model.predict_classes(scaled_x_test)"
   ]
  },
  {
   "cell_type": "code",
   "execution_count": 23,
   "metadata": {},
   "outputs": [],
   "source": [
    "from sklearn.metrics import classification_report"
   ]
  },
  {
   "cell_type": "code",
   "execution_count": 24,
   "metadata": {},
   "outputs": [
    {
     "name": "stdout",
     "output_type": "stream",
     "text": [
      "             precision    recall  f1-score   support\n",
      "\n",
      "          0       1.00      0.90      0.95        21\n",
      "          1       0.91      1.00      0.95        20\n",
      "          2       1.00      1.00      1.00        13\n",
      "\n",
      "avg / total       0.97      0.96      0.96        54\n",
      "\n"
     ]
    }
   ],
   "source": [
    "print(classification_report(predictions,y_test))"
   ]
  }
 ],
 "metadata": {
  "kernelspec": {
   "display_name": "Python 3",
   "language": "python",
   "name": "python3"
  },
  "language_info": {
   "codemirror_mode": {
    "name": "ipython",
    "version": 3
   },
   "file_extension": ".py",
   "mimetype": "text/x-python",
   "name": "python",
   "nbconvert_exporter": "python",
   "pygments_lexer": "ipython3",
   "version": "3.5.3"
  }
 },
 "nbformat": 4,
 "nbformat_minor": 2
}
