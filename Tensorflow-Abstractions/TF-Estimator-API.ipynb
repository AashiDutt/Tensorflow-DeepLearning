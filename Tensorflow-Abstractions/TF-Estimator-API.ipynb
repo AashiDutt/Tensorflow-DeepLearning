{
 "cells": [
  {
   "cell_type": "code",
   "execution_count": 1,
   "metadata": {},
   "outputs": [],
   "source": [
    "# Load Dataset\n",
    "from sklearn.datasets import load_wine"
   ]
  },
  {
   "cell_type": "code",
   "execution_count": 2,
   "metadata": {},
   "outputs": [],
   "source": [
    "wine_data = load_wine()"
   ]
  },
  {
   "cell_type": "code",
   "execution_count": 3,
   "metadata": {},
   "outputs": [
    {
     "data": {
      "text/plain": [
       "sklearn.utils.Bunch"
      ]
     },
     "execution_count": 3,
     "metadata": {},
     "output_type": "execute_result"
    }
   ],
   "source": [
    "type(wine_data)"
   ]
  },
  {
   "cell_type": "code",
   "execution_count": 4,
   "metadata": {},
   "outputs": [
    {
     "data": {
      "text/plain": [
       "dict_keys(['feature_names', 'target_names', 'DESCR', 'target', 'data'])"
      ]
     },
     "execution_count": 4,
     "metadata": {},
     "output_type": "execute_result"
    }
   ],
   "source": [
    "wine_data.keys()"
   ]
  },
  {
   "cell_type": "code",
   "execution_count": 5,
   "metadata": {},
   "outputs": [
    {
     "name": "stdout",
     "output_type": "stream",
     "text": [
      "Wine Data Database\n",
      "====================\n",
      "\n",
      "Notes\n",
      "-----\n",
      "Data Set Characteristics:\n",
      "    :Number of Instances: 178 (50 in each of three classes)\n",
      "    :Number of Attributes: 13 numeric, predictive attributes and the class\n",
      "    :Attribute Information:\n",
      " \t\t- 1) Alcohol\n",
      " \t\t- 2) Malic acid\n",
      " \t\t- 3) Ash\n",
      "\t\t- 4) Alcalinity of ash  \n",
      " \t\t- 5) Magnesium\n",
      "\t\t- 6) Total phenols\n",
      " \t\t- 7) Flavanoids\n",
      " \t\t- 8) Nonflavanoid phenols\n",
      " \t\t- 9) Proanthocyanins\n",
      "\t\t- 10)Color intensity\n",
      " \t\t- 11)Hue\n",
      " \t\t- 12)OD280/OD315 of diluted wines\n",
      " \t\t- 13)Proline\n",
      "        \t- class:\n",
      "                - class_0\n",
      "                - class_1\n",
      "                - class_2\n",
      "\t\t\n",
      "    :Summary Statistics:\n",
      "    \n",
      "    ============================= ==== ===== ======= =====\n",
      "                                   Min   Max   Mean     SD\n",
      "    ============================= ==== ===== ======= =====\n",
      "    Alcohol:                      11.0  14.8    13.0   0.8\n",
      "    Malic Acid:                   0.74  5.80    2.34  1.12\n",
      "    Ash:                          1.36  3.23    2.36  0.27\n",
      "    Alcalinity of Ash:            10.6  30.0    19.5   3.3\n",
      "    Magnesium:                    70.0 162.0    99.7  14.3\n",
      "    Total Phenols:                0.98  3.88    2.29  0.63\n",
      "    Flavanoids:                   0.34  5.08    2.03  1.00\n",
      "    Nonflavanoid Phenols:         0.13  0.66    0.36  0.12\n",
      "    Proanthocyanins:              0.41  3.58    1.59  0.57\n",
      "    Colour Intensity:              1.3  13.0     5.1   2.3\n",
      "    Hue:                          0.48  1.71    0.96  0.23\n",
      "    OD280/OD315 of diluted wines: 1.27  4.00    2.61  0.71\n",
      "    Proline:                       278  1680     746   315\n",
      "    ============================= ==== ===== ======= =====\n",
      "\n",
      "    :Missing Attribute Values: None\n",
      "    :Class Distribution: class_0 (59), class_1 (71), class_2 (48)\n",
      "    :Creator: R.A. Fisher\n",
      "    :Donor: Michael Marshall (MARSHALL%PLU@io.arc.nasa.gov)\n",
      "    :Date: July, 1988\n",
      "\n",
      "This is a copy of UCI ML Wine recognition datasets.\n",
      "https://archive.ics.uci.edu/ml/machine-learning-databases/wine/wine.data\n",
      "\n",
      "The data is the results of a chemical analysis of wines grown in the same\n",
      "region in Italy by three different cultivators. There are thirteen different\n",
      "measurements taken for different constituents found in the three types of\n",
      "wine.\n",
      "\n",
      "Original Owners: \n",
      "\n",
      "Forina, M. et al, PARVUS - \n",
      "An Extendible Package for Data Exploration, Classification and Correlation. \n",
      "Institute of Pharmaceutical and Food Analysis and Technologies,\n",
      "Via Brigata Salerno, 16147 Genoa, Italy.\n",
      "\n",
      "Citation:\n",
      "\n",
      "Lichman, M. (2013). UCI Machine Learning Repository\n",
      "[http://archive.ics.uci.edu/ml]. Irvine, CA: University of California,\n",
      "School of Information and Computer Science. \n",
      "\n",
      "References\n",
      "----------\n",
      "(1) \n",
      "S. Aeberhard, D. Coomans and O. de Vel, \n",
      "Comparison of Classifiers in High Dimensional Settings, \n",
      "Tech. Rep. no. 92-02, (1992), Dept. of Computer Science and Dept. of \n",
      "Mathematics and Statistics, James Cook University of North Queensland. \n",
      "(Also submitted to Technometrics). \n",
      "\n",
      "The data was used with many others for comparing various \n",
      "classifiers. The classes are separable, though only RDA \n",
      "has achieved 100% correct classification. \n",
      "(RDA : 100%, QDA 99.4%, LDA 98.9%, 1NN 96.1% (z-transformed data)) \n",
      "(All results using the leave-one-out technique) \n",
      "\n",
      "(2) \n",
      "S. Aeberhard, D. Coomans and O. de Vel, \n",
      "\"THE CLASSIFICATION PERFORMANCE OF RDA\" \n",
      "Tech. Rep. no. 92-01, (1992), Dept. of Computer Science and Dept. of \n",
      "Mathematics and Statistics, James Cook University of North Queensland. \n",
      "(Also submitted to Journal of Chemometrics). \n",
      "\n"
     ]
    }
   ],
   "source": [
    "print(wine_data['DESCR'])"
   ]
  },
  {
   "cell_type": "code",
   "execution_count": 6,
   "metadata": {},
   "outputs": [],
   "source": [
    "feat_data = wine_data['data']"
   ]
  },
  {
   "cell_type": "code",
   "execution_count": 7,
   "metadata": {},
   "outputs": [],
   "source": [
    "labels = wine_data['target']"
   ]
  },
  {
   "cell_type": "code",
   "execution_count": 8,
   "metadata": {},
   "outputs": [],
   "source": [
    "from sklearn.model_selection import train_test_split"
   ]
  },
  {
   "cell_type": "code",
   "execution_count": 9,
   "metadata": {},
   "outputs": [],
   "source": [
    "X_train, X_test, y_train, y_test = train_test_split(feat_data, labels, test_size=0.3, random_state=0)"
   ]
  },
  {
   "cell_type": "code",
   "execution_count": 10,
   "metadata": {},
   "outputs": [],
   "source": [
    "from sklearn.preprocessing import MinMaxScaler"
   ]
  },
  {
   "cell_type": "code",
   "execution_count": 11,
   "metadata": {},
   "outputs": [],
   "source": [
    "scaler = MinMaxScaler()"
   ]
  },
  {
   "cell_type": "code",
   "execution_count": 12,
   "metadata": {},
   "outputs": [],
   "source": [
    "scaled_x_train = scaler.fit_transform(X_train)"
   ]
  },
  {
   "cell_type": "code",
   "execution_count": 13,
   "metadata": {},
   "outputs": [],
   "source": [
    "scaled_x_test = scaler.transform(X_test)"
   ]
  },
  {
   "cell_type": "markdown",
   "metadata": {},
   "source": [
    "## Using TF-Estimator API"
   ]
  },
  {
   "cell_type": "code",
   "execution_count": 14,
   "metadata": {},
   "outputs": [],
   "source": [
    "import tensorflow as tf\n",
    "from tensorflow import estimator"
   ]
  },
  {
   "cell_type": "code",
   "execution_count": 15,
   "metadata": {},
   "outputs": [],
   "source": [
    "# Feature Columns\n",
    "feat_cols = [tf.feature_column.numeric_column('x',shape=[13])]"
   ]
  },
  {
   "cell_type": "code",
   "execution_count": 16,
   "metadata": {},
   "outputs": [
    {
     "name": "stdout",
     "output_type": "stream",
     "text": [
      "[_NumericColumn(key='x', shape=(13,), default_value=None, dtype=tf.float32, normalizer_fn=None)]\n"
     ]
    }
   ],
   "source": [
    "print(feat_cols)"
   ]
  },
  {
   "cell_type": "code",
   "execution_count": 17,
   "metadata": {},
   "outputs": [
    {
     "name": "stdout",
     "output_type": "stream",
     "text": [
      "INFO:tensorflow:Using default config.\n",
      "WARNING:tensorflow:Using temporary folder as model directory: C:\\Users\\HAREKR~1\\AppData\\Local\\Temp\\tmpg70da8im\n",
      "INFO:tensorflow:Using config: {'_log_step_count_steps': 100, '_save_summary_steps': 100, '_tf_random_seed': None, '_num_ps_replicas': 0, '_keep_checkpoint_max': 5, '_save_checkpoints_secs': 600, '_service': None, '_save_checkpoints_steps': None, '_task_id': 0, '_task_type': 'worker', '_num_worker_replicas': 1, '_session_config': None, '_is_chief': True, '_model_dir': 'C:\\\\Users\\\\HAREKR~1\\\\AppData\\\\Local\\\\Temp\\\\tmpg70da8im', '_master': '', '_cluster_spec': <tensorflow.python.training.server_lib.ClusterSpec object at 0x000001C27F9B4A20>, '_keep_checkpoint_every_n_hours': 10000}\n"
     ]
    }
   ],
   "source": [
    "model = estimator.DNNClassifier(hidden_units=[13,13,13], feature_columns=feat_cols, n_classes=3, optimizer=tf.train.AdamOptimizer(learning_rate=0.01))"
   ]
  },
  {
   "cell_type": "code",
   "execution_count": 18,
   "metadata": {},
   "outputs": [],
   "source": [
    "input_fn = estimator.inputs.numpy_input_fn(x={'x':scaled_x_train}, y=y_train, shuffle=True, batch_size=10, num_epochs=5)"
   ]
  },
  {
   "cell_type": "code",
   "execution_count": 19,
   "metadata": {},
   "outputs": [
    {
     "name": "stdout",
     "output_type": "stream",
     "text": [
      "INFO:tensorflow:Create CheckpointSaverHook.\n",
      "INFO:tensorflow:Saving checkpoints for 1 into C:\\Users\\HAREKR~1\\AppData\\Local\\Temp\\tmpg70da8im\\model.ckpt.\n",
      "INFO:tensorflow:loss = 10.906498, step = 1\n",
      "INFO:tensorflow:Saving checkpoints for 62 into C:\\Users\\HAREKR~1\\AppData\\Local\\Temp\\tmpg70da8im\\model.ckpt.\n",
      "INFO:tensorflow:Loss for final step: 1.3711512.\n"
     ]
    },
    {
     "data": {
      "text/plain": [
       "<tensorflow.python.estimator.canned.dnn.DNNClassifier at 0x1c27f9b4710>"
      ]
     },
     "execution_count": 19,
     "metadata": {},
     "output_type": "execute_result"
    }
   ],
   "source": [
    "model.train(input_fn=input_fn, steps=500)"
   ]
  },
  {
   "cell_type": "code",
   "execution_count": 20,
   "metadata": {},
   "outputs": [],
   "source": [
    "eval_fn = estimator.inputs.numpy_input_fn(x={'x':scaled_x_test}, shuffle=False)"
   ]
  },
  {
   "cell_type": "code",
   "execution_count": 21,
   "metadata": {},
   "outputs": [
    {
     "name": "stdout",
     "output_type": "stream",
     "text": [
      "INFO:tensorflow:Restoring parameters from C:\\Users\\HAREKR~1\\AppData\\Local\\Temp\\tmpg70da8im\\model.ckpt-62\n"
     ]
    }
   ],
   "source": [
    "# Predictions\n",
    "pred = list(model.predict(input_fn=eval_fn))"
   ]
  },
  {
   "cell_type": "code",
   "execution_count": 22,
   "metadata": {},
   "outputs": [
    {
     "data": {
      "text/plain": [
       "[{'class_ids': array([0], dtype=int64),\n",
       "  'classes': array([b'0'], dtype=object),\n",
       "  'logits': array([ 6.9785266,  1.6907533, -3.689112 ], dtype=float32),\n",
       "  'probabilities': array([9.9494934e-01, 5.0274790e-03, 2.3168841e-05], dtype=float32)},\n",
       " {'class_ids': array([2], dtype=int64),\n",
       "  'classes': array([b'2'], dtype=object),\n",
       "  'logits': array([-0.8731527, -2.1256049,  1.9351021], dtype=float32),\n",
       "  'probabilities': array([0.05596987, 0.01599636, 0.9280338 ], dtype=float32)},\n",
       " {'class_ids': array([1], dtype=int64),\n",
       "  'classes': array([b'1'], dtype=object),\n",
       "  'logits': array([ 4.748715 ,  7.9772315, -7.0454016], dtype=float32),\n",
       "  'probabilities': array([3.8106572e-02, 9.6189308e-01, 2.8766058e-07], dtype=float32)},\n",
       " {'class_ids': array([0], dtype=int64),\n",
       "  'classes': array([b'0'], dtype=object),\n",
       "  'logits': array([ 7.013576 ,  1.772037 , -3.7534015], dtype=float32),\n",
       "  'probabilities': array([9.9471492e-01, 5.2641369e-03, 2.0972962e-05], dtype=float32)},\n",
       " {'class_ids': array([1], dtype=int64),\n",
       "  'classes': array([b'1'], dtype=object),\n",
       "  'logits': array([ 2.1980975,  4.632695 , -3.680062 ], dtype=float32),\n",
       "  'probabilities': array([8.0554038e-02, 9.1922045e-01, 2.2554591e-04], dtype=float32)},\n",
       " {'class_ids': array([1], dtype=int64),\n",
       "  'classes': array([b'1'], dtype=object),\n",
       "  'logits': array([ 5.6268525, 11.660725 , -9.8619585], dtype=float32),\n",
       "  'probabilities': array([2.3904694e-03, 9.9760950e-01, 4.4851653e-10], dtype=float32)},\n",
       " {'class_ids': array([0], dtype=int64),\n",
       "  'classes': array([b'0'], dtype=object),\n",
       "  'logits': array([ 7.3959346,  1.9552611, -4.195784 ], dtype=float32),\n",
       "  'probabilities': array([9.9567288e-01, 4.3177977e-03, 9.2023183e-06], dtype=float32)},\n",
       " {'class_ids': array([2], dtype=int64),\n",
       "  'classes': array([b'2'], dtype=object),\n",
       "  'logits': array([-1.0295373, -0.9022997,  1.1075159], dtype=float32),\n",
       "  'probabilities': array([0.09424969, 0.10703812, 0.79871225], dtype=float32)},\n",
       " {'class_ids': array([1], dtype=int64),\n",
       "  'classes': array([b'1'], dtype=object),\n",
       "  'logits': array([ 1.7267623,  6.6379776, -4.9364505], dtype=float32),\n",
       "  'probabilities': array([7.3096403e-03, 9.9268097e-01, 9.3346762e-06], dtype=float32)},\n",
       " {'class_ids': array([1], dtype=int64),\n",
       "  'classes': array([b'1'], dtype=object),\n",
       "  'logits': array([-0.02847572,  5.425182  , -3.2536852 ], dtype=float32),\n",
       "  'probabilities': array([4.2616520e-03, 9.9556905e-01, 1.6938978e-04], dtype=float32)},\n",
       " {'class_ids': array([2], dtype=int64),\n",
       "  'classes': array([b'2'], dtype=object),\n",
       "  'logits': array([-0.5320961, -1.462036 ,  1.3274791], dtype=float32),\n",
       "  'probabilities': array([0.12794946, 0.05048597, 0.82156456], dtype=float32)},\n",
       " {'class_ids': array([2], dtype=int64),\n",
       "  'classes': array([b'2'], dtype=object),\n",
       "  'logits': array([-2.0572753, -2.0543032,  2.1923149], dtype=float32),\n",
       "  'probabilities': array([0.01387354, 0.01391483, 0.9722116 ], dtype=float32)},\n",
       " {'class_ids': array([0], dtype=int64),\n",
       "  'classes': array([b'0'], dtype=object),\n",
       "  'logits': array([ 7.8259997,  0.8444528, -3.0865297], dtype=float32),\n",
       "  'probabilities': array([9.9905378e-01, 9.2798634e-04, 1.8211165e-05], dtype=float32)},\n",
       " {'class_ids': array([1], dtype=int64),\n",
       "  'classes': array([b'1'], dtype=object),\n",
       "  'logits': array([ 5.956736,  6.593605, -6.75423 ], dtype=float32),\n",
       "  'probabilities': array([3.4595430e-01, 6.5404469e-01, 1.0440375e-06], dtype=float32)},\n",
       " {'class_ids': array([2], dtype=int64),\n",
       "  'classes': array([b'2'], dtype=object),\n",
       "  'logits': array([-1.0161095, -2.1595988,  1.950037 ], dtype=float32),\n",
       "  'probabilities': array([0.0482261 , 0.0153699 , 0.93640393], dtype=float32)},\n",
       " {'class_ids': array([1], dtype=int64),\n",
       "  'classes': array([b'1'], dtype=object),\n",
       "  'logits': array([ 2.4527597,  8.92091  , -6.721866 ], dtype=float32),\n",
       "  'probabilities': array([1.5496887e-03, 9.9845016e-01, 1.6060345e-07], dtype=float32)},\n",
       " {'class_ids': array([0], dtype=int64),\n",
       "  'classes': array([b'0'], dtype=object),\n",
       "  'logits': array([ 6.614346 ,  3.4817312, -5.093271 ], dtype=float32),\n",
       "  'probabilities': array([9.5821065e-01, 4.1781466e-02, 7.8869234e-06], dtype=float32)},\n",
       " {'class_ids': array([0], dtype=int64),\n",
       "  'classes': array([b'0'], dtype=object),\n",
       "  'logits': array([ 8.576667  ,  0.69364893, -3.1002662 ], dtype=float32),\n",
       "  'probabilities': array([9.9961460e-01, 3.7694792e-04, 8.4840822e-06], dtype=float32)},\n",
       " {'class_ids': array([1], dtype=int64),\n",
       "  'classes': array([b'1'], dtype=object),\n",
       "  'logits': array([-0.8288235,  2.195565 , -1.0327237], dtype=float32),\n",
       "  'probabilities': array([0.04464892, 0.91893786, 0.03641314], dtype=float32)},\n",
       " {'class_ids': array([0], dtype=int64),\n",
       "  'classes': array([b'0'], dtype=object),\n",
       "  'logits': array([ 7.5221286,  2.3835502, -4.58422  ], dtype=float32),\n",
       "  'probabilities': array([9.9416274e-01, 5.8317813e-03, 5.4920861e-06], dtype=float32)},\n",
       " {'class_ids': array([1], dtype=int64),\n",
       "  'classes': array([b'1'], dtype=object),\n",
       "  'logits': array([ 5.154713,  5.814633, -5.8586  ], dtype=float32),\n",
       "  'probabilities': array([3.4075573e-01, 6.5923870e-01, 5.6159342e-06], dtype=float32)},\n",
       " {'class_ids': array([0], dtype=int64),\n",
       "  'classes': array([b'0'], dtype=object),\n",
       "  'logits': array([ 4.9036355,  2.393552 , -3.7080717], dtype=float32),\n",
       "  'probabilities': array([9.2469019e-01, 7.5141668e-02, 1.6825931e-04], dtype=float32)},\n",
       " {'class_ids': array([1], dtype=int64),\n",
       "  'classes': array([b'1'], dtype=object),\n",
       "  'logits': array([ 4.3986325,  4.7487535, -4.9711037], dtype=float32),\n",
       "  'probabilities': array([4.1333851e-01, 5.8662623e-01, 3.5243669e-05], dtype=float32)},\n",
       " {'class_ids': array([1], dtype=int64),\n",
       "  'classes': array([b'1'], dtype=object),\n",
       "  'logits': array([ 3.3406339,  6.7976036, -5.7413516], dtype=float32),\n",
       "  'probabilities': array([3.0561579e-02, 9.6943498e-01, 3.4747168e-06], dtype=float32)},\n",
       " {'class_ids': array([1], dtype=int64),\n",
       "  'classes': array([b'1'], dtype=object),\n",
       "  'logits': array([-0.40779203,  4.4256043 , -2.467784  ], dtype=float32),\n",
       "  'probabilities': array([0.00788865, 0.99110585, 0.00100545], dtype=float32)},\n",
       " {'class_ids': array([1], dtype=int64),\n",
       "  'classes': array([b'1'], dtype=object),\n",
       "  'logits': array([ 1.6353747,  6.3235545, -4.726656 ], dtype=float32),\n",
       "  'probabilities': array([9.1193467e-03, 9.9086493e-01, 1.5738698e-05], dtype=float32)},\n",
       " {'class_ids': array([1], dtype=int64),\n",
       "  'classes': array([b'1'], dtype=object),\n",
       "  'logits': array([ 2.5088973,  6.137236 , -4.9988117], dtype=float32),\n",
       "  'probabilities': array([2.5872707e-02, 9.7411311e-01, 1.4199906e-05], dtype=float32)},\n",
       " {'class_ids': array([1], dtype=int64),\n",
       "  'classes': array([b'1'], dtype=object),\n",
       "  'logits': array([ 0.5613446,  6.501406 , -4.3058467], dtype=float32),\n",
       "  'probabilities': array([2.6249059e-03, 9.9735487e-01, 2.0198513e-05], dtype=float32)},\n",
       " {'class_ids': array([1], dtype=int64),\n",
       "  'classes': array([b'1'], dtype=object),\n",
       "  'logits': array([ 0.8880234,  7.120602 , -4.8582067], dtype=float32),\n",
       "  'probabilities': array([1.9605162e-03, 9.9803323e-01, 6.2634585e-06], dtype=float32)},\n",
       " {'class_ids': array([2], dtype=int64),\n",
       "  'classes': array([b'2'], dtype=object),\n",
       "  'logits': array([-1.6067458, -2.1652114,  2.0836608], dtype=float32),\n",
       "  'probabilities': array([0.02401928, 0.0137411 , 0.9622396 ], dtype=float32)},\n",
       " {'class_ids': array([0], dtype=int64),\n",
       "  'classes': array([b'0'], dtype=object),\n",
       "  'logits': array([ 6.776597 ,  2.2009027, -4.3554673], dtype=float32),\n",
       "  'probabilities': array([9.8979139e-01, 1.0194008e-02, 1.4486029e-05], dtype=float32)},\n",
       " {'class_ids': array([0], dtype=int64),\n",
       "  'classes': array([b'0'], dtype=object),\n",
       "  'logits': array([ 7.2985883,  1.7961766, -3.8600447], dtype=float32),\n",
       "  'probabilities': array([9.9592543e-01, 4.0603150e-03, 1.4193647e-05], dtype=float32)},\n",
       " {'class_ids': array([1], dtype=int64),\n",
       "  'classes': array([b'1'], dtype=object),\n",
       "  'logits': array([ 0.38736182,  4.2802925 , -2.8648102 ], dtype=float32),\n",
       "  'probabilities': array([1.9962817e-02, 9.7926486e-01, 7.7236327e-04], dtype=float32)},\n",
       " {'class_ids': array([0], dtype=int64),\n",
       "  'classes': array([b'0'], dtype=object),\n",
       "  'logits': array([ 5.7762885 ,  0.66331375, -2.6595075 ], dtype=float32),\n",
       "  'probabilities': array([9.9380350e-01, 5.9808628e-03, 2.1561599e-04], dtype=float32)},\n",
       " {'class_ids': array([0], dtype=int64),\n",
       "  'classes': array([b'0'], dtype=object),\n",
       "  'logits': array([ 6.1427593 ,  0.63648874, -2.715868  ], dtype=float32),\n",
       "  'probabilities': array([9.9581426e-01, 4.0442264e-03, 1.4155507e-04], dtype=float32)},\n",
       " {'class_ids': array([0], dtype=int64),\n",
       "  'classes': array([b'0'], dtype=object),\n",
       "  'logits': array([ 6.794335 ,  3.9259136, -5.274284 ], dtype=float32),\n",
       "  'probabilities': array([9.4625795e-01, 5.3736579e-02, 5.4284396e-06], dtype=float32)},\n",
       " {'class_ids': array([2], dtype=int64),\n",
       "  'classes': array([b'2'], dtype=object),\n",
       "  'logits': array([-1.4761934, -1.3756844,  1.5907722], dtype=float32),\n",
       "  'probabilities': array([0.04240457, 0.04688816, 0.9107073 ], dtype=float32)},\n",
       " {'class_ids': array([1], dtype=int64),\n",
       "  'classes': array([b'1'], dtype=object),\n",
       "  'logits': array([-1.1466235,  3.5058298, -1.5986845], dtype=float32),\n",
       "  'probabilities': array([0.00939159, 0.9846324 , 0.00597602], dtype=float32)},\n",
       " {'class_ids': array([1], dtype=int64),\n",
       "  'classes': array([b'1'], dtype=object),\n",
       "  'logits': array([ 3.5937657,  8.378503 , -6.7607584], dtype=float32),\n",
       "  'probabilities': array([8.2870694e-03, 9.9171269e-01, 2.6392968e-07], dtype=float32)},\n",
       " {'class_ids': array([2], dtype=int64),\n",
       "  'classes': array([b'2'], dtype=object),\n",
       "  'logits': array([-1.1548609, -2.063905 ,  1.9498382], dtype=float32),\n",
       "  'probabilities': array([0.04218445, 0.0169965 , 0.940819  ], dtype=float32)},\n",
       " {'class_ids': array([1], dtype=int64),\n",
       "  'classes': array([b'1'], dtype=object),\n",
       "  'logits': array([ 5.674536 ,  5.742826 , -6.1588545], dtype=float32),\n",
       "  'probabilities': array([4.8293248e-01, 5.1706398e-01, 3.5051801e-06], dtype=float32)},\n",
       " {'class_ids': array([0], dtype=int64),\n",
       "  'classes': array([b'0'], dtype=object),\n",
       "  'logits': array([ 6.8186707,  1.947457 , -4.148177 ], dtype=float32),\n",
       "  'probabilities': array([9.9237716e-01, 7.6056342e-03, 1.7133063e-05], dtype=float32)},\n",
       " {'class_ids': array([1], dtype=int64),\n",
       "  'classes': array([b'1'], dtype=object),\n",
       "  'logits': array([ 2.7943957,  8.660378 , -6.574132 ], dtype=float32),\n",
       "  'probabilities': array([2.8262248e-03, 9.9717355e-01, 2.4127201e-07], dtype=float32)},\n",
       " {'class_ids': array([1], dtype=int64),\n",
       "  'classes': array([b'1'], dtype=object),\n",
       "  'logits': array([ 1.2026355,  4.8737016, -3.611227 ], dtype=float32),\n",
       "  'probabilities': array([2.4812732e-02, 9.7498590e-01, 2.0139136e-04], dtype=float32)},\n",
       " {'class_ids': array([1], dtype=int64),\n",
       "  'classes': array([b'1'], dtype=object),\n",
       "  'logits': array([ 1.4045485,  6.970435 , -5.0161157], dtype=float32),\n",
       "  'probabilities': array([3.8115799e-03, 9.9618226e-01, 6.2036274e-06], dtype=float32)},\n",
       " {'class_ids': array([0], dtype=int64),\n",
       "  'classes': array([b'0'], dtype=object),\n",
       "  'logits': array([ 6.8489566,  2.528589 , -4.526569 ], dtype=float32),\n",
       "  'probabilities': array([9.8686838e-01, 1.3120408e-02, 1.1322212e-05], dtype=float32)},\n",
       " {'class_ids': array([2], dtype=int64),\n",
       "  'classes': array([b'2'], dtype=object),\n",
       "  'logits': array([-1.7053485, -1.0968639,  1.5401664], dtype=float32),\n",
       "  'probabilities': array([0.03507225, 0.06445034, 0.9004774 ], dtype=float32)},\n",
       " {'class_ids': array([1], dtype=int64),\n",
       "  'classes': array([b'1'], dtype=object),\n",
       "  'logits': array([ 6.1661177,  6.186759 , -6.412075 ], dtype=float32),\n",
       "  'probabilities': array([4.9483904e-01, 5.0515932e-01, 1.7053922e-06], dtype=float32)},\n",
       " {'class_ids': array([2], dtype=int64),\n",
       "  'classes': array([b'2'], dtype=object),\n",
       "  'logits': array([ 0.49845326, -1.492786  ,  1.1657233 ], dtype=float32),\n",
       "  'probabilities': array([0.32410333, 0.04424858, 0.6316481 ], dtype=float32)},\n",
       " {'class_ids': array([0], dtype=int64),\n",
       "  'classes': array([b'0'], dtype=object),\n",
       "  'logits': array([ 6.4992604 ,  0.69969046, -2.8671877 ], dtype=float32),\n",
       "  'probabilities': array([9.9689519e-01, 3.0194526e-03, 8.5281070e-05], dtype=float32)},\n",
       " {'class_ids': array([2], dtype=int64),\n",
       "  'classes': array([b'2'], dtype=object),\n",
       "  'logits': array([-0.9411883, -1.2308968,  1.2854478], dtype=float32),\n",
       "  'probabilities': array([0.09076785, 0.06793808, 0.84129405], dtype=float32)},\n",
       " {'class_ids': array([2], dtype=int64),\n",
       "  'classes': array([b'2'], dtype=object),\n",
       "  'logits': array([-2.0522923, -1.3385231,  1.8549474], dtype=float32),\n",
       "  'probabilities': array([0.01893829, 0.03866578, 0.9423959 ], dtype=float32)},\n",
       " {'class_ids': array([0], dtype=int64),\n",
       "  'classes': array([b'0'], dtype=object),\n",
       "  'logits': array([ 7.125936 ,  3.950812 , -5.3808346], dtype=float32),\n",
       "  'probabilities': array([9.5988393e-01, 4.0112518e-02, 3.5530152e-06], dtype=float32)},\n",
       " {'class_ids': array([2], dtype=int64),\n",
       "  'classes': array([b'2'], dtype=object),\n",
       "  'logits': array([ 0.02285494, -2.4883003 ,  1.9814284 ], dtype=float32),\n",
       "  'probabilities': array([0.12239331, 0.00993521, 0.8676715 ], dtype=float32)}]"
      ]
     },
     "execution_count": 22,
     "metadata": {},
     "output_type": "execute_result"
    }
   ],
   "source": [
    "pred"
   ]
  },
  {
   "cell_type": "code",
   "execution_count": 23,
   "metadata": {},
   "outputs": [],
   "source": [
    "predictions = [p['class_ids'][0] for p in pred]"
   ]
  },
  {
   "cell_type": "code",
   "execution_count": 24,
   "metadata": {},
   "outputs": [],
   "source": [
    "from sklearn.metrics import confusion_matrix, classification_report"
   ]
  },
  {
   "cell_type": "code",
   "execution_count": 25,
   "metadata": {},
   "outputs": [
    {
     "name": "stdout",
     "output_type": "stream",
     "text": [
      "             precision    recall  f1-score   support\n",
      "\n",
      "          0       1.00      0.89      0.94        19\n",
      "          1       0.92      1.00      0.96        22\n",
      "          2       1.00      1.00      1.00        13\n",
      "\n",
      "avg / total       0.97      0.96      0.96        54\n",
      "\n"
     ]
    }
   ],
   "source": [
    "print(classification_report(y_test, predictions))"
   ]
  }
 ],
 "metadata": {
  "kernelspec": {
   "display_name": "Python 3",
   "language": "python",
   "name": "python3"
  },
  "language_info": {
   "codemirror_mode": {
    "name": "ipython",
    "version": 3
   },
   "file_extension": ".py",
   "mimetype": "text/x-python",
   "name": "python",
   "nbconvert_exporter": "python",
   "pygments_lexer": "ipython3",
   "version": "3.5.3"
  }
 },
 "nbformat": 4,
 "nbformat_minor": 2
}
