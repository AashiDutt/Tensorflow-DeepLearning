{
 "cells": [
  {
   "cell_type": "code",
   "execution_count": 1,
   "metadata": {
    "collapsed": true,
    "deletable": true,
    "editable": true
   },
   "outputs": [],
   "source": [
    "# Import Dependencies\n",
    "import glob\n",
    "import pickle\n",
    "import numpy as np\n",
    "import pandas as pd\n",
    "import tensorflow as tf\n",
    "import matplotlib.pyplot as plt\n",
    "%matplotlib inline"
   ]
  },
  {
   "cell_type": "code",
   "execution_count": 2,
   "metadata": {
    "collapsed": true,
    "deletable": true,
    "editable": true
   },
   "outputs": [],
   "source": [
    "# Unpickle Data [Train + Test]\n",
    "def load_data(file):\n",
    "    with open(file,'rb') as f:\n",
    "        cifar_dict = pickle.load(f, encoding='bytes')\n",
    "    return cifar_dict"
   ]
  },
  {
   "cell_type": "code",
   "execution_count": 3,
   "metadata": {
    "collapsed": false
   },
   "outputs": [],
   "source": [
    "# Load Data\n",
    "dataset = [0,1,2,3,4,5,6]\n",
    "i = 0\n",
    "for files in glob.glob('./cifar-10-batches-py/*'):\n",
    "    dataset[i] = load_data(files)\n",
    "    i += 1"
   ]
  },
  {
   "cell_type": "code",
   "execution_count": 4,
   "metadata": {
    "collapsed": false
   },
   "outputs": [],
   "source": [
    "# Separate data into training and test\n",
    "batches = dataset[0]\n",
    "data_batch1 = dataset[1]\n",
    "data_batch2 = dataset[2]\n",
    "data_batch3 = dataset[3]\n",
    "data_batch4 = dataset[4]\n",
    "data_batch5 = dataset[5]\n",
    "test_data = dataset[6]"
   ]
  },
  {
   "cell_type": "code",
   "execution_count": 5,
   "metadata": {
    "collapsed": false
   },
   "outputs": [
    {
     "data": {
      "text/plain": [
       "{b'label_names': [b'airplane',\n",
       "  b'automobile',\n",
       "  b'bird',\n",
       "  b'cat',\n",
       "  b'deer',\n",
       "  b'dog',\n",
       "  b'frog',\n",
       "  b'horse',\n",
       "  b'ship',\n",
       "  b'truck'],\n",
       " b'num_cases_per_batch': 10000,\n",
       " b'num_vis': 3072}"
      ]
     },
     "execution_count": 5,
     "metadata": {},
     "output_type": "execute_result"
    }
   ],
   "source": [
    "# Metadata for Dataset\n",
    "batches"
   ]
  },
  {
   "cell_type": "code",
   "execution_count": 6,
   "metadata": {
    "collapsed": false
   },
   "outputs": [
    {
     "data": {
      "text/plain": [
       "dict_keys([b'filenames', b'data', b'batch_label', b'labels'])"
      ]
     },
     "execution_count": 6,
     "metadata": {},
     "output_type": "execute_result"
    }
   ],
   "source": [
    "data_batch1.keys()"
   ]
  },
  {
   "cell_type": "markdown",
   "metadata": {},
   "source": [
    "**data:** 10000 x 3072 numpy array. Each row of array stores a 32 x 32 color image. First 1024 entries contain **red channel** values, the second 1024 entries contain **green channel** values and the third one has the **blue channel** values.\n",
    "\n",
    "**labels:** 10,000 values with range 0 to 9."
   ]
  },
  {
   "cell_type": "code",
   "execution_count": 7,
   "metadata": {
    "collapsed": false
   },
   "outputs": [
    {
     "data": {
      "text/plain": [
       "(10000, 3072)"
      ]
     },
     "execution_count": 7,
     "metadata": {},
     "output_type": "execute_result"
    }
   ],
   "source": [
    "# Check the Shape and Size of Images\n",
    "data_batch1[b'data'].shape"
   ]
  },
  {
   "cell_type": "code",
   "execution_count": 8,
   "metadata": {
    "collapsed": false
   },
   "outputs": [
    {
     "data": {
      "text/plain": [
       "(3072,)"
      ]
     },
     "execution_count": 8,
     "metadata": {},
     "output_type": "execute_result"
    }
   ],
   "source": [
    "# Size of a single image\n",
    "data_batch1[b'data'][0].shape"
   ]
  },
  {
   "cell_type": "markdown",
   "metadata": {},
   "source": [
    "We have a set of 10,000 images i.e. 10,000 rows. The columns value 3072 is derived from the fact that each image is a 32 x 32 RGB image. \n",
    "\n",
    "So, size of an RGB Image:\n",
    "\n",
    "**32 x 32 x 3 => 3072**, \n",
    "\n",
    "where, 3 is the number of channels for an RGB image.\n",
    "\n",
    "Since, the iamges are present in forms of RGB pixels across the rows, we will reshape them into a Matrix of pixel values i.e.\n",
    "\n",
    "**3072  =>  32 x 32 x 3**"
   ]
  },
  {
   "cell_type": "code",
   "execution_count": 9,
   "metadata": {
    "collapsed": true
   },
   "outputs": [],
   "source": [
    "# Display a single image\n",
    "# Load image and reshape\n",
    "X = data_batch1[b'data']\n",
    "X = X.reshape(10000,3,32,32).transpose(0,2,3,1).astype('uint8')"
   ]
  },
  {
   "cell_type": "code",
   "execution_count": 10,
   "metadata": {
    "collapsed": false
   },
   "outputs": [
    {
     "data": {
      "text/plain": [
       "(32, 32, 3)"
      ]
     },
     "execution_count": 10,
     "metadata": {},
     "output_type": "execute_result"
    }
   ],
   "source": [
    "# Shape of single image after processing\n",
    "X[0].shape"
   ]
  },
  {
   "cell_type": "code",
   "execution_count": 11,
   "metadata": {
    "collapsed": false
   },
   "outputs": [
    {
     "data": {
      "text/plain": [
       "<matplotlib.image.AxesImage at 0x27751dc5908>"
      ]
     },
     "execution_count": 11,
     "metadata": {},
     "output_type": "execute_result"
    },
    {
     "data": {
      "image/png": "[encoded data removed]",
      "text/plain": [
       "<matplotlib.figure.Figure at 0x27751527b00>"
      ]
     },
     "metadata": {},
     "output_type": "display_data"
    }
   ],
   "source": [
    "# Plot single image\n",
    "plt.imshow(X[0])"
   ]
  },
  {
   "cell_type": "markdown",
   "metadata": {},
   "source": [
    "### Why use Reshape and Transpose ?"
   ]
  },
  {
   "cell_type": "code",
   "execution_count": 12,
   "metadata": {
    "collapsed": true
   },
   "outputs": [],
   "source": [
    "# Reshape IMage by Image\n",
    "X = data_batch1[b'data']"
   ]
  },
  {
   "cell_type": "code",
   "execution_count": 13,
   "metadata": {
    "collapsed": false
   },
   "outputs": [],
   "source": [
    "all_images = X.reshape(10000,3,32,32)"
   ]
  },
  {
   "cell_type": "code",
   "execution_count": 14,
   "metadata": {
    "collapsed": true
   },
   "outputs": [],
   "source": [
    "sample_image = all_images[0]"
   ]
  },
  {
   "cell_type": "code",
   "execution_count": 15,
   "metadata": {
    "collapsed": false
   },
   "outputs": [
    {
     "data": {
      "text/plain": [
       "array([[[ 59,  43,  50, ..., 158, 152, 148],\n",
       "        [ 16,   0,  18, ..., 123, 119, 122],\n",
       "        [ 25,  16,  49, ..., 118, 120, 109],\n",
       "        ..., \n",
       "        [208, 201, 198, ..., 160,  56,  53],\n",
       "        [180, 173, 186, ..., 184,  97,  83],\n",
       "        [177, 168, 179, ..., 216, 151, 123]],\n",
       "\n",
       "       [[ 62,  46,  48, ..., 132, 125, 124],\n",
       "        [ 20,   0,   8, ...,  88,  83,  87],\n",
       "        [ 24,   7,  27, ...,  84,  84,  73],\n",
       "        ..., \n",
       "        [170, 153, 161, ..., 133,  31,  34],\n",
       "        [139, 123, 144, ..., 148,  62,  53],\n",
       "        [144, 129, 142, ..., 184, 118,  92]],\n",
       "\n",
       "       [[ 63,  45,  43, ..., 108, 102, 103],\n",
       "        [ 20,   0,   0, ...,  55,  50,  57],\n",
       "        [ 21,   0,   8, ...,  50,  50,  42],\n",
       "        ..., \n",
       "        [ 96,  34,  26, ...,  70,   7,  20],\n",
       "        [ 96,  42,  30, ...,  94,  34,  34],\n",
       "        [116,  94,  87, ..., 140,  84,  72]]], dtype=uint8)"
      ]
     },
     "execution_count": 15,
     "metadata": {},
     "output_type": "execute_result"
    }
   ],
   "source": [
    "sample_image"
   ]
  },
  {
   "cell_type": "code",
   "execution_count": 16,
   "metadata": {
    "collapsed": false
   },
   "outputs": [
    {
     "data": {
      "text/plain": [
       "(3, 32, 32)"
      ]
     },
     "execution_count": 16,
     "metadata": {},
     "output_type": "execute_result"
    }
   ],
   "source": [
    "sample_image.shape"
   ]
  },
  {
   "cell_type": "markdown",
   "metadata": {},
   "source": [
    "Since, the image using the simple reshape without transpose has a shape of **3,32,32** which is not accepted by the matplotlib's plt.imshow() function, so we need to take a transpose of the image data to convert it from:\n",
    "\n",
    "**(3,32,32)  =>  (32,32,3)**"
   ]
  },
  {
   "cell_type": "code",
   "execution_count": 17,
   "metadata": {
    "collapsed": false
   },
   "outputs": [
    {
     "data": {
      "text/plain": [
       "array([[[ 59,  62,  63],\n",
       "        [ 43,  46,  45],\n",
       "        [ 50,  48,  43],\n",
       "        ..., \n",
       "        [158, 132, 108],\n",
       "        [152, 125, 102],\n",
       "        [148, 124, 103]],\n",
       "\n",
       "       [[ 16,  20,  20],\n",
       "        [  0,   0,   0],\n",
       "        [ 18,   8,   0],\n",
       "        ..., \n",
       "        [123,  88,  55],\n",
       "        [119,  83,  50],\n",
       "        [122,  87,  57]],\n",
       "\n",
       "       [[ 25,  24,  21],\n",
       "        [ 16,   7,   0],\n",
       "        [ 49,  27,   8],\n",
       "        ..., \n",
       "        [118,  84,  50],\n",
       "        [120,  84,  50],\n",
       "        [109,  73,  42]],\n",
       "\n",
       "       ..., \n",
       "       [[208, 170,  96],\n",
       "        [201, 153,  34],\n",
       "        [198, 161,  26],\n",
       "        ..., \n",
       "        [160, 133,  70],\n",
       "        [ 56,  31,   7],\n",
       "        [ 53,  34,  20]],\n",
       "\n",
       "       [[180, 139,  96],\n",
       "        [173, 123,  42],\n",
       "        [186, 144,  30],\n",
       "        ..., \n",
       "        [184, 148,  94],\n",
       "        [ 97,  62,  34],\n",
       "        [ 83,  53,  34]],\n",
       "\n",
       "       [[177, 144, 116],\n",
       "        [168, 129,  94],\n",
       "        [179, 142,  87],\n",
       "        ..., \n",
       "        [216, 184, 140],\n",
       "        [151, 118,  84],\n",
       "        [123,  92,  72]]], dtype=uint8)"
      ]
     },
     "execution_count": 17,
     "metadata": {},
     "output_type": "execute_result"
    }
   ],
   "source": [
    "# Tranpose the image\n",
    "# Take value at axis 1 and 2 in original image i.e. 32,32 to axis 0 and 1.  =>  (3,32,32)  => (32,32,)\n",
    "# Take value from axis 0 to axis 2 i.e. 3 to axis 2. =>  (3,32,32)  => (32,32,3)\n",
    "sample_image.transpose(1,2,0)"
   ]
  },
  {
   "cell_type": "code",
   "execution_count": 18,
   "metadata": {
    "collapsed": false
   },
   "outputs": [
    {
     "data": {
      "text/plain": [
       "(32, 32, 3)"
      ]
     },
     "execution_count": 18,
     "metadata": {},
     "output_type": "execute_result"
    }
   ],
   "source": [
    "sample_image.transpose(1,2,0).shape"
   ]
  },
  {
   "cell_type": "code",
   "execution_count": 19,
   "metadata": {
    "collapsed": false
   },
   "outputs": [
    {
     "data": {
      "text/plain": [
       "<matplotlib.image.AxesImage at 0x27752e4bf60>"
      ]
     },
     "execution_count": 19,
     "metadata": {},
     "output_type": "execute_result"
    },
    {
     "data": {
      "image/png": "[encoded data removed]",
      "text/plain": [
       "<matplotlib.figure.Figure at 0x27751dcf358>"
      ]
     },
     "metadata": {},
     "output_type": "display_data"
    }
   ],
   "source": [
    "plt.imshow(sample_image.transpose(1,2,0))"
   ]
  },
  {
   "cell_type": "markdown",
   "metadata": {},
   "source": [
    "## Helper Functions"
   ]
  },
  {
   "cell_type": "code",
   "execution_count": 21,
   "metadata": {
    "collapsed": true
   },
   "outputs": [],
   "source": [
    "# One Hot Encoding for Labels\n",
    "def one_hot_encode(vec, vals=10):\n",
    "    n = len(vec)\n",
    "    out = np.zeros((n, vals))\n",
    "    out[range(n), vec] = 1\n",
    "    return out"
   ]
  },
  {
   "cell_type": "code",
   "execution_count": 22,
   "metadata": {
    "collapsed": true
   },
   "outputs": [],
   "source": [
    "class CifarHelper():\n",
    "    \n",
    "    def __init__(self):\n",
    "        self.train_data = [data_batch1, data_batch2, data_batch3, data_batch4, data_batch5]\n",
    "        self.test_data = [test_data]\n",
    "        \n",
    "        # Initialize Variables\n",
    "        self.training_images = None\n",
    "        self.training_labels = None\n",
    "        \n",
    "        self.test_images = None\n",
    "        self.test_labels = None\n",
    "    \n",
    "    # Normalize and Reshape Images\n",
    "    def set_up_images(self):\n",
    "        print('Setting up Training Images and Lables !!')\n",
    "        \n",
    "        # Vertically stack training images\n",
    "        self.training_images = np.vstack([d[b'data'] for d in self.train_data])\n",
    "        train_len = len(self.training_images)\n",
    "        \n",
    "        # Reshape and Normalize Training Images\n",
    "        self.training_images = self.training_images.reshape(train_len, 3, 32, 32).transpose(0,2,3,1) / 255\n",
    "        self.training_labels = one_hot_encode(np.hstack([d[b'labels'] for d in self.train_data]))\n",
    "        \n",
    "        print('Setting up Test Images and Lables !!')\n",
    "        \n",
    "        # Vertically stack training images\n",
    "        self.test_images = np.vstack([d[b'data'] for d in self.test_data])\n",
    "        test_len = len(self.test_images)\n",
    "        \n",
    "        # Reshape and Normalize Training Images\n",
    "        self.test_images = self.test_images.reshape(test_len, 3, 32, 32).transpose(0,2,3,1) / 255\n",
    "        self.test_labels = one_hot_encode(np.hstack([d[b'labels'] for d in self.test_data]), 10)\n",
    "    \n",
    "    # Make Data Batches\n",
    "    def next_batch(self, batch_size):\n",
    "        x = self.training_images[self.i:self.i+batch_size].reshape(100,32,32,3)\n",
    "        y = self.training_labels[self.i:self.i+batch_size]\n",
    "        self.i = (self.i + batch_size) % len(self.training_images)\n",
    "        return x, y"
   ]
  },
  {
   "cell_type": "code",
   "execution_count": null,
   "metadata": {
    "collapsed": true
   },
   "outputs": [],
   "source": []
  }
 ],
 "metadata": {
  "kernelspec": {
   "display_name": "Python 3",
   "language": "python",
   "name": "python3"
  },
  "language_info": {
   "codemirror_mode": {
    "name": "ipython",
    "version": 3
   },
   "file_extension": ".py",
   "mimetype": "text/x-python",
   "name": "python",
   "nbconvert_exporter": "python",
   "pygments_lexer": "ipython3",
   "version": "3.5.3"
  }
 },
 "nbformat": 4,
 "nbformat_minor": 2
}
